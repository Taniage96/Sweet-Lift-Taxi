{
 "cells": [
  {
   "cell_type": "markdown",
   "metadata": {},
   "source": [
    "# Project Description\n",
    "\n",
    "The Sweet Lift Taxi company has compiled historical data on taxi orders at airports. To attract more drivers during peak hours, we need to predict the amount of taxi orders for the next hour. Build a model for this prediction.\n",
    "\n",
    "The recm metric in the test set should not exceed 48.\n",
    "\n",
    "## Project instructions.\n",
    "\n",
    "1. Download the data and do the rig for an hour.\n",
    "2. Analyze the data\n",
    "3. Train different models with different hyperparameters. The test sample must be 10% of the initial data set. 4. Try the data using the test sample and provide a conclusion.\n",
    "\n",
    "## Data Description\n",
    "\n",
    "The data is stored in the `taxi.csv` file. \t\n",
    "The number of orders is in the `num_orders` column."
   ]
  },
  {
   "cell_type": "markdown",
   "metadata": {},
   "source": [
    "## import libraries"
   ]
  },
  {
   "cell_type": "code",
   "execution_count": 390,
   "metadata": {},
   "outputs": [],
   "source": [
    "import numpy as np\n",
    "import pandas as pd\n",
    "import math\n",
    "import time\n",
    "import matplotlib.pyplot as plt\n",
    "import sklearn.linear_model\n",
    "import sklearn.metrics\n",
    "import lightgbm as lgb\n",
    "import xgboost as xgb\n",
    "from sklearn.preprocessing import LabelEncoder\n",
    "from sklearn.model_selection import train_test_split, GridSearchCV, TimeSeriesSplit\n",
    "from sklearn.ensemble import RandomForestRegressor\n",
    "from statsmodels.tsa.seasonal import seasonal_decompose\n",
    "from sklearn.linear_model import LogisticRegression\n",
    "from sklearn.tree import DecisionTreeClassifier\n",
    "from sklearn.linear_model import LinearRegression\n",
    "from sklearn.metrics import mean_squared_error, r2_score \n",
    "from sklearn.preprocessing import StandardScaler\n",
    "from sklearn.metrics import f1_score, confusion_matrix\n",
    "from sklearn.preprocessing import MaxAbsScaler\n",
    "from catboost import CatBoostRegressor\n",
    "from sklearn.metrics import roc_auc_score\n",
    "from statsmodels.tsa.seasonal import seasonal_decompose\n",
    "from tensorflow.keras.models import Sequential\n",
    "from scikeras.wrappers import KerasRegressor\n",
    "from tensorflow import keras\n",
    "from tensorflow.keras.layers import Input, Dense, Dropout\n",
    "from tensorflow.keras.models import Model\n",
    "from tensorflow.keras.callbacks import EarlyStopping\n",
    "from tensorflow.keras.regularizers import l2\n"
   ]
  },
  {
   "cell_type": "markdown",
   "metadata": {},
   "source": [
    "## Preparación"
   ]
  },
  {
   "cell_type": "code",
   "execution_count": 391,
   "metadata": {},
   "outputs": [
    {
     "data": {
      "text/html": [
       "<div>\n",
       "<style scoped>\n",
       "    .dataframe tbody tr th:only-of-type {\n",
       "        vertical-align: middle;\n",
       "    }\n",
       "\n",
       "    .dataframe tbody tr th {\n",
       "        vertical-align: top;\n",
       "    }\n",
       "\n",
       "    .dataframe thead th {\n",
       "        text-align: right;\n",
       "    }\n",
       "</style>\n",
       "<table border=\"1\" class=\"dataframe\">\n",
       "  <thead>\n",
       "    <tr style=\"text-align: right;\">\n",
       "      <th></th>\n",
       "      <th>num_orders</th>\n",
       "    </tr>\n",
       "    <tr>\n",
       "      <th>datetime</th>\n",
       "      <th></th>\n",
       "    </tr>\n",
       "  </thead>\n",
       "  <tbody>\n",
       "    <tr>\n",
       "      <th>2018-03-01 00:00:00</th>\n",
       "      <td>9</td>\n",
       "    </tr>\n",
       "    <tr>\n",
       "      <th>2018-03-01 00:10:00</th>\n",
       "      <td>14</td>\n",
       "    </tr>\n",
       "    <tr>\n",
       "      <th>2018-03-01 00:20:00</th>\n",
       "      <td>28</td>\n",
       "    </tr>\n",
       "    <tr>\n",
       "      <th>2018-03-01 00:30:00</th>\n",
       "      <td>20</td>\n",
       "    </tr>\n",
       "    <tr>\n",
       "      <th>2018-03-01 00:40:00</th>\n",
       "      <td>32</td>\n",
       "    </tr>\n",
       "  </tbody>\n",
       "</table>\n",
       "</div>"
      ],
      "text/plain": [
       "                     num_orders\n",
       "datetime                       \n",
       "2018-03-01 00:00:00           9\n",
       "2018-03-01 00:10:00          14\n",
       "2018-03-01 00:20:00          28\n",
       "2018-03-01 00:30:00          20\n",
       "2018-03-01 00:40:00          32"
      ]
     },
     "execution_count": 391,
     "metadata": {},
     "output_type": "execute_result"
    }
   ],
   "source": [
    "#import data\n",
    "df = pd.read_csv('taxi.csv', index_col=[0],parse_dates=[0])\n",
    "df.head()"
   ]
  },
  {
   "cell_type": "code",
   "execution_count": 392,
   "metadata": {},
   "outputs": [],
   "source": [
    "#Sorts the DataFrame by its index in ascending order. \n",
    "df.sort_index(inplace=True)"
   ]
  },
  {
   "cell_type": "code",
   "execution_count": 393,
   "metadata": {},
   "outputs": [
    {
     "name": "stderr",
     "output_type": "stream",
     "text": [
      "/var/folders/zz/1lh114c55jj9tjb2vztk4z340000gq/T/ipykernel_1017/3472708785.py:2: FutureWarning: 'H' is deprecated and will be removed in a future version, please use 'h' instead.\n",
      "  df =df.resample('H').sum()\n"
     ]
    }
   ],
   "source": [
    "# Resample the DataFrame by hour ('H') and sum the values within each hour\n",
    "df =df.resample('H').sum()"
   ]
  },
  {
   "cell_type": "code",
   "execution_count": 394,
   "metadata": {},
   "outputs": [
    {
     "name": "stdout",
     "output_type": "stream",
     "text": [
      "<class 'pandas.core.frame.DataFrame'>\n",
      "DatetimeIndex: 4416 entries, 2018-03-01 00:00:00 to 2018-08-31 23:00:00\n",
      "Freq: h\n",
      "Data columns (total 1 columns):\n",
      " #   Column      Non-Null Count  Dtype\n",
      "---  ------      --------------  -----\n",
      " 0   num_orders  4416 non-null   int64\n",
      "dtypes: int64(1)\n",
      "memory usage: 69.0 KB\n"
     ]
    }
   ],
   "source": [
    "#Analyze general information\n",
    "df.info()"
   ]
  },
  {
   "cell_type": "code",
   "execution_count": 395,
   "metadata": {},
   "outputs": [
    {
     "data": {
      "text/html": [
       "<div>\n",
       "<style scoped>\n",
       "    .dataframe tbody tr th:only-of-type {\n",
       "        vertical-align: middle;\n",
       "    }\n",
       "\n",
       "    .dataframe tbody tr th {\n",
       "        vertical-align: top;\n",
       "    }\n",
       "\n",
       "    .dataframe thead th {\n",
       "        text-align: right;\n",
       "    }\n",
       "</style>\n",
       "<table border=\"1\" class=\"dataframe\">\n",
       "  <thead>\n",
       "    <tr style=\"text-align: right;\">\n",
       "      <th></th>\n",
       "      <th>num_orders</th>\n",
       "    </tr>\n",
       "  </thead>\n",
       "  <tbody>\n",
       "    <tr>\n",
       "      <th>count</th>\n",
       "      <td>4416.000000</td>\n",
       "    </tr>\n",
       "    <tr>\n",
       "      <th>mean</th>\n",
       "      <td>84.422781</td>\n",
       "    </tr>\n",
       "    <tr>\n",
       "      <th>std</th>\n",
       "      <td>45.023853</td>\n",
       "    </tr>\n",
       "    <tr>\n",
       "      <th>min</th>\n",
       "      <td>0.000000</td>\n",
       "    </tr>\n",
       "    <tr>\n",
       "      <th>25%</th>\n",
       "      <td>54.000000</td>\n",
       "    </tr>\n",
       "    <tr>\n",
       "      <th>50%</th>\n",
       "      <td>78.000000</td>\n",
       "    </tr>\n",
       "    <tr>\n",
       "      <th>75%</th>\n",
       "      <td>107.000000</td>\n",
       "    </tr>\n",
       "    <tr>\n",
       "      <th>max</th>\n",
       "      <td>462.000000</td>\n",
       "    </tr>\n",
       "  </tbody>\n",
       "</table>\n",
       "</div>"
      ],
      "text/plain": [
       "        num_orders\n",
       "count  4416.000000\n",
       "mean     84.422781\n",
       "std      45.023853\n",
       "min       0.000000\n",
       "25%      54.000000\n",
       "50%      78.000000\n",
       "75%     107.000000\n",
       "max     462.000000"
      ]
     },
     "execution_count": 395,
     "metadata": {},
     "output_type": "execute_result"
    }
   ],
   "source": [
    "#generate descriptive statistics for the numerical columns in the DataFrame \n",
    "df.describe()"
   ]
  },
  {
   "cell_type": "code",
   "execution_count": 396,
   "metadata": {},
   "outputs": [
    {
     "data": {
      "text/html": [
       "<div>\n",
       "<style scoped>\n",
       "    .dataframe tbody tr th:only-of-type {\n",
       "        vertical-align: middle;\n",
       "    }\n",
       "\n",
       "    .dataframe tbody tr th {\n",
       "        vertical-align: top;\n",
       "    }\n",
       "\n",
       "    .dataframe thead th {\n",
       "        text-align: right;\n",
       "    }\n",
       "</style>\n",
       "<table border=\"1\" class=\"dataframe\">\n",
       "  <thead>\n",
       "    <tr style=\"text-align: right;\">\n",
       "      <th></th>\n",
       "      <th>num_orders</th>\n",
       "    </tr>\n",
       "    <tr>\n",
       "      <th>datetime</th>\n",
       "      <th></th>\n",
       "    </tr>\n",
       "  </thead>\n",
       "  <tbody>\n",
       "    <tr>\n",
       "      <th>2018-03-01 00:00:00</th>\n",
       "      <td>124</td>\n",
       "    </tr>\n",
       "    <tr>\n",
       "      <th>2018-03-01 01:00:00</th>\n",
       "      <td>85</td>\n",
       "    </tr>\n",
       "    <tr>\n",
       "      <th>2018-03-01 02:00:00</th>\n",
       "      <td>71</td>\n",
       "    </tr>\n",
       "    <tr>\n",
       "      <th>2018-03-01 03:00:00</th>\n",
       "      <td>66</td>\n",
       "    </tr>\n",
       "    <tr>\n",
       "      <th>2018-03-01 04:00:00</th>\n",
       "      <td>43</td>\n",
       "    </tr>\n",
       "  </tbody>\n",
       "</table>\n",
       "</div>"
      ],
      "text/plain": [
       "                     num_orders\n",
       "datetime                       \n",
       "2018-03-01 00:00:00         124\n",
       "2018-03-01 01:00:00          85\n",
       "2018-03-01 02:00:00          71\n",
       "2018-03-01 03:00:00          66\n",
       "2018-03-01 04:00:00          43"
      ]
     },
     "execution_count": 396,
     "metadata": {},
     "output_type": "execute_result"
    }
   ],
   "source": [
    "#Print the first 5 lines of the Dataframe\n",
    "df.head()"
   ]
  },
  {
   "cell_type": "markdown",
   "metadata": {},
   "source": [
    "## Analysis"
   ]
  },
  {
   "cell_type": "code",
   "execution_count": 399,
   "metadata": {},
   "outputs": [
    {
     "data": {
      "image/png": "[encoded data removed]",
      "text/plain": [
       "<Figure size 1200x1000 with 3 Axes>"
      ]
     },
     "metadata": {},
     "output_type": "display_data"
    }
   ],
   "source": [
    "# Decompose the time series into trend, seasonality, and residual components\n",
    "decomposed = seasonal_decompose(df) \n",
    "\n",
    "# Create a figure with specified size\n",
    "plt.figure(figsize=(12,10))\n",
    "\n",
    "# Adjust spacing between subplots\n",
    "plt.subplots_adjust(hspace=0.5)\n",
    "\n",
    "# Create the first subplot for the trend component\n",
    "plt.subplot(311)  # 3 rows, 1 column, 1st subplot\n",
    "decomposed.trend.plot(ax=plt.gca()) \n",
    "plt.title('Trend')\n",
    "\n",
    "# Create the second subplot for the seasonality component\n",
    "plt.subplot(312)  # 3 rows, 1 column, 2nd subplot\n",
    "decomposed.seasonal.plot(ax=plt.gca())\n",
    "plt.title('Seasonality')\n",
    "plt.ylabel('Number of orders')\n",
    "# Create the third subplot for the residual component\n",
    "plt.subplot(313)  # 3 rows, 1 column, 3rd subplot\n",
    "decomposed.resid.plot(ax=plt.gca()) \n",
    "plt.title('Residual')\n",
    "\n",
    "# Show the plot\n",
    "plt.show()"
   ]
  },
  {
   "cell_type": "markdown",
   "metadata": {},
   "source": [
    "##Training"
   ]
  },
  {
   "cell_type": "code",
   "execution_count": 343,
   "metadata": {},
   "outputs": [],
   "source": [
    "def make_features(data, max_lag,rolling_mean_size):\n",
    "    \"\"\"\n",
    "    This function creates new features from an existing DataFrame.\n",
    "\n",
    "    Args:\n",
    "        data (pandas.DataFrame): The DataFrame containing the original data.\n",
    "        max_lag (int): The maximum lag value to create lagged features for 'num_orders'.\n",
    "        rolling_mean_size (int): The window size for calculating the rolling mean of 'num_orders'.\n",
    "\n",
    "    Returns:\n",
    "        pandas.DataFrame: The modified DataFrame with new features.\n",
    "    \"\"\"\n",
    "\n",
    "    # Extract year, month, day, and day of week from the DataFrame index\n",
    "    data['year'] = data.index.year\n",
    "    data['month'] = data.index.month\n",
    "    data['day'] = data.index.day\n",
    "    data['dayofweek'] = data.index.dayofweek\n",
    "    data['quarter'] = data.index.quarter\n",
    "    data['dayofyear'] = data.index.dayofyear\n",
    "    data['dayofmonth'] = data.index.day\n",
    "    data['hour'] = data.index.hour\n",
    "    data['weekofyear'] = data.index.isocalendar().week\n",
    "\n",
    "    # Create lagged features for 'num_orders'\n",
    "    \n",
    "    target_map = df_and_future['num_orders'].to_dict()\n",
    "    data['lag_one'] = (data.index - pd.Timedelta('25 hr')).map(target_map)\n",
    "    data['lag_two'] = (data.index - pd.Timedelta('48 hr')).map(target_map)\n",
    "    data['lag_three'] = (data.index - pd.Timedelta('72 hr')).map(target_map)\n",
    "\n",
    "    return data"
   ]
  },
  {
   "cell_type": "code",
   "execution_count": 344,
   "metadata": {},
   "outputs": [
    {
     "data": {
      "text/html": [
       "<div>\n",
       "<style scoped>\n",
       "    .dataframe tbody tr th:only-of-type {\n",
       "        vertical-align: middle;\n",
       "    }\n",
       "\n",
       "    .dataframe tbody tr th {\n",
       "        vertical-align: top;\n",
       "    }\n",
       "\n",
       "    .dataframe thead th {\n",
       "        text-align: right;\n",
       "    }\n",
       "</style>\n",
       "<table border=\"1\" class=\"dataframe\">\n",
       "  <thead>\n",
       "    <tr style=\"text-align: right;\">\n",
       "      <th></th>\n",
       "      <th>num_orders</th>\n",
       "      <th>year</th>\n",
       "      <th>month</th>\n",
       "      <th>day</th>\n",
       "      <th>dayofweek</th>\n",
       "      <th>quarter</th>\n",
       "      <th>dayofyear</th>\n",
       "      <th>dayofmonth</th>\n",
       "      <th>hour</th>\n",
       "      <th>weekofyear</th>\n",
       "      <th>lag_one</th>\n",
       "      <th>lag_two</th>\n",
       "      <th>lag_three</th>\n",
       "    </tr>\n",
       "    <tr>\n",
       "      <th>datetime</th>\n",
       "      <th></th>\n",
       "      <th></th>\n",
       "      <th></th>\n",
       "      <th></th>\n",
       "      <th></th>\n",
       "      <th></th>\n",
       "      <th></th>\n",
       "      <th></th>\n",
       "      <th></th>\n",
       "      <th></th>\n",
       "      <th></th>\n",
       "      <th></th>\n",
       "      <th></th>\n",
       "    </tr>\n",
       "  </thead>\n",
       "  <tbody>\n",
       "    <tr>\n",
       "      <th>2018-03-01 00:00:00</th>\n",
       "      <td>124</td>\n",
       "      <td>2018</td>\n",
       "      <td>3</td>\n",
       "      <td>1</td>\n",
       "      <td>3</td>\n",
       "      <td>1</td>\n",
       "      <td>60</td>\n",
       "      <td>1</td>\n",
       "      <td>0</td>\n",
       "      <td>9</td>\n",
       "      <td>NaN</td>\n",
       "      <td>NaN</td>\n",
       "      <td>NaN</td>\n",
       "    </tr>\n",
       "    <tr>\n",
       "      <th>2018-03-01 01:00:00</th>\n",
       "      <td>85</td>\n",
       "      <td>2018</td>\n",
       "      <td>3</td>\n",
       "      <td>1</td>\n",
       "      <td>3</td>\n",
       "      <td>1</td>\n",
       "      <td>60</td>\n",
       "      <td>1</td>\n",
       "      <td>1</td>\n",
       "      <td>9</td>\n",
       "      <td>NaN</td>\n",
       "      <td>NaN</td>\n",
       "      <td>NaN</td>\n",
       "    </tr>\n",
       "    <tr>\n",
       "      <th>2018-03-01 02:00:00</th>\n",
       "      <td>71</td>\n",
       "      <td>2018</td>\n",
       "      <td>3</td>\n",
       "      <td>1</td>\n",
       "      <td>3</td>\n",
       "      <td>1</td>\n",
       "      <td>60</td>\n",
       "      <td>1</td>\n",
       "      <td>2</td>\n",
       "      <td>9</td>\n",
       "      <td>NaN</td>\n",
       "      <td>NaN</td>\n",
       "      <td>NaN</td>\n",
       "    </tr>\n",
       "    <tr>\n",
       "      <th>2018-03-01 03:00:00</th>\n",
       "      <td>66</td>\n",
       "      <td>2018</td>\n",
       "      <td>3</td>\n",
       "      <td>1</td>\n",
       "      <td>3</td>\n",
       "      <td>1</td>\n",
       "      <td>60</td>\n",
       "      <td>1</td>\n",
       "      <td>3</td>\n",
       "      <td>9</td>\n",
       "      <td>NaN</td>\n",
       "      <td>NaN</td>\n",
       "      <td>NaN</td>\n",
       "    </tr>\n",
       "    <tr>\n",
       "      <th>2018-03-01 04:00:00</th>\n",
       "      <td>43</td>\n",
       "      <td>2018</td>\n",
       "      <td>3</td>\n",
       "      <td>1</td>\n",
       "      <td>3</td>\n",
       "      <td>1</td>\n",
       "      <td>60</td>\n",
       "      <td>1</td>\n",
       "      <td>4</td>\n",
       "      <td>9</td>\n",
       "      <td>NaN</td>\n",
       "      <td>NaN</td>\n",
       "      <td>NaN</td>\n",
       "    </tr>\n",
       "    <tr>\n",
       "      <th>...</th>\n",
       "      <td>...</td>\n",
       "      <td>...</td>\n",
       "      <td>...</td>\n",
       "      <td>...</td>\n",
       "      <td>...</td>\n",
       "      <td>...</td>\n",
       "      <td>...</td>\n",
       "      <td>...</td>\n",
       "      <td>...</td>\n",
       "      <td>...</td>\n",
       "      <td>...</td>\n",
       "      <td>...</td>\n",
       "      <td>...</td>\n",
       "    </tr>\n",
       "    <tr>\n",
       "      <th>2018-08-31 19:00:00</th>\n",
       "      <td>136</td>\n",
       "      <td>2018</td>\n",
       "      <td>8</td>\n",
       "      <td>31</td>\n",
       "      <td>4</td>\n",
       "      <td>3</td>\n",
       "      <td>243</td>\n",
       "      <td>31</td>\n",
       "      <td>19</td>\n",
       "      <td>35</td>\n",
       "      <td>177.0</td>\n",
       "      <td>169.0</td>\n",
       "      <td>111.0</td>\n",
       "    </tr>\n",
       "    <tr>\n",
       "      <th>2018-08-31 20:00:00</th>\n",
       "      <td>154</td>\n",
       "      <td>2018</td>\n",
       "      <td>8</td>\n",
       "      <td>31</td>\n",
       "      <td>4</td>\n",
       "      <td>3</td>\n",
       "      <td>243</td>\n",
       "      <td>31</td>\n",
       "      <td>20</td>\n",
       "      <td>35</td>\n",
       "      <td>72.0</td>\n",
       "      <td>191.0</td>\n",
       "      <td>94.0</td>\n",
       "    </tr>\n",
       "    <tr>\n",
       "      <th>2018-08-31 21:00:00</th>\n",
       "      <td>159</td>\n",
       "      <td>2018</td>\n",
       "      <td>8</td>\n",
       "      <td>31</td>\n",
       "      <td>4</td>\n",
       "      <td>3</td>\n",
       "      <td>243</td>\n",
       "      <td>31</td>\n",
       "      <td>21</td>\n",
       "      <td>35</td>\n",
       "      <td>142.0</td>\n",
       "      <td>170.0</td>\n",
       "      <td>189.0</td>\n",
       "    </tr>\n",
       "    <tr>\n",
       "      <th>2018-08-31 22:00:00</th>\n",
       "      <td>223</td>\n",
       "      <td>2018</td>\n",
       "      <td>8</td>\n",
       "      <td>31</td>\n",
       "      <td>4</td>\n",
       "      <td>3</td>\n",
       "      <td>243</td>\n",
       "      <td>31</td>\n",
       "      <td>22</td>\n",
       "      <td>35</td>\n",
       "      <td>198.0</td>\n",
       "      <td>177.0</td>\n",
       "      <td>160.0</td>\n",
       "    </tr>\n",
       "    <tr>\n",
       "      <th>2018-08-31 23:00:00</th>\n",
       "      <td>205</td>\n",
       "      <td>2018</td>\n",
       "      <td>8</td>\n",
       "      <td>31</td>\n",
       "      <td>4</td>\n",
       "      <td>3</td>\n",
       "      <td>243</td>\n",
       "      <td>31</td>\n",
       "      <td>23</td>\n",
       "      <td>35</td>\n",
       "      <td>158.0</td>\n",
       "      <td>265.0</td>\n",
       "      <td>179.0</td>\n",
       "    </tr>\n",
       "  </tbody>\n",
       "</table>\n",
       "<p>4416 rows × 13 columns</p>\n",
       "</div>"
      ],
      "text/plain": [
       "                     num_orders  year  month  day  dayofweek  quarter  \\\n",
       "datetime                                                                \n",
       "2018-03-01 00:00:00         124  2018      3    1          3        1   \n",
       "2018-03-01 01:00:00          85  2018      3    1          3        1   \n",
       "2018-03-01 02:00:00          71  2018      3    1          3        1   \n",
       "2018-03-01 03:00:00          66  2018      3    1          3        1   \n",
       "2018-03-01 04:00:00          43  2018      3    1          3        1   \n",
       "...                         ...   ...    ...  ...        ...      ...   \n",
       "2018-08-31 19:00:00         136  2018      8   31          4        3   \n",
       "2018-08-31 20:00:00         154  2018      8   31          4        3   \n",
       "2018-08-31 21:00:00         159  2018      8   31          4        3   \n",
       "2018-08-31 22:00:00         223  2018      8   31          4        3   \n",
       "2018-08-31 23:00:00         205  2018      8   31          4        3   \n",
       "\n",
       "                     dayofyear  dayofmonth  hour  weekofyear  lag_one  \\\n",
       "datetime                                                                \n",
       "2018-03-01 00:00:00         60           1     0           9      NaN   \n",
       "2018-03-01 01:00:00         60           1     1           9      NaN   \n",
       "2018-03-01 02:00:00         60           1     2           9      NaN   \n",
       "2018-03-01 03:00:00         60           1     3           9      NaN   \n",
       "2018-03-01 04:00:00         60           1     4           9      NaN   \n",
       "...                        ...         ...   ...         ...      ...   \n",
       "2018-08-31 19:00:00        243          31    19          35    177.0   \n",
       "2018-08-31 20:00:00        243          31    20          35     72.0   \n",
       "2018-08-31 21:00:00        243          31    21          35    142.0   \n",
       "2018-08-31 22:00:00        243          31    22          35    198.0   \n",
       "2018-08-31 23:00:00        243          31    23          35    158.0   \n",
       "\n",
       "                     lag_two  lag_three  \n",
       "datetime                                 \n",
       "2018-03-01 00:00:00      NaN        NaN  \n",
       "2018-03-01 01:00:00      NaN        NaN  \n",
       "2018-03-01 02:00:00      NaN        NaN  \n",
       "2018-03-01 03:00:00      NaN        NaN  \n",
       "2018-03-01 04:00:00      NaN        NaN  \n",
       "...                      ...        ...  \n",
       "2018-08-31 19:00:00    169.0      111.0  \n",
       "2018-08-31 20:00:00    191.0       94.0  \n",
       "2018-08-31 21:00:00    170.0      189.0  \n",
       "2018-08-31 22:00:00    177.0      160.0  \n",
       "2018-08-31 23:00:00    265.0      179.0  \n",
       "\n",
       "[4416 rows x 13 columns]"
      ]
     },
     "execution_count": 344,
     "metadata": {},
     "output_type": "execute_result"
    }
   ],
   "source": [
    "# Call the function to create new features for the DataFrame\n",
    "make_features(df,60,3)"
   ]
  },
  {
   "cell_type": "markdown",
   "metadata": {},
   "source": [
    "## Proof"
   ]
  },
  {
   "cell_type": "code",
   "execution_count": 345,
   "metadata": {},
   "outputs": [],
   "source": [
    "#Treat empty values\n",
    "df = df.fillna(df.mean())"
   ]
  },
  {
   "cell_type": "code",
   "execution_count": 346,
   "metadata": {},
   "outputs": [],
   "source": [
    "# Select the target variable \n",
    "target = df['num_orders']\n",
    "\n",
    "# Select the features by dropping the target column\n",
    "features = df.drop(['num_orders'], axis=1)"
   ]
  },
  {
   "cell_type": "code",
   "execution_count": 347,
   "metadata": {},
   "outputs": [],
   "source": [
    "# Split data into training and testing sets\n",
    "train_features, test_features, train_target, test_target = train_test_split(\n",
    "    features, target, test_size=0.1, random_state=12345, shuffle=False\n",
    ")"
   ]
  },
  {
   "cell_type": "code",
   "execution_count": 348,
   "metadata": {},
   "outputs": [],
   "source": [
    "#Set as type float\n",
    "train_features = train_features.astype(np.float32)\n",
    "train_target = train_target.astype(np.float32)\n",
    "test_features = test_features.astype(np.float32)\n",
    "test_target = test_target.astype(np.float32)"
   ]
  },
  {
   "cell_type": "markdown",
   "metadata": {},
   "source": [
    "## LinearRegression"
   ]
  },
  {
   "cell_type": "code",
   "execution_count": 349,
   "metadata": {},
   "outputs": [
    {
     "name": "stdout",
     "output_type": "stream",
     "text": [
      "LinearRegression:\n",
      "RMSE (Root Mean Squared Error) for training set: 25.097043098054897\n",
      "RMSE (Root Mean Squared Error) for test set: 44.19634619062488\n",
      "[ 91.795616 123.90668  162.9559   129.9664   100.06622  102.50046\n",
      " 100.83061  120.43442  131.90614  148.91837  190.42389  182.00401\n",
      " 165.75885  168.87796  122.2516    71.97387   55.69796   47.50396\n",
      "  99.70737  113.05723  123.43293   94.17877  104.4357    95.76308\n",
      "  98.07722  138.60449  156.44266  121.054115  86.49646   97.73488\n",
      "  97.26464  118.75899  112.67116  157.7723   155.57158  203.28046\n",
      " 271.09106  144.16483  132.10767   83.44472   59.50553   48.98992\n",
      "  95.45257  120.94093  132.24817  119.9214   113.26373  119.53639\n",
      " 103.28203  152.07545  141.06735  131.26566  102.51849   94.27519\n",
      "  96.8471   139.2138   113.40452  145.11731  148.50505  223.93587\n",
      " 219.48355  167.79315  134.2069    79.26968   68.66485   59.457787\n",
      "  91.40207  129.92453  147.60028  149.26395  108.58872   94.79336\n",
      " 108.795105 136.2358   123.53137  152.24316  109.8135   104.520424\n",
      "  93.923935 134.06471  106.86916  163.35703  163.60104  154.72516\n",
      " 136.421    141.51894  137.15475   86.622795  60.835022  53.770393\n",
      "  92.15108  129.86307  152.9043   137.70999  105.585556  89.52578\n",
      " 108.44662  107.780945 157.2986   155.28545  109.0741   119.945755\n",
      " 109.340355 156.4165   109.010254 152.97475  184.34113  146.75674\n",
      " 164.16762  138.94705  154.17917  115.45009   54.021156  47.36784\n",
      " 106.91295  132.92987  152.81093  120.73527  110.432785  87.73908\n",
      "  93.077896 111.24492  181.09706  171.41586  112.50466  118.234375\n",
      " 106.82587  153.07152  133.09978  125.42932  188.39856  176.3695\n",
      " 180.91693  154.82684  181.43008  102.12157   58.4143    64.833405\n",
      " 107.11573  129.02261  155.11894  115.81905  110.99639   99.92888\n",
      "  98.22799  110.11871  180.48666  163.53079  124.40451   96.3763\n",
      " 112.33979  128.3827   147.5758   134.09602  221.91504  183.13724\n",
      " 199.25983  159.91127  146.27158   99.479645  65.45196   64.714836\n",
      " 105.38559  143.15744  134.39783  115.61748   95.92421   89.75195\n",
      " 122.06735  126.58556  157.39731  133.78384  115.37825  103.73873\n",
      " 110.42928  128.92702  124.99724  151.9052   203.15143  148.83987\n",
      " 184.0929   193.47682  133.84917  106.42925   61.18598   60.313866\n",
      "  94.80658  141.88397  108.58031  100.429756 111.71272   99.810776\n",
      " 116.787094 149.17839  144.1485   158.56978   85.60767  117.68837\n",
      " 112.22381  106.91512  116.42095  160.05823  177.65097  178.87518\n",
      " 275.675    182.24301  199.75928  112.658264  54.546577  62.314514\n",
      "  91.34926  122.55867  121.788445 118.80673  110.504166 126.37641\n",
      " 112.11034  179.87376  152.64633  149.01039  110.3367   131.0483\n",
      " 101.90787  124.41609  146.09798  155.92093  174.51436  230.58545\n",
      " 244.28734  202.98488  214.76451   91.998116  70.77946   62.34397\n",
      "  96.98724  117.61915  140.32321  139.80783  106.72499   97.171646\n",
      " 119.534065 160.40184  140.39111  140.04343  117.110596 126.28186\n",
      "  96.70614  150.3153   134.06573  161.24178  188.65315  163.4274\n",
      " 166.61331  175.19121  163.32063   80.54595   82.56419   68.62469\n",
      "  95.67028  125.39953  125.488    128.42395   97.256485 105.89213\n",
      " 129.9331   111.503914 146.91454  166.68755  117.01337  120.6278\n",
      " 114.135376 140.47975  120.01234  144.02026  193.44673  160.86908\n",
      " 185.58536  170.46242  127.92471   84.30044   65.868515  66.596504\n",
      " 104.326706 131.27637  134.3753   128.2116   116.68109  108.29405\n",
      " 128.9171   110.86574  164.38486  176.26758  141.06386  108.203705\n",
      " 114.66358  157.90784  128.25154  153.7113   200.47327  181.89708\n",
      " 173.26611  146.25005  120.24434   69.60996   72.13894   57.058853\n",
      " 101.39321  146.32965  172.70206  136.3613   127.40763  120.56119\n",
      " 101.6371   122.21175  172.31113  169.85443  145.43282  106.762115\n",
      " 138.17136  160.5536   178.84079  163.44011  232.21172  205.2636\n",
      " 153.4567   146.84883  156.6724    87.85301   80.37979   48.523796\n",
      " 104.19328  171.2307   156.13062  127.80445  118.124084 110.33587\n",
      " 114.14745  138.02786  173.16867  157.42926  134.15271  122.81948\n",
      " 137.47916  156.18707  177.58493  165.33282  249.29085  191.08452\n",
      " 155.81345  228.38441  152.88359  103.42645   67.36548   54.50099\n",
      " 114.0839   160.43942  135.9641   111.60245  137.36124   91.84315\n",
      " 145.95602  142.79482  159.42122  159.68884  132.16168  126.144356\n",
      " 121.77257  130.28159  147.98123  194.12288  238.18387  182.38797\n",
      " 251.22928  209.16446  195.54758   71.35276   52.29637   61.266304\n",
      " 125.02538  157.3503   154.9231   138.16295  137.28621  120.69669\n",
      " 139.8836   162.48074  154.53217  167.3641   129.2725   137.97632\n",
      " 113.577194 130.17398  159.06325  181.35043  204.85492  171.37679\n",
      " 227.11838  170.94563  176.25673   78.25035   65.573044  68.55976\n",
      " 137.982    175.32225  167.51271  151.51381  134.08548  129.8067\n",
      " 132.21675  180.65236  153.28375  189.3298   120.63066  130.46127\n",
      " 108.68877  168.10661  161.61899  164.63492  205.1557   147.97652\n",
      " 152.5922   146.69127  130.65921   79.9017    65.17204   73.62404\n",
      " 147.34087  161.31203  178.47577  162.89816  149.03069  131.28587\n",
      " 161.81464  160.05443  176.54852  180.45804  138.72318  145.04713\n",
      " 140.0614   168.83319  166.47774  205.72676 ]\n"
     ]
    }
   ],
   "source": [
    "from sklearn.metrics import accuracy_score\n",
    "# Create a linear regression model\n",
    "model = LinearRegression()\n",
    "\n",
    "# Train the model on the training features and target\n",
    "model.fit(train_features, train_target)\n",
    "\n",
    "# Make predictions on the training features\n",
    "predict_train1 = model.predict(train_features)\n",
    "\n",
    "# Make predictions on the testing features\n",
    "predict_test1 = model.predict(test_features)\n",
    "\n",
    "# Print results for linear regression model\n",
    "print('LinearRegression:')\n",
    "print('RMSE (Root Mean Squared Error) for training set:',\n",
    "      mean_squared_error(train_target, predict_train1) ** 0.5)\n",
    "print('RMSE (Root Mean Squared Error) for test set:',\n",
    "      mean_squared_error(test_target, predict_test1)** 0.5)\n",
    "print(predict_test1)"
   ]
  },
  {
   "cell_type": "markdown",
   "metadata": {},
   "source": [
    "## RandomForestRegressor"
   ]
  },
  {
   "cell_type": "code",
   "execution_count": 350,
   "metadata": {},
   "outputs": [],
   "source": [
    "# Define a parameter grid for the RandomForestRegressor\n",
    "param_grid_RFR = {\n",
    "    'n_estimators': [150,200],  # Number of trees in the forest\n",
    "    'max_depth':[14,15],# #depth of each tree, the less depth, the less overfiting\n",
    "    'min_samples_split':[2,3], #minimun number of samples needed to split a node\n",
    "    'max_features':[0.5,0.6], #The number of features considered to divide a node\n",
    "    'bootstrap':[True] #Allows you to show data with replacement to train each tree, helping to create more diverse models\n",
    "}"
   ]
  },
  {
   "cell_type": "code",
   "execution_count": 351,
   "metadata": {},
   "outputs": [
    {
     "name": "stderr",
     "output_type": "stream",
     "text": [
      "/opt/anaconda3/lib/python3.12/site-packages/sklearn/model_selection/_search.py:317: UserWarning: The total space of parameters 16 is smaller than n_iter=200. Running 16 iterations. For exhaustive searches, use GridSearchCV.\n",
      "  warnings.warn(\n"
     ]
    },
    {
     "data": {
      "text/html": [
       "<style>#sk-container-id-7 {\n",
       "  /* Definition of color scheme common for light and dark mode */\n",
       "  --sklearn-color-text: #000;\n",
       "  --sklearn-color-text-muted: #666;\n",
       "  --sklearn-color-line: gray;\n",
       "  /* Definition of color scheme for unfitted estimators */\n",
       "  --sklearn-color-unfitted-level-0: #fff5e6;\n",
       "  --sklearn-color-unfitted-level-1: #f6e4d2;\n",
       "  --sklearn-color-unfitted-level-2: #ffe0b3;\n",
       "  --sklearn-color-unfitted-level-3: chocolate;\n",
       "  /* Definition of color scheme for fitted estimators */\n",
       "  --sklearn-color-fitted-level-0: #f0f8ff;\n",
       "  --sklearn-color-fitted-level-1: #d4ebff;\n",
       "  --sklearn-color-fitted-level-2: #b3dbfd;\n",
       "  --sklearn-color-fitted-level-3: cornflowerblue;\n",
       "\n",
       "  /* Specific color for light theme */\n",
       "  --sklearn-color-text-on-default-background: var(--sg-text-color, var(--theme-code-foreground, var(--jp-content-font-color1, black)));\n",
       "  --sklearn-color-background: var(--sg-background-color, var(--theme-background, var(--jp-layout-color0, white)));\n",
       "  --sklearn-color-border-box: var(--sg-text-color, var(--theme-code-foreground, var(--jp-content-font-color1, black)));\n",
       "  --sklearn-color-icon: #696969;\n",
       "\n",
       "  @media (prefers-color-scheme: dark) {\n",
       "    /* Redefinition of color scheme for dark theme */\n",
       "    --sklearn-color-text-on-default-background: var(--sg-text-color, var(--theme-code-foreground, var(--jp-content-font-color1, white)));\n",
       "    --sklearn-color-background: var(--sg-background-color, var(--theme-background, var(--jp-layout-color0, #111)));\n",
       "    --sklearn-color-border-box: var(--sg-text-color, var(--theme-code-foreground, var(--jp-content-font-color1, white)));\n",
       "    --sklearn-color-icon: #878787;\n",
       "  }\n",
       "}\n",
       "\n",
       "#sk-container-id-7 {\n",
       "  color: var(--sklearn-color-text);\n",
       "}\n",
       "\n",
       "#sk-container-id-7 pre {\n",
       "  padding: 0;\n",
       "}\n",
       "\n",
       "#sk-container-id-7 input.sk-hidden--visually {\n",
       "  border: 0;\n",
       "  clip: rect(1px 1px 1px 1px);\n",
       "  clip: rect(1px, 1px, 1px, 1px);\n",
       "  height: 1px;\n",
       "  margin: -1px;\n",
       "  overflow: hidden;\n",
       "  padding: 0;\n",
       "  position: absolute;\n",
       "  width: 1px;\n",
       "}\n",
       "\n",
       "#sk-container-id-7 div.sk-dashed-wrapped {\n",
       "  border: 1px dashed var(--sklearn-color-line);\n",
       "  margin: 0 0.4em 0.5em 0.4em;\n",
       "  box-sizing: border-box;\n",
       "  padding-bottom: 0.4em;\n",
       "  background-color: var(--sklearn-color-background);\n",
       "}\n",
       "\n",
       "#sk-container-id-7 div.sk-container {\n",
       "  /* jupyter's `normalize.less` sets `[hidden] { display: none; }`\n",
       "     but bootstrap.min.css set `[hidden] { display: none !important; }`\n",
       "     so we also need the `!important` here to be able to override the\n",
       "     default hidden behavior on the sphinx rendered scikit-learn.org.\n",
       "     See: https://github.com/scikit-learn/scikit-learn/issues/21755 */\n",
       "  display: inline-block !important;\n",
       "  position: relative;\n",
       "}\n",
       "\n",
       "#sk-container-id-7 div.sk-text-repr-fallback {\n",
       "  display: none;\n",
       "}\n",
       "\n",
       "div.sk-parallel-item,\n",
       "div.sk-serial,\n",
       "div.sk-item {\n",
       "  /* draw centered vertical line to link estimators */\n",
       "  background-image: linear-gradient(var(--sklearn-color-text-on-default-background), var(--sklearn-color-text-on-default-background));\n",
       "  background-size: 2px 100%;\n",
       "  background-repeat: no-repeat;\n",
       "  background-position: center center;\n",
       "}\n",
       "\n",
       "/* Parallel-specific style estimator block */\n",
       "\n",
       "#sk-container-id-7 div.sk-parallel-item::after {\n",
       "  content: \"\";\n",
       "  width: 100%;\n",
       "  border-bottom: 2px solid var(--sklearn-color-text-on-default-background);\n",
       "  flex-grow: 1;\n",
       "}\n",
       "\n",
       "#sk-container-id-7 div.sk-parallel {\n",
       "  display: flex;\n",
       "  align-items: stretch;\n",
       "  justify-content: center;\n",
       "  background-color: var(--sklearn-color-background);\n",
       "  position: relative;\n",
       "}\n",
       "\n",
       "#sk-container-id-7 div.sk-parallel-item {\n",
       "  display: flex;\n",
       "  flex-direction: column;\n",
       "}\n",
       "\n",
       "#sk-container-id-7 div.sk-parallel-item:first-child::after {\n",
       "  align-self: flex-end;\n",
       "  width: 50%;\n",
       "}\n",
       "\n",
       "#sk-container-id-7 div.sk-parallel-item:last-child::after {\n",
       "  align-self: flex-start;\n",
       "  width: 50%;\n",
       "}\n",
       "\n",
       "#sk-container-id-7 div.sk-parallel-item:only-child::after {\n",
       "  width: 0;\n",
       "}\n",
       "\n",
       "/* Serial-specific style estimator block */\n",
       "\n",
       "#sk-container-id-7 div.sk-serial {\n",
       "  display: flex;\n",
       "  flex-direction: column;\n",
       "  align-items: center;\n",
       "  background-color: var(--sklearn-color-background);\n",
       "  padding-right: 1em;\n",
       "  padding-left: 1em;\n",
       "}\n",
       "\n",
       "\n",
       "/* Toggleable style: style used for estimator/Pipeline/ColumnTransformer box that is\n",
       "clickable and can be expanded/collapsed.\n",
       "- Pipeline and ColumnTransformer use this feature and define the default style\n",
       "- Estimators will overwrite some part of the style using the `sk-estimator` class\n",
       "*/\n",
       "\n",
       "/* Pipeline and ColumnTransformer style (default) */\n",
       "\n",
       "#sk-container-id-7 div.sk-toggleable {\n",
       "  /* Default theme specific background. It is overwritten whether we have a\n",
       "  specific estimator or a Pipeline/ColumnTransformer */\n",
       "  background-color: var(--sklearn-color-background);\n",
       "}\n",
       "\n",
       "/* Toggleable label */\n",
       "#sk-container-id-7 label.sk-toggleable__label {\n",
       "  cursor: pointer;\n",
       "  display: flex;\n",
       "  width: 100%;\n",
       "  margin-bottom: 0;\n",
       "  padding: 0.5em;\n",
       "  box-sizing: border-box;\n",
       "  text-align: center;\n",
       "  align-items: start;\n",
       "  justify-content: space-between;\n",
       "  gap: 0.5em;\n",
       "}\n",
       "\n",
       "#sk-container-id-7 label.sk-toggleable__label .caption {\n",
       "  font-size: 0.6rem;\n",
       "  font-weight: lighter;\n",
       "  color: var(--sklearn-color-text-muted);\n",
       "}\n",
       "\n",
       "#sk-container-id-7 label.sk-toggleable__label-arrow:before {\n",
       "  /* Arrow on the left of the label */\n",
       "  content: \"▸\";\n",
       "  float: left;\n",
       "  margin-right: 0.25em;\n",
       "  color: var(--sklearn-color-icon);\n",
       "}\n",
       "\n",
       "#sk-container-id-7 label.sk-toggleable__label-arrow:hover:before {\n",
       "  color: var(--sklearn-color-text);\n",
       "}\n",
       "\n",
       "/* Toggleable content - dropdown */\n",
       "\n",
       "#sk-container-id-7 div.sk-toggleable__content {\n",
       "  max-height: 0;\n",
       "  max-width: 0;\n",
       "  overflow: hidden;\n",
       "  text-align: left;\n",
       "  /* unfitted */\n",
       "  background-color: var(--sklearn-color-unfitted-level-0);\n",
       "}\n",
       "\n",
       "#sk-container-id-7 div.sk-toggleable__content.fitted {\n",
       "  /* fitted */\n",
       "  background-color: var(--sklearn-color-fitted-level-0);\n",
       "}\n",
       "\n",
       "#sk-container-id-7 div.sk-toggleable__content pre {\n",
       "  margin: 0.2em;\n",
       "  border-radius: 0.25em;\n",
       "  color: var(--sklearn-color-text);\n",
       "  /* unfitted */\n",
       "  background-color: var(--sklearn-color-unfitted-level-0);\n",
       "}\n",
       "\n",
       "#sk-container-id-7 div.sk-toggleable__content.fitted pre {\n",
       "  /* unfitted */\n",
       "  background-color: var(--sklearn-color-fitted-level-0);\n",
       "}\n",
       "\n",
       "#sk-container-id-7 input.sk-toggleable__control:checked~div.sk-toggleable__content {\n",
       "  /* Expand drop-down */\n",
       "  max-height: 200px;\n",
       "  max-width: 100%;\n",
       "  overflow: auto;\n",
       "}\n",
       "\n",
       "#sk-container-id-7 input.sk-toggleable__control:checked~label.sk-toggleable__label-arrow:before {\n",
       "  content: \"▾\";\n",
       "}\n",
       "\n",
       "/* Pipeline/ColumnTransformer-specific style */\n",
       "\n",
       "#sk-container-id-7 div.sk-label input.sk-toggleable__control:checked~label.sk-toggleable__label {\n",
       "  color: var(--sklearn-color-text);\n",
       "  background-color: var(--sklearn-color-unfitted-level-2);\n",
       "}\n",
       "\n",
       "#sk-container-id-7 div.sk-label.fitted input.sk-toggleable__control:checked~label.sk-toggleable__label {\n",
       "  background-color: var(--sklearn-color-fitted-level-2);\n",
       "}\n",
       "\n",
       "/* Estimator-specific style */\n",
       "\n",
       "/* Colorize estimator box */\n",
       "#sk-container-id-7 div.sk-estimator input.sk-toggleable__control:checked~label.sk-toggleable__label {\n",
       "  /* unfitted */\n",
       "  background-color: var(--sklearn-color-unfitted-level-2);\n",
       "}\n",
       "\n",
       "#sk-container-id-7 div.sk-estimator.fitted input.sk-toggleable__control:checked~label.sk-toggleable__label {\n",
       "  /* fitted */\n",
       "  background-color: var(--sklearn-color-fitted-level-2);\n",
       "}\n",
       "\n",
       "#sk-container-id-7 div.sk-label label.sk-toggleable__label,\n",
       "#sk-container-id-7 div.sk-label label {\n",
       "  /* The background is the default theme color */\n",
       "  color: var(--sklearn-color-text-on-default-background);\n",
       "}\n",
       "\n",
       "/* On hover, darken the color of the background */\n",
       "#sk-container-id-7 div.sk-label:hover label.sk-toggleable__label {\n",
       "  color: var(--sklearn-color-text);\n",
       "  background-color: var(--sklearn-color-unfitted-level-2);\n",
       "}\n",
       "\n",
       "/* Label box, darken color on hover, fitted */\n",
       "#sk-container-id-7 div.sk-label.fitted:hover label.sk-toggleable__label.fitted {\n",
       "  color: var(--sklearn-color-text);\n",
       "  background-color: var(--sklearn-color-fitted-level-2);\n",
       "}\n",
       "\n",
       "/* Estimator label */\n",
       "\n",
       "#sk-container-id-7 div.sk-label label {\n",
       "  font-family: monospace;\n",
       "  font-weight: bold;\n",
       "  display: inline-block;\n",
       "  line-height: 1.2em;\n",
       "}\n",
       "\n",
       "#sk-container-id-7 div.sk-label-container {\n",
       "  text-align: center;\n",
       "}\n",
       "\n",
       "/* Estimator-specific */\n",
       "#sk-container-id-7 div.sk-estimator {\n",
       "  font-family: monospace;\n",
       "  border: 1px dotted var(--sklearn-color-border-box);\n",
       "  border-radius: 0.25em;\n",
       "  box-sizing: border-box;\n",
       "  margin-bottom: 0.5em;\n",
       "  /* unfitted */\n",
       "  background-color: var(--sklearn-color-unfitted-level-0);\n",
       "}\n",
       "\n",
       "#sk-container-id-7 div.sk-estimator.fitted {\n",
       "  /* fitted */\n",
       "  background-color: var(--sklearn-color-fitted-level-0);\n",
       "}\n",
       "\n",
       "/* on hover */\n",
       "#sk-container-id-7 div.sk-estimator:hover {\n",
       "  /* unfitted */\n",
       "  background-color: var(--sklearn-color-unfitted-level-2);\n",
       "}\n",
       "\n",
       "#sk-container-id-7 div.sk-estimator.fitted:hover {\n",
       "  /* fitted */\n",
       "  background-color: var(--sklearn-color-fitted-level-2);\n",
       "}\n",
       "\n",
       "/* Specification for estimator info (e.g. \"i\" and \"?\") */\n",
       "\n",
       "/* Common style for \"i\" and \"?\" */\n",
       "\n",
       ".sk-estimator-doc-link,\n",
       "a:link.sk-estimator-doc-link,\n",
       "a:visited.sk-estimator-doc-link {\n",
       "  float: right;\n",
       "  font-size: smaller;\n",
       "  line-height: 1em;\n",
       "  font-family: monospace;\n",
       "  background-color: var(--sklearn-color-background);\n",
       "  border-radius: 1em;\n",
       "  height: 1em;\n",
       "  width: 1em;\n",
       "  text-decoration: none !important;\n",
       "  margin-left: 0.5em;\n",
       "  text-align: center;\n",
       "  /* unfitted */\n",
       "  border: var(--sklearn-color-unfitted-level-1) 1pt solid;\n",
       "  color: var(--sklearn-color-unfitted-level-1);\n",
       "}\n",
       "\n",
       ".sk-estimator-doc-link.fitted,\n",
       "a:link.sk-estimator-doc-link.fitted,\n",
       "a:visited.sk-estimator-doc-link.fitted {\n",
       "  /* fitted */\n",
       "  border: var(--sklearn-color-fitted-level-1) 1pt solid;\n",
       "  color: var(--sklearn-color-fitted-level-1);\n",
       "}\n",
       "\n",
       "/* On hover */\n",
       "div.sk-estimator:hover .sk-estimator-doc-link:hover,\n",
       ".sk-estimator-doc-link:hover,\n",
       "div.sk-label-container:hover .sk-estimator-doc-link:hover,\n",
       ".sk-estimator-doc-link:hover {\n",
       "  /* unfitted */\n",
       "  background-color: var(--sklearn-color-unfitted-level-3);\n",
       "  color: var(--sklearn-color-background);\n",
       "  text-decoration: none;\n",
       "}\n",
       "\n",
       "div.sk-estimator.fitted:hover .sk-estimator-doc-link.fitted:hover,\n",
       ".sk-estimator-doc-link.fitted:hover,\n",
       "div.sk-label-container:hover .sk-estimator-doc-link.fitted:hover,\n",
       ".sk-estimator-doc-link.fitted:hover {\n",
       "  /* fitted */\n",
       "  background-color: var(--sklearn-color-fitted-level-3);\n",
       "  color: var(--sklearn-color-background);\n",
       "  text-decoration: none;\n",
       "}\n",
       "\n",
       "/* Span, style for the box shown on hovering the info icon */\n",
       ".sk-estimator-doc-link span {\n",
       "  display: none;\n",
       "  z-index: 9999;\n",
       "  position: relative;\n",
       "  font-weight: normal;\n",
       "  right: .2ex;\n",
       "  padding: .5ex;\n",
       "  margin: .5ex;\n",
       "  width: min-content;\n",
       "  min-width: 20ex;\n",
       "  max-width: 50ex;\n",
       "  color: var(--sklearn-color-text);\n",
       "  box-shadow: 2pt 2pt 4pt #999;\n",
       "  /* unfitted */\n",
       "  background: var(--sklearn-color-unfitted-level-0);\n",
       "  border: .5pt solid var(--sklearn-color-unfitted-level-3);\n",
       "}\n",
       "\n",
       ".sk-estimator-doc-link.fitted span {\n",
       "  /* fitted */\n",
       "  background: var(--sklearn-color-fitted-level-0);\n",
       "  border: var(--sklearn-color-fitted-level-3);\n",
       "}\n",
       "\n",
       ".sk-estimator-doc-link:hover span {\n",
       "  display: block;\n",
       "}\n",
       "\n",
       "/* \"?\"-specific style due to the `<a>` HTML tag */\n",
       "\n",
       "#sk-container-id-7 a.estimator_doc_link {\n",
       "  float: right;\n",
       "  font-size: 1rem;\n",
       "  line-height: 1em;\n",
       "  font-family: monospace;\n",
       "  background-color: var(--sklearn-color-background);\n",
       "  border-radius: 1rem;\n",
       "  height: 1rem;\n",
       "  width: 1rem;\n",
       "  text-decoration: none;\n",
       "  /* unfitted */\n",
       "  color: var(--sklearn-color-unfitted-level-1);\n",
       "  border: var(--sklearn-color-unfitted-level-1) 1pt solid;\n",
       "}\n",
       "\n",
       "#sk-container-id-7 a.estimator_doc_link.fitted {\n",
       "  /* fitted */\n",
       "  border: var(--sklearn-color-fitted-level-1) 1pt solid;\n",
       "  color: var(--sklearn-color-fitted-level-1);\n",
       "}\n",
       "\n",
       "/* On hover */\n",
       "#sk-container-id-7 a.estimator_doc_link:hover {\n",
       "  /* unfitted */\n",
       "  background-color: var(--sklearn-color-unfitted-level-3);\n",
       "  color: var(--sklearn-color-background);\n",
       "  text-decoration: none;\n",
       "}\n",
       "\n",
       "#sk-container-id-7 a.estimator_doc_link.fitted:hover {\n",
       "  /* fitted */\n",
       "  background-color: var(--sklearn-color-fitted-level-3);\n",
       "}\n",
       "</style><div id=\"sk-container-id-7\" class=\"sk-top-container\"><div class=\"sk-text-repr-fallback\"><pre>RandomizedSearchCV(cv=TimeSeriesSplit(gap=0, max_train_size=None, n_splits=5, test_size=None),\n",
       "                   estimator=RandomForestRegressor(), n_iter=200,\n",
       "                   param_distributions={&#x27;bootstrap&#x27;: [True],\n",
       "                                        &#x27;max_depth&#x27;: [14, 15],\n",
       "                                        &#x27;max_features&#x27;: [0.5, 0.6],\n",
       "                                        &#x27;min_samples_split&#x27;: [2, 3],\n",
       "                                        &#x27;n_estimators&#x27;: [150, 200]},\n",
       "                   random_state=12345, scoring=&#x27;neg_mean_squared_error&#x27;)</pre><b>In a Jupyter environment, please rerun this cell to show the HTML representation or trust the notebook. <br />On GitHub, the HTML representation is unable to render, please try loading this page with nbviewer.org.</b></div><div class=\"sk-container\" hidden><div class=\"sk-item sk-dashed-wrapped\"><div class=\"sk-label-container\"><div class=\"sk-label fitted sk-toggleable\"><input class=\"sk-toggleable__control sk-hidden--visually\" id=\"sk-estimator-id-19\" type=\"checkbox\" ><label for=\"sk-estimator-id-19\" class=\"sk-toggleable__label fitted sk-toggleable__label-arrow\"><div><div>RandomizedSearchCV</div></div><div><a class=\"sk-estimator-doc-link fitted\" rel=\"noreferrer\" target=\"_blank\" href=\"https://scikit-learn.org/1.6/modules/generated/sklearn.model_selection.RandomizedSearchCV.html\">?<span>Documentation for RandomizedSearchCV</span></a><span class=\"sk-estimator-doc-link fitted\">i<span>Fitted</span></span></div></label><div class=\"sk-toggleable__content fitted\"><pre>RandomizedSearchCV(cv=TimeSeriesSplit(gap=0, max_train_size=None, n_splits=5, test_size=None),\n",
       "                   estimator=RandomForestRegressor(), n_iter=200,\n",
       "                   param_distributions={&#x27;bootstrap&#x27;: [True],\n",
       "                                        &#x27;max_depth&#x27;: [14, 15],\n",
       "                                        &#x27;max_features&#x27;: [0.5, 0.6],\n",
       "                                        &#x27;min_samples_split&#x27;: [2, 3],\n",
       "                                        &#x27;n_estimators&#x27;: [150, 200]},\n",
       "                   random_state=12345, scoring=&#x27;neg_mean_squared_error&#x27;)</pre></div> </div></div><div class=\"sk-parallel\"><div class=\"sk-parallel-item\"><div class=\"sk-item\"><div class=\"sk-label-container\"><div class=\"sk-label fitted sk-toggleable\"><input class=\"sk-toggleable__control sk-hidden--visually\" id=\"sk-estimator-id-20\" type=\"checkbox\" ><label for=\"sk-estimator-id-20\" class=\"sk-toggleable__label fitted sk-toggleable__label-arrow\"><div><div>best_estimator_: RandomForestRegressor</div></div></label><div class=\"sk-toggleable__content fitted\"><pre>RandomForestRegressor(max_depth=14, max_features=0.5, min_samples_split=3,\n",
       "                      n_estimators=200)</pre></div> </div></div><div class=\"sk-serial\"><div class=\"sk-item\"><div class=\"sk-estimator fitted sk-toggleable\"><input class=\"sk-toggleable__control sk-hidden--visually\" id=\"sk-estimator-id-21\" type=\"checkbox\" ><label for=\"sk-estimator-id-21\" class=\"sk-toggleable__label fitted sk-toggleable__label-arrow\"><div><div>RandomForestRegressor</div></div><div><a class=\"sk-estimator-doc-link fitted\" rel=\"noreferrer\" target=\"_blank\" href=\"https://scikit-learn.org/1.6/modules/generated/sklearn.ensemble.RandomForestRegressor.html\">?<span>Documentation for RandomForestRegressor</span></a></div></label><div class=\"sk-toggleable__content fitted\"><pre>RandomForestRegressor(max_depth=14, max_features=0.5, min_samples_split=3,\n",
       "                      n_estimators=200)</pre></div> </div></div></div></div></div></div></div></div></div>"
      ],
      "text/plain": [
       "RandomizedSearchCV(cv=TimeSeriesSplit(gap=0, max_train_size=None, n_splits=5, test_size=None),\n",
       "                   estimator=RandomForestRegressor(), n_iter=200,\n",
       "                   param_distributions={'bootstrap': [True],\n",
       "                                        'max_depth': [14, 15],\n",
       "                                        'max_features': [0.5, 0.6],\n",
       "                                        'min_samples_split': [2, 3],\n",
       "                                        'n_estimators': [150, 200]},\n",
       "                   random_state=12345, scoring='neg_mean_squared_error')"
      ]
     },
     "execution_count": 351,
     "metadata": {},
     "output_type": "execute_result"
    }
   ],
   "source": [
    "from sklearn.model_selection import RandomizedSearchCV\n",
    "\n",
    "random_search_RFR = RandomizedSearchCV(\n",
    "    estimator=RandomForestRegressor(),\n",
    "    param_distributions=param_grid_RFR,\n",
    "    n_iter=200,\n",
    "    scoring='neg_mean_squared_error',\n",
    "    cv=TimeSeriesSplit(n_splits=5),\n",
    "    random_state=12345\n",
    ")\n",
    "random_search_RFR.fit(train_features, train_target)"
   ]
  },
  {
   "cell_type": "code",
   "execution_count": 352,
   "metadata": {},
   "outputs": [],
   "source": [
    "# Make predictions on the training data using the best model from grid search\n",
    "predict_train2 = random_search_RFR.predict(train_features)"
   ]
  },
  {
   "cell_type": "code",
   "execution_count": 353,
   "metadata": {},
   "outputs": [],
   "source": [
    "# Make predictions on the test data using the best model from grid search\n",
    "predict_test2 = random_search_RFR.predict(test_features)"
   ]
  },
  {
   "cell_type": "code",
   "execution_count": 354,
   "metadata": {},
   "outputs": [
    {
     "name": "stdout",
     "output_type": "stream",
     "text": [
      "RandomForestRegressor:\n",
      "n_estimators: 200\n",
      "RMSE for training set: 11.41923565198485\n",
      "RMSE for the testing set: 46.21798618750044\n",
      "Best parameters: {'n_estimators': 200, 'min_samples_split': 3, 'max_features': 0.5, 'max_depth': 14, 'bootstrap': True}\n",
      "Better score: -625.2368043378549\n"
     ]
    }
   ],
   "source": [
    "# Print results for RandomForestRegressor\n",
    "print('RandomForestRegressor:')\n",
    "print('n_estimators:', random_search_RFR.best_params_['n_estimators'])  # Print best number of estimators\n",
    "print('RMSE for training set:', mean_squared_error(train_target, predict_train2)** 0.5)  # Print RMSE for training set\n",
    "print('RMSE for the testing set:', mean_squared_error(test_target, predict_test2)** 0.5)  # Print RMSE for test set\n",
    "\n",
    "# Access the results of the grid search\n",
    "cv_results = random_search_RFR.cv_results_\n",
    "\n",
    "# Print the best parameters found by grid search\n",
    "print(\"Best parameters:\", random_search_RFR.best_params_)\n",
    "\n",
    "# Print the best score (negative mean squared error in this case)\n",
    "print(\"Better score:\", random_search_RFR.best_score_)"
   ]
  },
  {
   "cell_type": "markdown",
   "metadata": {},
   "source": [
    "## XGBRegressor"
   ]
  },
  {
   "cell_type": "code",
   "execution_count": 355,
   "metadata": {},
   "outputs": [],
   "source": [
    "# Define a parameter grid for the XGBRegressor\n",
    "param_grid_XGB = {\n",
    "    'n_estimators': [150,200],  \n",
    "    'max_depth':[5],\n",
    "    'learning_rate': [0.005,0.05],\n",
    "    'subsample': [0.5,0.6],# Fraction of samples to be used in each tree\n",
    "    'eval_metric':[\"rmse\"],\n",
    "    'colsample_bytree': [0.50,0.95] # Fraction of characteristics to be considered in each tree\n",
    "}"
   ]
  },
  {
   "cell_type": "code",
   "execution_count": 356,
   "metadata": {
    "scrolled": true
   },
   "outputs": [
    {
     "data": {
      "text/html": [
       "<style>#sk-container-id-8 {\n",
       "  /* Definition of color scheme common for light and dark mode */\n",
       "  --sklearn-color-text: #000;\n",
       "  --sklearn-color-text-muted: #666;\n",
       "  --sklearn-color-line: gray;\n",
       "  /* Definition of color scheme for unfitted estimators */\n",
       "  --sklearn-color-unfitted-level-0: #fff5e6;\n",
       "  --sklearn-color-unfitted-level-1: #f6e4d2;\n",
       "  --sklearn-color-unfitted-level-2: #ffe0b3;\n",
       "  --sklearn-color-unfitted-level-3: chocolate;\n",
       "  /* Definition of color scheme for fitted estimators */\n",
       "  --sklearn-color-fitted-level-0: #f0f8ff;\n",
       "  --sklearn-color-fitted-level-1: #d4ebff;\n",
       "  --sklearn-color-fitted-level-2: #b3dbfd;\n",
       "  --sklearn-color-fitted-level-3: cornflowerblue;\n",
       "\n",
       "  /* Specific color for light theme */\n",
       "  --sklearn-color-text-on-default-background: var(--sg-text-color, var(--theme-code-foreground, var(--jp-content-font-color1, black)));\n",
       "  --sklearn-color-background: var(--sg-background-color, var(--theme-background, var(--jp-layout-color0, white)));\n",
       "  --sklearn-color-border-box: var(--sg-text-color, var(--theme-code-foreground, var(--jp-content-font-color1, black)));\n",
       "  --sklearn-color-icon: #696969;\n",
       "\n",
       "  @media (prefers-color-scheme: dark) {\n",
       "    /* Redefinition of color scheme for dark theme */\n",
       "    --sklearn-color-text-on-default-background: var(--sg-text-color, var(--theme-code-foreground, var(--jp-content-font-color1, white)));\n",
       "    --sklearn-color-background: var(--sg-background-color, var(--theme-background, var(--jp-layout-color0, #111)));\n",
       "    --sklearn-color-border-box: var(--sg-text-color, var(--theme-code-foreground, var(--jp-content-font-color1, white)));\n",
       "    --sklearn-color-icon: #878787;\n",
       "  }\n",
       "}\n",
       "\n",
       "#sk-container-id-8 {\n",
       "  color: var(--sklearn-color-text);\n",
       "}\n",
       "\n",
       "#sk-container-id-8 pre {\n",
       "  padding: 0;\n",
       "}\n",
       "\n",
       "#sk-container-id-8 input.sk-hidden--visually {\n",
       "  border: 0;\n",
       "  clip: rect(1px 1px 1px 1px);\n",
       "  clip: rect(1px, 1px, 1px, 1px);\n",
       "  height: 1px;\n",
       "  margin: -1px;\n",
       "  overflow: hidden;\n",
       "  padding: 0;\n",
       "  position: absolute;\n",
       "  width: 1px;\n",
       "}\n",
       "\n",
       "#sk-container-id-8 div.sk-dashed-wrapped {\n",
       "  border: 1px dashed var(--sklearn-color-line);\n",
       "  margin: 0 0.4em 0.5em 0.4em;\n",
       "  box-sizing: border-box;\n",
       "  padding-bottom: 0.4em;\n",
       "  background-color: var(--sklearn-color-background);\n",
       "}\n",
       "\n",
       "#sk-container-id-8 div.sk-container {\n",
       "  /* jupyter's `normalize.less` sets `[hidden] { display: none; }`\n",
       "     but bootstrap.min.css set `[hidden] { display: none !important; }`\n",
       "     so we also need the `!important` here to be able to override the\n",
       "     default hidden behavior on the sphinx rendered scikit-learn.org.\n",
       "     See: https://github.com/scikit-learn/scikit-learn/issues/21755 */\n",
       "  display: inline-block !important;\n",
       "  position: relative;\n",
       "}\n",
       "\n",
       "#sk-container-id-8 div.sk-text-repr-fallback {\n",
       "  display: none;\n",
       "}\n",
       "\n",
       "div.sk-parallel-item,\n",
       "div.sk-serial,\n",
       "div.sk-item {\n",
       "  /* draw centered vertical line to link estimators */\n",
       "  background-image: linear-gradient(var(--sklearn-color-text-on-default-background), var(--sklearn-color-text-on-default-background));\n",
       "  background-size: 2px 100%;\n",
       "  background-repeat: no-repeat;\n",
       "  background-position: center center;\n",
       "}\n",
       "\n",
       "/* Parallel-specific style estimator block */\n",
       "\n",
       "#sk-container-id-8 div.sk-parallel-item::after {\n",
       "  content: \"\";\n",
       "  width: 100%;\n",
       "  border-bottom: 2px solid var(--sklearn-color-text-on-default-background);\n",
       "  flex-grow: 1;\n",
       "}\n",
       "\n",
       "#sk-container-id-8 div.sk-parallel {\n",
       "  display: flex;\n",
       "  align-items: stretch;\n",
       "  justify-content: center;\n",
       "  background-color: var(--sklearn-color-background);\n",
       "  position: relative;\n",
       "}\n",
       "\n",
       "#sk-container-id-8 div.sk-parallel-item {\n",
       "  display: flex;\n",
       "  flex-direction: column;\n",
       "}\n",
       "\n",
       "#sk-container-id-8 div.sk-parallel-item:first-child::after {\n",
       "  align-self: flex-end;\n",
       "  width: 50%;\n",
       "}\n",
       "\n",
       "#sk-container-id-8 div.sk-parallel-item:last-child::after {\n",
       "  align-self: flex-start;\n",
       "  width: 50%;\n",
       "}\n",
       "\n",
       "#sk-container-id-8 div.sk-parallel-item:only-child::after {\n",
       "  width: 0;\n",
       "}\n",
       "\n",
       "/* Serial-specific style estimator block */\n",
       "\n",
       "#sk-container-id-8 div.sk-serial {\n",
       "  display: flex;\n",
       "  flex-direction: column;\n",
       "  align-items: center;\n",
       "  background-color: var(--sklearn-color-background);\n",
       "  padding-right: 1em;\n",
       "  padding-left: 1em;\n",
       "}\n",
       "\n",
       "\n",
       "/* Toggleable style: style used for estimator/Pipeline/ColumnTransformer box that is\n",
       "clickable and can be expanded/collapsed.\n",
       "- Pipeline and ColumnTransformer use this feature and define the default style\n",
       "- Estimators will overwrite some part of the style using the `sk-estimator` class\n",
       "*/\n",
       "\n",
       "/* Pipeline and ColumnTransformer style (default) */\n",
       "\n",
       "#sk-container-id-8 div.sk-toggleable {\n",
       "  /* Default theme specific background. It is overwritten whether we have a\n",
       "  specific estimator or a Pipeline/ColumnTransformer */\n",
       "  background-color: var(--sklearn-color-background);\n",
       "}\n",
       "\n",
       "/* Toggleable label */\n",
       "#sk-container-id-8 label.sk-toggleable__label {\n",
       "  cursor: pointer;\n",
       "  display: flex;\n",
       "  width: 100%;\n",
       "  margin-bottom: 0;\n",
       "  padding: 0.5em;\n",
       "  box-sizing: border-box;\n",
       "  text-align: center;\n",
       "  align-items: start;\n",
       "  justify-content: space-between;\n",
       "  gap: 0.5em;\n",
       "}\n",
       "\n",
       "#sk-container-id-8 label.sk-toggleable__label .caption {\n",
       "  font-size: 0.6rem;\n",
       "  font-weight: lighter;\n",
       "  color: var(--sklearn-color-text-muted);\n",
       "}\n",
       "\n",
       "#sk-container-id-8 label.sk-toggleable__label-arrow:before {\n",
       "  /* Arrow on the left of the label */\n",
       "  content: \"▸\";\n",
       "  float: left;\n",
       "  margin-right: 0.25em;\n",
       "  color: var(--sklearn-color-icon);\n",
       "}\n",
       "\n",
       "#sk-container-id-8 label.sk-toggleable__label-arrow:hover:before {\n",
       "  color: var(--sklearn-color-text);\n",
       "}\n",
       "\n",
       "/* Toggleable content - dropdown */\n",
       "\n",
       "#sk-container-id-8 div.sk-toggleable__content {\n",
       "  max-height: 0;\n",
       "  max-width: 0;\n",
       "  overflow: hidden;\n",
       "  text-align: left;\n",
       "  /* unfitted */\n",
       "  background-color: var(--sklearn-color-unfitted-level-0);\n",
       "}\n",
       "\n",
       "#sk-container-id-8 div.sk-toggleable__content.fitted {\n",
       "  /* fitted */\n",
       "  background-color: var(--sklearn-color-fitted-level-0);\n",
       "}\n",
       "\n",
       "#sk-container-id-8 div.sk-toggleable__content pre {\n",
       "  margin: 0.2em;\n",
       "  border-radius: 0.25em;\n",
       "  color: var(--sklearn-color-text);\n",
       "  /* unfitted */\n",
       "  background-color: var(--sklearn-color-unfitted-level-0);\n",
       "}\n",
       "\n",
       "#sk-container-id-8 div.sk-toggleable__content.fitted pre {\n",
       "  /* unfitted */\n",
       "  background-color: var(--sklearn-color-fitted-level-0);\n",
       "}\n",
       "\n",
       "#sk-container-id-8 input.sk-toggleable__control:checked~div.sk-toggleable__content {\n",
       "  /* Expand drop-down */\n",
       "  max-height: 200px;\n",
       "  max-width: 100%;\n",
       "  overflow: auto;\n",
       "}\n",
       "\n",
       "#sk-container-id-8 input.sk-toggleable__control:checked~label.sk-toggleable__label-arrow:before {\n",
       "  content: \"▾\";\n",
       "}\n",
       "\n",
       "/* Pipeline/ColumnTransformer-specific style */\n",
       "\n",
       "#sk-container-id-8 div.sk-label input.sk-toggleable__control:checked~label.sk-toggleable__label {\n",
       "  color: var(--sklearn-color-text);\n",
       "  background-color: var(--sklearn-color-unfitted-level-2);\n",
       "}\n",
       "\n",
       "#sk-container-id-8 div.sk-label.fitted input.sk-toggleable__control:checked~label.sk-toggleable__label {\n",
       "  background-color: var(--sklearn-color-fitted-level-2);\n",
       "}\n",
       "\n",
       "/* Estimator-specific style */\n",
       "\n",
       "/* Colorize estimator box */\n",
       "#sk-container-id-8 div.sk-estimator input.sk-toggleable__control:checked~label.sk-toggleable__label {\n",
       "  /* unfitted */\n",
       "  background-color: var(--sklearn-color-unfitted-level-2);\n",
       "}\n",
       "\n",
       "#sk-container-id-8 div.sk-estimator.fitted input.sk-toggleable__control:checked~label.sk-toggleable__label {\n",
       "  /* fitted */\n",
       "  background-color: var(--sklearn-color-fitted-level-2);\n",
       "}\n",
       "\n",
       "#sk-container-id-8 div.sk-label label.sk-toggleable__label,\n",
       "#sk-container-id-8 div.sk-label label {\n",
       "  /* The background is the default theme color */\n",
       "  color: var(--sklearn-color-text-on-default-background);\n",
       "}\n",
       "\n",
       "/* On hover, darken the color of the background */\n",
       "#sk-container-id-8 div.sk-label:hover label.sk-toggleable__label {\n",
       "  color: var(--sklearn-color-text);\n",
       "  background-color: var(--sklearn-color-unfitted-level-2);\n",
       "}\n",
       "\n",
       "/* Label box, darken color on hover, fitted */\n",
       "#sk-container-id-8 div.sk-label.fitted:hover label.sk-toggleable__label.fitted {\n",
       "  color: var(--sklearn-color-text);\n",
       "  background-color: var(--sklearn-color-fitted-level-2);\n",
       "}\n",
       "\n",
       "/* Estimator label */\n",
       "\n",
       "#sk-container-id-8 div.sk-label label {\n",
       "  font-family: monospace;\n",
       "  font-weight: bold;\n",
       "  display: inline-block;\n",
       "  line-height: 1.2em;\n",
       "}\n",
       "\n",
       "#sk-container-id-8 div.sk-label-container {\n",
       "  text-align: center;\n",
       "}\n",
       "\n",
       "/* Estimator-specific */\n",
       "#sk-container-id-8 div.sk-estimator {\n",
       "  font-family: monospace;\n",
       "  border: 1px dotted var(--sklearn-color-border-box);\n",
       "  border-radius: 0.25em;\n",
       "  box-sizing: border-box;\n",
       "  margin-bottom: 0.5em;\n",
       "  /* unfitted */\n",
       "  background-color: var(--sklearn-color-unfitted-level-0);\n",
       "}\n",
       "\n",
       "#sk-container-id-8 div.sk-estimator.fitted {\n",
       "  /* fitted */\n",
       "  background-color: var(--sklearn-color-fitted-level-0);\n",
       "}\n",
       "\n",
       "/* on hover */\n",
       "#sk-container-id-8 div.sk-estimator:hover {\n",
       "  /* unfitted */\n",
       "  background-color: var(--sklearn-color-unfitted-level-2);\n",
       "}\n",
       "\n",
       "#sk-container-id-8 div.sk-estimator.fitted:hover {\n",
       "  /* fitted */\n",
       "  background-color: var(--sklearn-color-fitted-level-2);\n",
       "}\n",
       "\n",
       "/* Specification for estimator info (e.g. \"i\" and \"?\") */\n",
       "\n",
       "/* Common style for \"i\" and \"?\" */\n",
       "\n",
       ".sk-estimator-doc-link,\n",
       "a:link.sk-estimator-doc-link,\n",
       "a:visited.sk-estimator-doc-link {\n",
       "  float: right;\n",
       "  font-size: smaller;\n",
       "  line-height: 1em;\n",
       "  font-family: monospace;\n",
       "  background-color: var(--sklearn-color-background);\n",
       "  border-radius: 1em;\n",
       "  height: 1em;\n",
       "  width: 1em;\n",
       "  text-decoration: none !important;\n",
       "  margin-left: 0.5em;\n",
       "  text-align: center;\n",
       "  /* unfitted */\n",
       "  border: var(--sklearn-color-unfitted-level-1) 1pt solid;\n",
       "  color: var(--sklearn-color-unfitted-level-1);\n",
       "}\n",
       "\n",
       ".sk-estimator-doc-link.fitted,\n",
       "a:link.sk-estimator-doc-link.fitted,\n",
       "a:visited.sk-estimator-doc-link.fitted {\n",
       "  /* fitted */\n",
       "  border: var(--sklearn-color-fitted-level-1) 1pt solid;\n",
       "  color: var(--sklearn-color-fitted-level-1);\n",
       "}\n",
       "\n",
       "/* On hover */\n",
       "div.sk-estimator:hover .sk-estimator-doc-link:hover,\n",
       ".sk-estimator-doc-link:hover,\n",
       "div.sk-label-container:hover .sk-estimator-doc-link:hover,\n",
       ".sk-estimator-doc-link:hover {\n",
       "  /* unfitted */\n",
       "  background-color: var(--sklearn-color-unfitted-level-3);\n",
       "  color: var(--sklearn-color-background);\n",
       "  text-decoration: none;\n",
       "}\n",
       "\n",
       "div.sk-estimator.fitted:hover .sk-estimator-doc-link.fitted:hover,\n",
       ".sk-estimator-doc-link.fitted:hover,\n",
       "div.sk-label-container:hover .sk-estimator-doc-link.fitted:hover,\n",
       ".sk-estimator-doc-link.fitted:hover {\n",
       "  /* fitted */\n",
       "  background-color: var(--sklearn-color-fitted-level-3);\n",
       "  color: var(--sklearn-color-background);\n",
       "  text-decoration: none;\n",
       "}\n",
       "\n",
       "/* Span, style for the box shown on hovering the info icon */\n",
       ".sk-estimator-doc-link span {\n",
       "  display: none;\n",
       "  z-index: 9999;\n",
       "  position: relative;\n",
       "  font-weight: normal;\n",
       "  right: .2ex;\n",
       "  padding: .5ex;\n",
       "  margin: .5ex;\n",
       "  width: min-content;\n",
       "  min-width: 20ex;\n",
       "  max-width: 50ex;\n",
       "  color: var(--sklearn-color-text);\n",
       "  box-shadow: 2pt 2pt 4pt #999;\n",
       "  /* unfitted */\n",
       "  background: var(--sklearn-color-unfitted-level-0);\n",
       "  border: .5pt solid var(--sklearn-color-unfitted-level-3);\n",
       "}\n",
       "\n",
       ".sk-estimator-doc-link.fitted span {\n",
       "  /* fitted */\n",
       "  background: var(--sklearn-color-fitted-level-0);\n",
       "  border: var(--sklearn-color-fitted-level-3);\n",
       "}\n",
       "\n",
       ".sk-estimator-doc-link:hover span {\n",
       "  display: block;\n",
       "}\n",
       "\n",
       "/* \"?\"-specific style due to the `<a>` HTML tag */\n",
       "\n",
       "#sk-container-id-8 a.estimator_doc_link {\n",
       "  float: right;\n",
       "  font-size: 1rem;\n",
       "  line-height: 1em;\n",
       "  font-family: monospace;\n",
       "  background-color: var(--sklearn-color-background);\n",
       "  border-radius: 1rem;\n",
       "  height: 1rem;\n",
       "  width: 1rem;\n",
       "  text-decoration: none;\n",
       "  /* unfitted */\n",
       "  color: var(--sklearn-color-unfitted-level-1);\n",
       "  border: var(--sklearn-color-unfitted-level-1) 1pt solid;\n",
       "}\n",
       "\n",
       "#sk-container-id-8 a.estimator_doc_link.fitted {\n",
       "  /* fitted */\n",
       "  border: var(--sklearn-color-fitted-level-1) 1pt solid;\n",
       "  color: var(--sklearn-color-fitted-level-1);\n",
       "}\n",
       "\n",
       "/* On hover */\n",
       "#sk-container-id-8 a.estimator_doc_link:hover {\n",
       "  /* unfitted */\n",
       "  background-color: var(--sklearn-color-unfitted-level-3);\n",
       "  color: var(--sklearn-color-background);\n",
       "  text-decoration: none;\n",
       "}\n",
       "\n",
       "#sk-container-id-8 a.estimator_doc_link.fitted:hover {\n",
       "  /* fitted */\n",
       "  background-color: var(--sklearn-color-fitted-level-3);\n",
       "}\n",
       "</style><div id=\"sk-container-id-8\" class=\"sk-top-container\"><div class=\"sk-text-repr-fallback\"><pre>GridSearchCV(cv=5,\n",
       "             estimator=XGBRegressor(base_score=None, booster=None,\n",
       "                                    callbacks=None, colsample_bylevel=None,\n",
       "                                    colsample_bynode=None,\n",
       "                                    colsample_bytree=None, device=None,\n",
       "                                    early_stopping_rounds=None,\n",
       "                                    enable_categorical=False, eval_metric=None,\n",
       "                                    feature_types=None, feature_weights=None,\n",
       "                                    gamma=None, grow_policy=None,\n",
       "                                    importance_type=None,\n",
       "                                    interaction_constraints=None...\n",
       "                                    max_depth=None, max_leaves=None,\n",
       "                                    min_child_weight=None, missing=nan,\n",
       "                                    monotone_constraints=None,\n",
       "                                    multi_strategy=None, n_estimators=None,\n",
       "                                    n_jobs=None, num_parallel_tree=None, ...),\n",
       "             param_grid={&#x27;colsample_bytree&#x27;: [0.5, 0.95],\n",
       "                         &#x27;eval_metric&#x27;: [&#x27;rmse&#x27;],\n",
       "                         &#x27;learning_rate&#x27;: [0.005, 0.05], &#x27;max_depth&#x27;: [5],\n",
       "                         &#x27;n_estimators&#x27;: [150, 200], &#x27;subsample&#x27;: [0.5, 0.6]},\n",
       "             scoring=&#x27;neg_mean_squared_error&#x27;)</pre><b>In a Jupyter environment, please rerun this cell to show the HTML representation or trust the notebook. <br />On GitHub, the HTML representation is unable to render, please try loading this page with nbviewer.org.</b></div><div class=\"sk-container\" hidden><div class=\"sk-item sk-dashed-wrapped\"><div class=\"sk-label-container\"><div class=\"sk-label fitted sk-toggleable\"><input class=\"sk-toggleable__control sk-hidden--visually\" id=\"sk-estimator-id-22\" type=\"checkbox\" ><label for=\"sk-estimator-id-22\" class=\"sk-toggleable__label fitted sk-toggleable__label-arrow\"><div><div>GridSearchCV</div></div><div><a class=\"sk-estimator-doc-link fitted\" rel=\"noreferrer\" target=\"_blank\" href=\"https://scikit-learn.org/1.6/modules/generated/sklearn.model_selection.GridSearchCV.html\">?<span>Documentation for GridSearchCV</span></a><span class=\"sk-estimator-doc-link fitted\">i<span>Fitted</span></span></div></label><div class=\"sk-toggleable__content fitted\"><pre>GridSearchCV(cv=5,\n",
       "             estimator=XGBRegressor(base_score=None, booster=None,\n",
       "                                    callbacks=None, colsample_bylevel=None,\n",
       "                                    colsample_bynode=None,\n",
       "                                    colsample_bytree=None, device=None,\n",
       "                                    early_stopping_rounds=None,\n",
       "                                    enable_categorical=False, eval_metric=None,\n",
       "                                    feature_types=None, feature_weights=None,\n",
       "                                    gamma=None, grow_policy=None,\n",
       "                                    importance_type=None,\n",
       "                                    interaction_constraints=None...\n",
       "                                    max_depth=None, max_leaves=None,\n",
       "                                    min_child_weight=None, missing=nan,\n",
       "                                    monotone_constraints=None,\n",
       "                                    multi_strategy=None, n_estimators=None,\n",
       "                                    n_jobs=None, num_parallel_tree=None, ...),\n",
       "             param_grid={&#x27;colsample_bytree&#x27;: [0.5, 0.95],\n",
       "                         &#x27;eval_metric&#x27;: [&#x27;rmse&#x27;],\n",
       "                         &#x27;learning_rate&#x27;: [0.005, 0.05], &#x27;max_depth&#x27;: [5],\n",
       "                         &#x27;n_estimators&#x27;: [150, 200], &#x27;subsample&#x27;: [0.5, 0.6]},\n",
       "             scoring=&#x27;neg_mean_squared_error&#x27;)</pre></div> </div></div><div class=\"sk-parallel\"><div class=\"sk-parallel-item\"><div class=\"sk-item\"><div class=\"sk-label-container\"><div class=\"sk-label fitted sk-toggleable\"><input class=\"sk-toggleable__control sk-hidden--visually\" id=\"sk-estimator-id-23\" type=\"checkbox\" ><label for=\"sk-estimator-id-23\" class=\"sk-toggleable__label fitted sk-toggleable__label-arrow\"><div><div>best_estimator_: XGBRegressor</div></div></label><div class=\"sk-toggleable__content fitted\"><pre>XGBRegressor(base_score=None, booster=None, callbacks=None,\n",
       "             colsample_bylevel=None, colsample_bynode=None,\n",
       "             colsample_bytree=0.5, device=None, early_stopping_rounds=None,\n",
       "             enable_categorical=False, eval_metric=&#x27;rmse&#x27;, feature_types=None,\n",
       "             feature_weights=None, gamma=None, grow_policy=None,\n",
       "             importance_type=None, interaction_constraints=None,\n",
       "             learning_rate=0.05, max_bin=None, max_cat_threshold=None,\n",
       "             max_cat_to_onehot=None, max_delta_step=None, max_depth=5,\n",
       "             max_leaves=None, min_child_weight=None, missing=nan,\n",
       "             monotone_constraints=None, multi_strategy=None, n_estimators=200,\n",
       "             n_jobs=None, num_parallel_tree=None, ...)</pre></div> </div></div><div class=\"sk-serial\"><div class=\"sk-item\"><div class=\"sk-estimator fitted sk-toggleable\"><input class=\"sk-toggleable__control sk-hidden--visually\" id=\"sk-estimator-id-24\" type=\"checkbox\" ><label for=\"sk-estimator-id-24\" class=\"sk-toggleable__label fitted sk-toggleable__label-arrow\"><div><div>XGBRegressor</div></div><div><a class=\"sk-estimator-doc-link fitted\" rel=\"noreferrer\" target=\"_blank\" href=\"https://xgboost.readthedocs.io/en/release_3.0.0/python/python_api.html#xgboost.XGBRegressor\">?<span>Documentation for XGBRegressor</span></a></div></label><div class=\"sk-toggleable__content fitted\"><pre>XGBRegressor(base_score=None, booster=None, callbacks=None,\n",
       "             colsample_bylevel=None, colsample_bynode=None,\n",
       "             colsample_bytree=0.5, device=None, early_stopping_rounds=None,\n",
       "             enable_categorical=False, eval_metric=&#x27;rmse&#x27;, feature_types=None,\n",
       "             feature_weights=None, gamma=None, grow_policy=None,\n",
       "             importance_type=None, interaction_constraints=None,\n",
       "             learning_rate=0.05, max_bin=None, max_cat_threshold=None,\n",
       "             max_cat_to_onehot=None, max_delta_step=None, max_depth=5,\n",
       "             max_leaves=None, min_child_weight=None, missing=nan,\n",
       "             monotone_constraints=None, multi_strategy=None, n_estimators=200,\n",
       "             n_jobs=None, num_parallel_tree=None, ...)</pre></div> </div></div></div></div></div></div></div></div></div>"
      ],
      "text/plain": [
       "GridSearchCV(cv=5,\n",
       "             estimator=XGBRegressor(base_score=None, booster=None,\n",
       "                                    callbacks=None, colsample_bylevel=None,\n",
       "                                    colsample_bynode=None,\n",
       "                                    colsample_bytree=None, device=None,\n",
       "                                    early_stopping_rounds=None,\n",
       "                                    enable_categorical=False, eval_metric=None,\n",
       "                                    feature_types=None, feature_weights=None,\n",
       "                                    gamma=None, grow_policy=None,\n",
       "                                    importance_type=None,\n",
       "                                    interaction_constraints=None...\n",
       "                                    max_depth=None, max_leaves=None,\n",
       "                                    min_child_weight=None, missing=nan,\n",
       "                                    monotone_constraints=None,\n",
       "                                    multi_strategy=None, n_estimators=None,\n",
       "                                    n_jobs=None, num_parallel_tree=None, ...),\n",
       "             param_grid={'colsample_bytree': [0.5, 0.95],\n",
       "                         'eval_metric': ['rmse'],\n",
       "                         'learning_rate': [0.005, 0.05], 'max_depth': [5],\n",
       "                         'n_estimators': [150, 200], 'subsample': [0.5, 0.6]},\n",
       "             scoring='neg_mean_squared_error')"
      ]
     },
     "execution_count": 356,
     "metadata": {},
     "output_type": "execute_result"
    }
   ],
   "source": [
    "# Import XGBoost regressor\n",
    "XGBRegressor = xgb.XGBRegressor(random_state=54321,objective='reg:squarederror')\n",
    "\n",
    "# Configurar GridSearchCV\n",
    "grid_search_XGB = GridSearchCV(estimator=XGBRegressor, param_grid =param_grid_XGB, scoring='neg_mean_squared_error', cv=5)\n",
    "\n",
    "# Train the XGBoost model on training features and target\n",
    "grid_search_XGB.fit(train_features, train_target)"
   ]
  },
  {
   "cell_type": "code",
   "execution_count": 357,
   "metadata": {},
   "outputs": [],
   "source": [
    "# Make predictions on training features\n",
    "predict_train3 = grid_search_XGB.predict(train_features)"
   ]
  },
  {
   "cell_type": "code",
   "execution_count": 358,
   "metadata": {},
   "outputs": [],
   "source": [
    "# Make predictions on test features\n",
    "predict_test3 = grid_search_XGB.predict(test_features)"
   ]
  },
  {
   "cell_type": "code",
   "execution_count": 359,
   "metadata": {},
   "outputs": [
    {
     "name": "stdout",
     "output_type": "stream",
     "text": [
      "XGBRegressor:\n",
      "Best parameters: {'colsample_bytree': 0.5, 'eval_metric': 'rmse', 'learning_rate': 0.05, 'max_depth': 5, 'n_estimators': 200, 'subsample': 0.6}\n",
      "RMSE for training set: 17.099372789803944\n",
      "RMSE for test set: 52.30906266708834\n"
     ]
    }
   ],
   "source": [
    "# Evaluate XGBRegressor performance\n",
    "print('XGBRegressor:')\n",
    "\n",
    "# Print the best parameters found by grid search\n",
    "print(\"Best parameters:\", grid_search_XGB.best_params_)\n",
    "\n",
    "print('RMSE for training set:', mean_squared_error(train_target, predict_train3)** 0.5)\n",
    "print('RMSE for test set:', mean_squared_error(test_target, predict_test3) ** 0.5)"
   ]
  },
  {
   "cell_type": "markdown",
   "metadata": {},
   "source": [
    "## CatBoostRegressor"
   ]
  },
  {
   "cell_type": "code",
   "execution_count": 360,
   "metadata": {},
   "outputs": [],
   "source": [
    "# Define a parameter grid for CatBoostRegressor\n",
    "param_grid_CBR = {\n",
    "    'depth': [5,7],  # Maximum tree depth\n",
    "    'learning_rate': [0.1,0.05],  # Learning rate for gradient boosting\n",
    "    'iterations': [500,1000],#Adjust the number of iterations (trees)\n",
    "    'l2_leaf_reg':[2,4],#Control random sampling for each tree.\n",
    "    'subsample':[0.7, 0.8],#Fraction of the data used to train each tree.\n",
    "    'rsm': [0.9,1]\n",
    "}"
   ]
  },
  {
   "cell_type": "code",
   "execution_count": 361,
   "metadata": {},
   "outputs": [
    {
     "data": {
      "text/html": [
       "<style>#sk-container-id-9 {\n",
       "  /* Definition of color scheme common for light and dark mode */\n",
       "  --sklearn-color-text: #000;\n",
       "  --sklearn-color-text-muted: #666;\n",
       "  --sklearn-color-line: gray;\n",
       "  /* Definition of color scheme for unfitted estimators */\n",
       "  --sklearn-color-unfitted-level-0: #fff5e6;\n",
       "  --sklearn-color-unfitted-level-1: #f6e4d2;\n",
       "  --sklearn-color-unfitted-level-2: #ffe0b3;\n",
       "  --sklearn-color-unfitted-level-3: chocolate;\n",
       "  /* Definition of color scheme for fitted estimators */\n",
       "  --sklearn-color-fitted-level-0: #f0f8ff;\n",
       "  --sklearn-color-fitted-level-1: #d4ebff;\n",
       "  --sklearn-color-fitted-level-2: #b3dbfd;\n",
       "  --sklearn-color-fitted-level-3: cornflowerblue;\n",
       "\n",
       "  /* Specific color for light theme */\n",
       "  --sklearn-color-text-on-default-background: var(--sg-text-color, var(--theme-code-foreground, var(--jp-content-font-color1, black)));\n",
       "  --sklearn-color-background: var(--sg-background-color, var(--theme-background, var(--jp-layout-color0, white)));\n",
       "  --sklearn-color-border-box: var(--sg-text-color, var(--theme-code-foreground, var(--jp-content-font-color1, black)));\n",
       "  --sklearn-color-icon: #696969;\n",
       "\n",
       "  @media (prefers-color-scheme: dark) {\n",
       "    /* Redefinition of color scheme for dark theme */\n",
       "    --sklearn-color-text-on-default-background: var(--sg-text-color, var(--theme-code-foreground, var(--jp-content-font-color1, white)));\n",
       "    --sklearn-color-background: var(--sg-background-color, var(--theme-background, var(--jp-layout-color0, #111)));\n",
       "    --sklearn-color-border-box: var(--sg-text-color, var(--theme-code-foreground, var(--jp-content-font-color1, white)));\n",
       "    --sklearn-color-icon: #878787;\n",
       "  }\n",
       "}\n",
       "\n",
       "#sk-container-id-9 {\n",
       "  color: var(--sklearn-color-text);\n",
       "}\n",
       "\n",
       "#sk-container-id-9 pre {\n",
       "  padding: 0;\n",
       "}\n",
       "\n",
       "#sk-container-id-9 input.sk-hidden--visually {\n",
       "  border: 0;\n",
       "  clip: rect(1px 1px 1px 1px);\n",
       "  clip: rect(1px, 1px, 1px, 1px);\n",
       "  height: 1px;\n",
       "  margin: -1px;\n",
       "  overflow: hidden;\n",
       "  padding: 0;\n",
       "  position: absolute;\n",
       "  width: 1px;\n",
       "}\n",
       "\n",
       "#sk-container-id-9 div.sk-dashed-wrapped {\n",
       "  border: 1px dashed var(--sklearn-color-line);\n",
       "  margin: 0 0.4em 0.5em 0.4em;\n",
       "  box-sizing: border-box;\n",
       "  padding-bottom: 0.4em;\n",
       "  background-color: var(--sklearn-color-background);\n",
       "}\n",
       "\n",
       "#sk-container-id-9 div.sk-container {\n",
       "  /* jupyter's `normalize.less` sets `[hidden] { display: none; }`\n",
       "     but bootstrap.min.css set `[hidden] { display: none !important; }`\n",
       "     so we also need the `!important` here to be able to override the\n",
       "     default hidden behavior on the sphinx rendered scikit-learn.org.\n",
       "     See: https://github.com/scikit-learn/scikit-learn/issues/21755 */\n",
       "  display: inline-block !important;\n",
       "  position: relative;\n",
       "}\n",
       "\n",
       "#sk-container-id-9 div.sk-text-repr-fallback {\n",
       "  display: none;\n",
       "}\n",
       "\n",
       "div.sk-parallel-item,\n",
       "div.sk-serial,\n",
       "div.sk-item {\n",
       "  /* draw centered vertical line to link estimators */\n",
       "  background-image: linear-gradient(var(--sklearn-color-text-on-default-background), var(--sklearn-color-text-on-default-background));\n",
       "  background-size: 2px 100%;\n",
       "  background-repeat: no-repeat;\n",
       "  background-position: center center;\n",
       "}\n",
       "\n",
       "/* Parallel-specific style estimator block */\n",
       "\n",
       "#sk-container-id-9 div.sk-parallel-item::after {\n",
       "  content: \"\";\n",
       "  width: 100%;\n",
       "  border-bottom: 2px solid var(--sklearn-color-text-on-default-background);\n",
       "  flex-grow: 1;\n",
       "}\n",
       "\n",
       "#sk-container-id-9 div.sk-parallel {\n",
       "  display: flex;\n",
       "  align-items: stretch;\n",
       "  justify-content: center;\n",
       "  background-color: var(--sklearn-color-background);\n",
       "  position: relative;\n",
       "}\n",
       "\n",
       "#sk-container-id-9 div.sk-parallel-item {\n",
       "  display: flex;\n",
       "  flex-direction: column;\n",
       "}\n",
       "\n",
       "#sk-container-id-9 div.sk-parallel-item:first-child::after {\n",
       "  align-self: flex-end;\n",
       "  width: 50%;\n",
       "}\n",
       "\n",
       "#sk-container-id-9 div.sk-parallel-item:last-child::after {\n",
       "  align-self: flex-start;\n",
       "  width: 50%;\n",
       "}\n",
       "\n",
       "#sk-container-id-9 div.sk-parallel-item:only-child::after {\n",
       "  width: 0;\n",
       "}\n",
       "\n",
       "/* Serial-specific style estimator block */\n",
       "\n",
       "#sk-container-id-9 div.sk-serial {\n",
       "  display: flex;\n",
       "  flex-direction: column;\n",
       "  align-items: center;\n",
       "  background-color: var(--sklearn-color-background);\n",
       "  padding-right: 1em;\n",
       "  padding-left: 1em;\n",
       "}\n",
       "\n",
       "\n",
       "/* Toggleable style: style used for estimator/Pipeline/ColumnTransformer box that is\n",
       "clickable and can be expanded/collapsed.\n",
       "- Pipeline and ColumnTransformer use this feature and define the default style\n",
       "- Estimators will overwrite some part of the style using the `sk-estimator` class\n",
       "*/\n",
       "\n",
       "/* Pipeline and ColumnTransformer style (default) */\n",
       "\n",
       "#sk-container-id-9 div.sk-toggleable {\n",
       "  /* Default theme specific background. It is overwritten whether we have a\n",
       "  specific estimator or a Pipeline/ColumnTransformer */\n",
       "  background-color: var(--sklearn-color-background);\n",
       "}\n",
       "\n",
       "/* Toggleable label */\n",
       "#sk-container-id-9 label.sk-toggleable__label {\n",
       "  cursor: pointer;\n",
       "  display: flex;\n",
       "  width: 100%;\n",
       "  margin-bottom: 0;\n",
       "  padding: 0.5em;\n",
       "  box-sizing: border-box;\n",
       "  text-align: center;\n",
       "  align-items: start;\n",
       "  justify-content: space-between;\n",
       "  gap: 0.5em;\n",
       "}\n",
       "\n",
       "#sk-container-id-9 label.sk-toggleable__label .caption {\n",
       "  font-size: 0.6rem;\n",
       "  font-weight: lighter;\n",
       "  color: var(--sklearn-color-text-muted);\n",
       "}\n",
       "\n",
       "#sk-container-id-9 label.sk-toggleable__label-arrow:before {\n",
       "  /* Arrow on the left of the label */\n",
       "  content: \"▸\";\n",
       "  float: left;\n",
       "  margin-right: 0.25em;\n",
       "  color: var(--sklearn-color-icon);\n",
       "}\n",
       "\n",
       "#sk-container-id-9 label.sk-toggleable__label-arrow:hover:before {\n",
       "  color: var(--sklearn-color-text);\n",
       "}\n",
       "\n",
       "/* Toggleable content - dropdown */\n",
       "\n",
       "#sk-container-id-9 div.sk-toggleable__content {\n",
       "  max-height: 0;\n",
       "  max-width: 0;\n",
       "  overflow: hidden;\n",
       "  text-align: left;\n",
       "  /* unfitted */\n",
       "  background-color: var(--sklearn-color-unfitted-level-0);\n",
       "}\n",
       "\n",
       "#sk-container-id-9 div.sk-toggleable__content.fitted {\n",
       "  /* fitted */\n",
       "  background-color: var(--sklearn-color-fitted-level-0);\n",
       "}\n",
       "\n",
       "#sk-container-id-9 div.sk-toggleable__content pre {\n",
       "  margin: 0.2em;\n",
       "  border-radius: 0.25em;\n",
       "  color: var(--sklearn-color-text);\n",
       "  /* unfitted */\n",
       "  background-color: var(--sklearn-color-unfitted-level-0);\n",
       "}\n",
       "\n",
       "#sk-container-id-9 div.sk-toggleable__content.fitted pre {\n",
       "  /* unfitted */\n",
       "  background-color: var(--sklearn-color-fitted-level-0);\n",
       "}\n",
       "\n",
       "#sk-container-id-9 input.sk-toggleable__control:checked~div.sk-toggleable__content {\n",
       "  /* Expand drop-down */\n",
       "  max-height: 200px;\n",
       "  max-width: 100%;\n",
       "  overflow: auto;\n",
       "}\n",
       "\n",
       "#sk-container-id-9 input.sk-toggleable__control:checked~label.sk-toggleable__label-arrow:before {\n",
       "  content: \"▾\";\n",
       "}\n",
       "\n",
       "/* Pipeline/ColumnTransformer-specific style */\n",
       "\n",
       "#sk-container-id-9 div.sk-label input.sk-toggleable__control:checked~label.sk-toggleable__label {\n",
       "  color: var(--sklearn-color-text);\n",
       "  background-color: var(--sklearn-color-unfitted-level-2);\n",
       "}\n",
       "\n",
       "#sk-container-id-9 div.sk-label.fitted input.sk-toggleable__control:checked~label.sk-toggleable__label {\n",
       "  background-color: var(--sklearn-color-fitted-level-2);\n",
       "}\n",
       "\n",
       "/* Estimator-specific style */\n",
       "\n",
       "/* Colorize estimator box */\n",
       "#sk-container-id-9 div.sk-estimator input.sk-toggleable__control:checked~label.sk-toggleable__label {\n",
       "  /* unfitted */\n",
       "  background-color: var(--sklearn-color-unfitted-level-2);\n",
       "}\n",
       "\n",
       "#sk-container-id-9 div.sk-estimator.fitted input.sk-toggleable__control:checked~label.sk-toggleable__label {\n",
       "  /* fitted */\n",
       "  background-color: var(--sklearn-color-fitted-level-2);\n",
       "}\n",
       "\n",
       "#sk-container-id-9 div.sk-label label.sk-toggleable__label,\n",
       "#sk-container-id-9 div.sk-label label {\n",
       "  /* The background is the default theme color */\n",
       "  color: var(--sklearn-color-text-on-default-background);\n",
       "}\n",
       "\n",
       "/* On hover, darken the color of the background */\n",
       "#sk-container-id-9 div.sk-label:hover label.sk-toggleable__label {\n",
       "  color: var(--sklearn-color-text);\n",
       "  background-color: var(--sklearn-color-unfitted-level-2);\n",
       "}\n",
       "\n",
       "/* Label box, darken color on hover, fitted */\n",
       "#sk-container-id-9 div.sk-label.fitted:hover label.sk-toggleable__label.fitted {\n",
       "  color: var(--sklearn-color-text);\n",
       "  background-color: var(--sklearn-color-fitted-level-2);\n",
       "}\n",
       "\n",
       "/* Estimator label */\n",
       "\n",
       "#sk-container-id-9 div.sk-label label {\n",
       "  font-family: monospace;\n",
       "  font-weight: bold;\n",
       "  display: inline-block;\n",
       "  line-height: 1.2em;\n",
       "}\n",
       "\n",
       "#sk-container-id-9 div.sk-label-container {\n",
       "  text-align: center;\n",
       "}\n",
       "\n",
       "/* Estimator-specific */\n",
       "#sk-container-id-9 div.sk-estimator {\n",
       "  font-family: monospace;\n",
       "  border: 1px dotted var(--sklearn-color-border-box);\n",
       "  border-radius: 0.25em;\n",
       "  box-sizing: border-box;\n",
       "  margin-bottom: 0.5em;\n",
       "  /* unfitted */\n",
       "  background-color: var(--sklearn-color-unfitted-level-0);\n",
       "}\n",
       "\n",
       "#sk-container-id-9 div.sk-estimator.fitted {\n",
       "  /* fitted */\n",
       "  background-color: var(--sklearn-color-fitted-level-0);\n",
       "}\n",
       "\n",
       "/* on hover */\n",
       "#sk-container-id-9 div.sk-estimator:hover {\n",
       "  /* unfitted */\n",
       "  background-color: var(--sklearn-color-unfitted-level-2);\n",
       "}\n",
       "\n",
       "#sk-container-id-9 div.sk-estimator.fitted:hover {\n",
       "  /* fitted */\n",
       "  background-color: var(--sklearn-color-fitted-level-2);\n",
       "}\n",
       "\n",
       "/* Specification for estimator info (e.g. \"i\" and \"?\") */\n",
       "\n",
       "/* Common style for \"i\" and \"?\" */\n",
       "\n",
       ".sk-estimator-doc-link,\n",
       "a:link.sk-estimator-doc-link,\n",
       "a:visited.sk-estimator-doc-link {\n",
       "  float: right;\n",
       "  font-size: smaller;\n",
       "  line-height: 1em;\n",
       "  font-family: monospace;\n",
       "  background-color: var(--sklearn-color-background);\n",
       "  border-radius: 1em;\n",
       "  height: 1em;\n",
       "  width: 1em;\n",
       "  text-decoration: none !important;\n",
       "  margin-left: 0.5em;\n",
       "  text-align: center;\n",
       "  /* unfitted */\n",
       "  border: var(--sklearn-color-unfitted-level-1) 1pt solid;\n",
       "  color: var(--sklearn-color-unfitted-level-1);\n",
       "}\n",
       "\n",
       ".sk-estimator-doc-link.fitted,\n",
       "a:link.sk-estimator-doc-link.fitted,\n",
       "a:visited.sk-estimator-doc-link.fitted {\n",
       "  /* fitted */\n",
       "  border: var(--sklearn-color-fitted-level-1) 1pt solid;\n",
       "  color: var(--sklearn-color-fitted-level-1);\n",
       "}\n",
       "\n",
       "/* On hover */\n",
       "div.sk-estimator:hover .sk-estimator-doc-link:hover,\n",
       ".sk-estimator-doc-link:hover,\n",
       "div.sk-label-container:hover .sk-estimator-doc-link:hover,\n",
       ".sk-estimator-doc-link:hover {\n",
       "  /* unfitted */\n",
       "  background-color: var(--sklearn-color-unfitted-level-3);\n",
       "  color: var(--sklearn-color-background);\n",
       "  text-decoration: none;\n",
       "}\n",
       "\n",
       "div.sk-estimator.fitted:hover .sk-estimator-doc-link.fitted:hover,\n",
       ".sk-estimator-doc-link.fitted:hover,\n",
       "div.sk-label-container:hover .sk-estimator-doc-link.fitted:hover,\n",
       ".sk-estimator-doc-link.fitted:hover {\n",
       "  /* fitted */\n",
       "  background-color: var(--sklearn-color-fitted-level-3);\n",
       "  color: var(--sklearn-color-background);\n",
       "  text-decoration: none;\n",
       "}\n",
       "\n",
       "/* Span, style for the box shown on hovering the info icon */\n",
       ".sk-estimator-doc-link span {\n",
       "  display: none;\n",
       "  z-index: 9999;\n",
       "  position: relative;\n",
       "  font-weight: normal;\n",
       "  right: .2ex;\n",
       "  padding: .5ex;\n",
       "  margin: .5ex;\n",
       "  width: min-content;\n",
       "  min-width: 20ex;\n",
       "  max-width: 50ex;\n",
       "  color: var(--sklearn-color-text);\n",
       "  box-shadow: 2pt 2pt 4pt #999;\n",
       "  /* unfitted */\n",
       "  background: var(--sklearn-color-unfitted-level-0);\n",
       "  border: .5pt solid var(--sklearn-color-unfitted-level-3);\n",
       "}\n",
       "\n",
       ".sk-estimator-doc-link.fitted span {\n",
       "  /* fitted */\n",
       "  background: var(--sklearn-color-fitted-level-0);\n",
       "  border: var(--sklearn-color-fitted-level-3);\n",
       "}\n",
       "\n",
       ".sk-estimator-doc-link:hover span {\n",
       "  display: block;\n",
       "}\n",
       "\n",
       "/* \"?\"-specific style due to the `<a>` HTML tag */\n",
       "\n",
       "#sk-container-id-9 a.estimator_doc_link {\n",
       "  float: right;\n",
       "  font-size: 1rem;\n",
       "  line-height: 1em;\n",
       "  font-family: monospace;\n",
       "  background-color: var(--sklearn-color-background);\n",
       "  border-radius: 1rem;\n",
       "  height: 1rem;\n",
       "  width: 1rem;\n",
       "  text-decoration: none;\n",
       "  /* unfitted */\n",
       "  color: var(--sklearn-color-unfitted-level-1);\n",
       "  border: var(--sklearn-color-unfitted-level-1) 1pt solid;\n",
       "}\n",
       "\n",
       "#sk-container-id-9 a.estimator_doc_link.fitted {\n",
       "  /* fitted */\n",
       "  border: var(--sklearn-color-fitted-level-1) 1pt solid;\n",
       "  color: var(--sklearn-color-fitted-level-1);\n",
       "}\n",
       "\n",
       "/* On hover */\n",
       "#sk-container-id-9 a.estimator_doc_link:hover {\n",
       "  /* unfitted */\n",
       "  background-color: var(--sklearn-color-unfitted-level-3);\n",
       "  color: var(--sklearn-color-background);\n",
       "  text-decoration: none;\n",
       "}\n",
       "\n",
       "#sk-container-id-9 a.estimator_doc_link.fitted:hover {\n",
       "  /* fitted */\n",
       "  background-color: var(--sklearn-color-fitted-level-3);\n",
       "}\n",
       "</style><div id=\"sk-container-id-9\" class=\"sk-top-container\"><div class=\"sk-text-repr-fallback\"><pre>RandomizedSearchCV(cv=TimeSeriesSplit(gap=0, max_train_size=None, n_splits=5, test_size=None),\n",
       "                   estimator=&lt;catboost.core.CatBoostRegressor object at 0x191239550&gt;,\n",
       "                   n_iter=50,\n",
       "                   param_distributions={&#x27;depth&#x27;: [5, 7],\n",
       "                                        &#x27;iterations&#x27;: [500, 1000],\n",
       "                                        &#x27;l2_leaf_reg&#x27;: [2, 4],\n",
       "                                        &#x27;learning_rate&#x27;: [0.1, 0.05],\n",
       "                                        &#x27;rsm&#x27;: [0.9, 1],\n",
       "                                        &#x27;subsample&#x27;: [0.7, 0.8]},\n",
       "                   random_state=12345, scoring=&#x27;neg_mean_squared_error&#x27;)</pre><b>In a Jupyter environment, please rerun this cell to show the HTML representation or trust the notebook. <br />On GitHub, the HTML representation is unable to render, please try loading this page with nbviewer.org.</b></div><div class=\"sk-container\" hidden><div class=\"sk-item sk-dashed-wrapped\"><div class=\"sk-label-container\"><div class=\"sk-label fitted sk-toggleable\"><input class=\"sk-toggleable__control sk-hidden--visually\" id=\"sk-estimator-id-25\" type=\"checkbox\" ><label for=\"sk-estimator-id-25\" class=\"sk-toggleable__label fitted sk-toggleable__label-arrow\"><div><div>RandomizedSearchCV</div></div><div><a class=\"sk-estimator-doc-link fitted\" rel=\"noreferrer\" target=\"_blank\" href=\"https://scikit-learn.org/1.6/modules/generated/sklearn.model_selection.RandomizedSearchCV.html\">?<span>Documentation for RandomizedSearchCV</span></a><span class=\"sk-estimator-doc-link fitted\">i<span>Fitted</span></span></div></label><div class=\"sk-toggleable__content fitted\"><pre>RandomizedSearchCV(cv=TimeSeriesSplit(gap=0, max_train_size=None, n_splits=5, test_size=None),\n",
       "                   estimator=&lt;catboost.core.CatBoostRegressor object at 0x191239550&gt;,\n",
       "                   n_iter=50,\n",
       "                   param_distributions={&#x27;depth&#x27;: [5, 7],\n",
       "                                        &#x27;iterations&#x27;: [500, 1000],\n",
       "                                        &#x27;l2_leaf_reg&#x27;: [2, 4],\n",
       "                                        &#x27;learning_rate&#x27;: [0.1, 0.05],\n",
       "                                        &#x27;rsm&#x27;: [0.9, 1],\n",
       "                                        &#x27;subsample&#x27;: [0.7, 0.8]},\n",
       "                   random_state=12345, scoring=&#x27;neg_mean_squared_error&#x27;)</pre></div> </div></div><div class=\"sk-parallel\"><div class=\"sk-parallel-item\"><div class=\"sk-item\"><div class=\"sk-label-container\"><div class=\"sk-label fitted sk-toggleable\"><input class=\"sk-toggleable__control sk-hidden--visually\" id=\"sk-estimator-id-26\" type=\"checkbox\" ><label for=\"sk-estimator-id-26\" class=\"sk-toggleable__label fitted sk-toggleable__label-arrow\"><div><div>best_estimator_: CatBoostRegressor</div></div></label><div class=\"sk-toggleable__content fitted\"><pre>&lt;catboost.core.CatBoostRegressor object at 0x193384a10&gt;</pre></div> </div></div><div class=\"sk-serial\"><div class=\"sk-item\"><div class=\"sk-estimator fitted sk-toggleable\"><input class=\"sk-toggleable__control sk-hidden--visually\" id=\"sk-estimator-id-27\" type=\"checkbox\" ><label for=\"sk-estimator-id-27\" class=\"sk-toggleable__label fitted sk-toggleable__label-arrow\"><div><div>CatBoostRegressor</div></div></label><div class=\"sk-toggleable__content fitted\"><pre>&lt;catboost.core.CatBoostRegressor object at 0x193384a10&gt;</pre></div> </div></div></div></div></div></div></div></div></div>"
      ],
      "text/plain": [
       "RandomizedSearchCV(cv=TimeSeriesSplit(gap=0, max_train_size=None, n_splits=5, test_size=None),\n",
       "                   estimator=<catboost.core.CatBoostRegressor object at 0x191239550>,\n",
       "                   n_iter=50,\n",
       "                   param_distributions={'depth': [5, 7],\n",
       "                                        'iterations': [500, 1000],\n",
       "                                        'l2_leaf_reg': [2, 4],\n",
       "                                        'learning_rate': [0.1, 0.05],\n",
       "                                        'rsm': [0.9, 1],\n",
       "                                        'subsample': [0.7, 0.8]},\n",
       "                   random_state=12345, scoring='neg_mean_squared_error')"
      ]
     },
     "execution_count": 361,
     "metadata": {},
     "output_type": "execute_result"
    }
   ],
   "source": [
    "\n",
    "random_search_CBR = RandomizedSearchCV(\n",
    "    estimator=CatBoostRegressor(),\n",
    "    param_distributions=param_grid_CBR,\n",
    "    n_iter=50,\n",
    "    scoring='neg_mean_squared_error',\n",
    "    cv=TimeSeriesSplit(n_splits=5),\n",
    "    random_state=12345\n",
    ")\n",
    "random_search_CBR.fit(train_features, train_target, verbose=0)"
   ]
  },
  {
   "cell_type": "code",
   "execution_count": 362,
   "metadata": {},
   "outputs": [],
   "source": [
    "# Make predictions on the training data using the best model from grid search\n",
    "predict_train4 = random_search_CBR.predict(train_features)"
   ]
  },
  {
   "cell_type": "code",
   "execution_count": 363,
   "metadata": {},
   "outputs": [],
   "source": [
    "# Make predictions on the test data using the best model from grid search\n",
    "predict_test4 = random_search_CBR.predict(test_features)"
   ]
  },
  {
   "cell_type": "code",
   "execution_count": 364,
   "metadata": {},
   "outputs": [
    {
     "name": "stdout",
     "output_type": "stream",
     "text": [
      "CatBoost:\n",
      "RECM for training set: 18.13869483794244\n",
      "RECM for test set: 44.26609244725891\n",
      "Best parameters:\n",
      "{'subsample': 0.7, 'rsm': 0.9, 'learning_rate': 0.05, 'l2_leaf_reg': 4, 'iterations': 500, 'depth': 5}\n",
      "Best score (negative mean squared error):\n",
      "-596.1779437992567\n"
     ]
    }
   ],
   "source": [
    "# Print results for CatBoostRegressor\n",
    "print('CatBoost:')\n",
    "print('RECM for training set:', mean_squared_error(train_target, predict_train4)** 0.5)\n",
    "print('RECM for test set:', mean_squared_error(test_target, predict_test4)** 0.5)\n",
    "\n",
    "# Print the best parameters found by grid search\n",
    "print('Best parameters:')\n",
    "print(random_search_CBR.best_params_)\n",
    "\n",
    "# Print the best score (negative mean squared error in this case)\n",
    "print('Best score (negative mean squared error):')\n",
    "print(random_search_CBR.best_score_)"
   ]
  },
  {
   "cell_type": "markdown",
   "metadata": {},
   "source": [
    "### 2 Layer Neural Network Models"
   ]
  },
  {
   "cell_type": "code",
   "execution_count": 365,
   "metadata": {},
   "outputs": [],
   "source": [
    "features = features.astype(np.float32)\n",
    "target = target.astype(np.float32)"
   ]
  },
  {
   "cell_type": "code",
   "execution_count": 366,
   "metadata": {},
   "outputs": [],
   "source": [
    "to_scale = features.copy()"
   ]
  },
  {
   "cell_type": "code",
   "execution_count": 367,
   "metadata": {},
   "outputs": [],
   "source": [
    "scaler = StandardScaler()\n",
    "scaled_data = scaler.fit_transform(to_scale)"
   ]
  },
  {
   "cell_type": "code",
   "execution_count": 368,
   "metadata": {},
   "outputs": [],
   "source": [
    "# Split data into training and testing sets\n",
    "train_features_sc, test_features_sc, train_target_sc, test_target_sc = train_test_split(\n",
    "    scaled_data, target, test_size=0.1, random_state=12345, shuffle=False\n",
    ")"
   ]
  },
  {
   "cell_type": "code",
   "execution_count": 369,
   "metadata": {},
   "outputs": [],
   "source": [
    "\n",
    "def MPL_model(input_dim):\n",
    "    # Define the input layer:\n",
    "    inputs = Input(shape=(input_dim,)) # Input layer with shape based on input_dim\n",
    "    \n",
    "    # Connect the dense layer to the input layer.\n",
    "    x = Dense(64, activation ='relu', kernel_regularizer=l2(0.01))(inputs) # Fully connected layer with 64 neurons, ReLU activation\n",
    "    \n",
    "    # Dropout layer to prevent overfitting. Randomly disables neurons during training.\n",
    "    x = Dropout(0.3)(x)\n",
    "    \n",
    "    # Another dense (fully connected) layer.\n",
    "    x = Dense(32, activation='relu')(x) # Fully connected layer with 32 neurons, ReLU activation\n",
    "    \n",
    "    # Another dropout layer.\n",
    "    x = Dropout(0.2)(x)\n",
    "    \n",
    "    # Output layer for binary classification.\n",
    "    outputs = Dense(1,activation='linear')(x)\n",
    "    \n",
    "    # Define the model to use.\n",
    "    model = keras.Model(inputs=inputs, outputs=outputs)# Create the Keras model\n",
    "    \n",
    "    #Compile the model.\n",
    "    model.compile(loss='mean_squared_error',optimizer='adam')\n",
    "    \n",
    "    return model"
   ]
  },
  {
   "cell_type": "code",
   "execution_count": 370,
   "metadata": {},
   "outputs": [
    {
     "name": "stdout",
     "output_type": "stream",
     "text": [
      "Epoch 1/60\n",
      "\u001b[1m125/125\u001b[0m \u001b[32m━━━━━━━━━━━━━━━━━━━━\u001b[0m\u001b[37m\u001b[0m \u001b[1m1s\u001b[0m 3ms/step - loss: 7281.4404 - val_loss: 10239.3164\n",
      "Epoch 2/60\n",
      "\u001b[1m125/125\u001b[0m \u001b[32m━━━━━━━━━━━━━━━━━━━━\u001b[0m\u001b[37m\u001b[0m \u001b[1m0s\u001b[0m 2ms/step - loss: 2742.0327 - val_loss: 2803.5432\n",
      "Epoch 3/60\n",
      "\u001b[1m125/125\u001b[0m \u001b[32m━━━━━━━━━━━━━━━━━━━━\u001b[0m\u001b[37m\u001b[0m \u001b[1m0s\u001b[0m 2ms/step - loss: 1323.6001 - val_loss: 2256.8896\n",
      "Epoch 4/60\n",
      "\u001b[1m125/125\u001b[0m \u001b[32m━━━━━━━━━━━━━━━━━━━━\u001b[0m\u001b[37m\u001b[0m \u001b[1m0s\u001b[0m 2ms/step - loss: 1121.6390 - val_loss: 2255.4907\n",
      "Epoch 5/60\n",
      "\u001b[1m125/125\u001b[0m \u001b[32m━━━━━━━━━━━━━━━━━━━━\u001b[0m\u001b[37m\u001b[0m \u001b[1m0s\u001b[0m 2ms/step - loss: 1031.8160 - val_loss: 2139.5962\n",
      "Epoch 6/60\n",
      "\u001b[1m125/125\u001b[0m \u001b[32m━━━━━━━━━━━━━━━━━━━━\u001b[0m\u001b[37m\u001b[0m \u001b[1m0s\u001b[0m 2ms/step - loss: 990.2256 - val_loss: 2075.0503\n",
      "Epoch 7/60\n",
      "\u001b[1m125/125\u001b[0m \u001b[32m━━━━━━━━━━━━━━━━━━━━\u001b[0m\u001b[37m\u001b[0m \u001b[1m0s\u001b[0m 2ms/step - loss: 909.1177 - val_loss: 2023.4497\n",
      "Epoch 8/60\n",
      "\u001b[1m125/125\u001b[0m \u001b[32m━━━━━━━━━━━━━━━━━━━━\u001b[0m\u001b[37m\u001b[0m \u001b[1m0s\u001b[0m 2ms/step - loss: 900.8492 - val_loss: 2011.0018\n",
      "Epoch 9/60\n",
      "\u001b[1m125/125\u001b[0m \u001b[32m━━━━━━━━━━━━━━━━━━━━\u001b[0m\u001b[37m\u001b[0m \u001b[1m0s\u001b[0m 2ms/step - loss: 885.8786 - val_loss: 2025.8320\n",
      "Epoch 10/60\n",
      "\u001b[1m125/125\u001b[0m \u001b[32m━━━━━━━━━━━━━━━━━━━━\u001b[0m\u001b[37m\u001b[0m \u001b[1m0s\u001b[0m 2ms/step - loss: 832.0621 - val_loss: 1984.4055\n",
      "Epoch 11/60\n",
      "\u001b[1m125/125\u001b[0m \u001b[32m━━━━━━━━━━━━━━━━━━━━\u001b[0m\u001b[37m\u001b[0m \u001b[1m0s\u001b[0m 2ms/step - loss: 846.3209 - val_loss: 2003.0887\n",
      "Epoch 12/60\n",
      "\u001b[1m125/125\u001b[0m \u001b[32m━━━━━━━━━━━━━━━━━━━━\u001b[0m\u001b[37m\u001b[0m \u001b[1m0s\u001b[0m 2ms/step - loss: 872.2723 - val_loss: 2033.1736\n",
      "Epoch 13/60\n",
      "\u001b[1m125/125\u001b[0m \u001b[32m━━━━━━━━━━━━━━━━━━━━\u001b[0m\u001b[37m\u001b[0m \u001b[1m0s\u001b[0m 2ms/step - loss: 801.7984 - val_loss: 1993.7811\n",
      "Epoch 14/60\n",
      "\u001b[1m125/125\u001b[0m \u001b[32m━━━━━━━━━━━━━━━━━━━━\u001b[0m\u001b[37m\u001b[0m \u001b[1m0s\u001b[0m 2ms/step - loss: 870.1646 - val_loss: 2022.4447\n",
      "Epoch 15/60\n",
      "\u001b[1m125/125\u001b[0m \u001b[32m━━━━━━━━━━━━━━━━━━━━\u001b[0m\u001b[37m\u001b[0m \u001b[1m0s\u001b[0m 2ms/step - loss: 821.3630 - val_loss: 1987.1652\n",
      "Epoch 16/60\n",
      "\u001b[1m125/125\u001b[0m \u001b[32m━━━━━━━━━━━━━━━━━━━━\u001b[0m\u001b[37m\u001b[0m \u001b[1m0s\u001b[0m 2ms/step - loss: 891.5693 - val_loss: 2016.5438\n",
      "Epoch 17/60\n",
      "\u001b[1m125/125\u001b[0m \u001b[32m━━━━━━━━━━━━━━━━━━━━\u001b[0m\u001b[37m\u001b[0m \u001b[1m0s\u001b[0m 2ms/step - loss: 818.6578 - val_loss: 1964.9561\n",
      "Epoch 18/60\n",
      "\u001b[1m125/125\u001b[0m \u001b[32m━━━━━━━━━━━━━━━━━━━━\u001b[0m\u001b[37m\u001b[0m \u001b[1m0s\u001b[0m 2ms/step - loss: 903.9911 - val_loss: 2035.5833\n",
      "Epoch 19/60\n",
      "\u001b[1m125/125\u001b[0m \u001b[32m━━━━━━━━━━━━━━━━━━━━\u001b[0m\u001b[37m\u001b[0m \u001b[1m0s\u001b[0m 2ms/step - loss: 793.6549 - val_loss: 1992.4056\n",
      "Epoch 20/60\n",
      "\u001b[1m125/125\u001b[0m \u001b[32m━━━━━━━━━━━━━━━━━━━━\u001b[0m\u001b[37m\u001b[0m \u001b[1m0s\u001b[0m 1ms/step - loss: 785.3417 - val_loss: 2027.1765\n",
      "Epoch 21/60\n",
      "\u001b[1m125/125\u001b[0m \u001b[32m━━━━━━━━━━━━━━━━━━━━\u001b[0m\u001b[37m\u001b[0m \u001b[1m0s\u001b[0m 2ms/step - loss: 830.9317 - val_loss: 1945.2643\n",
      "Epoch 22/60\n",
      "\u001b[1m125/125\u001b[0m \u001b[32m━━━━━━━━━━━━━━━━━━━━\u001b[0m\u001b[37m\u001b[0m \u001b[1m0s\u001b[0m 1ms/step - loss: 800.8209 - val_loss: 2005.6238\n",
      "Epoch 23/60\n",
      "\u001b[1m125/125\u001b[0m \u001b[32m━━━━━━━━━━━━━━━━━━━━\u001b[0m\u001b[37m\u001b[0m \u001b[1m0s\u001b[0m 1ms/step - loss: 770.8087 - val_loss: 1980.3962\n",
      "Epoch 24/60\n",
      "\u001b[1m125/125\u001b[0m \u001b[32m━━━━━━━━━━━━━━━━━━━━\u001b[0m\u001b[37m\u001b[0m \u001b[1m0s\u001b[0m 1ms/step - loss: 747.9989 - val_loss: 1986.5258\n",
      "Epoch 25/60\n",
      "\u001b[1m125/125\u001b[0m \u001b[32m━━━━━━━━━━━━━━━━━━━━\u001b[0m\u001b[37m\u001b[0m \u001b[1m0s\u001b[0m 1ms/step - loss: 771.9850 - val_loss: 1984.9211\n",
      "Epoch 26/60\n",
      "\u001b[1m125/125\u001b[0m \u001b[32m━━━━━━━━━━━━━━━━━━━━\u001b[0m\u001b[37m\u001b[0m \u001b[1m0s\u001b[0m 2ms/step - loss: 729.0622 - val_loss: 1951.6427\n",
      "Epoch 27/60\n",
      "\u001b[1m125/125\u001b[0m \u001b[32m━━━━━━━━━━━━━━━━━━━━\u001b[0m\u001b[37m\u001b[0m \u001b[1m0s\u001b[0m 2ms/step - loss: 794.1219 - val_loss: 1946.2329\n",
      "Epoch 28/60\n",
      "\u001b[1m125/125\u001b[0m \u001b[32m━━━━━━━━━━━━━━━━━━━━\u001b[0m\u001b[37m\u001b[0m \u001b[1m0s\u001b[0m 1ms/step - loss: 797.3087 - val_loss: 1999.5792\n",
      "Epoch 29/60\n",
      "\u001b[1m125/125\u001b[0m \u001b[32m━━━━━━━━━━━━━━━━━━━━\u001b[0m\u001b[37m\u001b[0m \u001b[1m0s\u001b[0m 1ms/step - loss: 771.9047 - val_loss: 1978.7123\n",
      "Epoch 30/60\n",
      "\u001b[1m125/125\u001b[0m \u001b[32m━━━━━━━━━━━━━━━━━━━━\u001b[0m\u001b[37m\u001b[0m \u001b[1m0s\u001b[0m 1ms/step - loss: 787.5096 - val_loss: 1995.7462\n",
      "Epoch 31/60\n",
      "\u001b[1m125/125\u001b[0m \u001b[32m━━━━━━━━━━━━━━━━━━━━\u001b[0m\u001b[37m\u001b[0m \u001b[1m0s\u001b[0m 1ms/step - loss: 739.1785 - val_loss: 1992.8815\n",
      "Epoch 32/60\n",
      "\u001b[1m125/125\u001b[0m \u001b[32m━━━━━━━━━━━━━━━━━━━━\u001b[0m\u001b[37m\u001b[0m \u001b[1m0s\u001b[0m 1ms/step - loss: 744.4673 - val_loss: 1927.2963\n",
      "Epoch 33/60\n",
      "\u001b[1m125/125\u001b[0m \u001b[32m━━━━━━━━━━━━━━━━━━━━\u001b[0m\u001b[37m\u001b[0m \u001b[1m0s\u001b[0m 1ms/step - loss: 765.8856 - val_loss: 1949.7837\n",
      "Epoch 34/60\n",
      "\u001b[1m125/125\u001b[0m \u001b[32m━━━━━━━━━━━━━━━━━━━━\u001b[0m\u001b[37m\u001b[0m \u001b[1m0s\u001b[0m 1ms/step - loss: 719.6205 - val_loss: 1971.0457\n",
      "Epoch 35/60\n",
      "\u001b[1m125/125\u001b[0m \u001b[32m━━━━━━━━━━━━━━━━━━━━\u001b[0m\u001b[37m\u001b[0m \u001b[1m0s\u001b[0m 2ms/step - loss: 733.3947 - val_loss: 1973.2323\n",
      "Epoch 36/60\n",
      "\u001b[1m125/125\u001b[0m \u001b[32m━━━━━━━━━━━━━━━━━━━━\u001b[0m\u001b[37m\u001b[0m \u001b[1m0s\u001b[0m 1ms/step - loss: 779.4174 - val_loss: 1963.4331\n",
      "Epoch 37/60\n",
      "\u001b[1m125/125\u001b[0m \u001b[32m━━━━━━━━━━━━━━━━━━━━\u001b[0m\u001b[37m\u001b[0m \u001b[1m0s\u001b[0m 1ms/step - loss: 811.0372 - val_loss: 2025.2875\n",
      "Epoch 38/60\n",
      "\u001b[1m125/125\u001b[0m \u001b[32m━━━━━━━━━━━━━━━━━━━━\u001b[0m\u001b[37m\u001b[0m \u001b[1m0s\u001b[0m 1ms/step - loss: 786.9164 - val_loss: 1961.5812\n",
      "Epoch 39/60\n",
      "\u001b[1m125/125\u001b[0m \u001b[32m━━━━━━━━━━━━━━━━━━━━\u001b[0m\u001b[37m\u001b[0m \u001b[1m0s\u001b[0m 1ms/step - loss: 793.9086 - val_loss: 2039.1943\n",
      "Epoch 40/60\n",
      "\u001b[1m125/125\u001b[0m \u001b[32m━━━━━━━━━━━━━━━━━━━━\u001b[0m\u001b[37m\u001b[0m \u001b[1m0s\u001b[0m 1ms/step - loss: 787.5503 - val_loss: 2047.2292\n",
      "Epoch 41/60\n",
      "\u001b[1m125/125\u001b[0m \u001b[32m━━━━━━━━━━━━━━━━━━━━\u001b[0m\u001b[37m\u001b[0m \u001b[1m0s\u001b[0m 1ms/step - loss: 741.8649 - val_loss: 2016.0869\n",
      "Epoch 42/60\n",
      "\u001b[1m125/125\u001b[0m \u001b[32m━━━━━━━━━━━━━━━━━━━━\u001b[0m\u001b[37m\u001b[0m \u001b[1m0s\u001b[0m 1ms/step - loss: 736.2346 - val_loss: 1976.1453\n",
      "Epoch 43/60\n",
      "\u001b[1m125/125\u001b[0m \u001b[32m━━━━━━━━━━━━━━━━━━━━\u001b[0m\u001b[37m\u001b[0m \u001b[1m0s\u001b[0m 1ms/step - loss: 754.8359 - val_loss: 1975.4622\n",
      "Epoch 44/60\n",
      "\u001b[1m125/125\u001b[0m \u001b[32m━━━━━━━━━━━━━━━━━━━━\u001b[0m\u001b[37m\u001b[0m \u001b[1m0s\u001b[0m 1ms/step - loss: 737.4719 - val_loss: 2026.7091\n",
      "Epoch 45/60\n",
      "\u001b[1m125/125\u001b[0m \u001b[32m━━━━━━━━━━━━━━━━━━━━\u001b[0m\u001b[37m\u001b[0m \u001b[1m0s\u001b[0m 1ms/step - loss: 722.6080 - val_loss: 2029.7145\n",
      "Epoch 46/60\n",
      "\u001b[1m125/125\u001b[0m \u001b[32m━━━━━━━━━━━━━━━━━━━━\u001b[0m\u001b[37m\u001b[0m \u001b[1m0s\u001b[0m 1ms/step - loss: 774.9860 - val_loss: 2073.2891\n",
      "Epoch 47/60\n",
      "\u001b[1m125/125\u001b[0m \u001b[32m━━━━━━━━━━━━━━━━━━━━\u001b[0m\u001b[37m\u001b[0m \u001b[1m0s\u001b[0m 1ms/step - loss: 707.8965 - val_loss: 2001.3156\n"
     ]
    },
    {
     "data": {
      "text/plain": [
       "<keras.src.callbacks.history.History at 0x193626030>"
      ]
     },
     "execution_count": 370,
     "metadata": {},
     "output_type": "execute_result"
    }
   ],
   "source": [
    "from tensorflow.keras.callbacks import ReduceLROnPlateau\n",
    "\n",
    "MPL = MPL_model(input_dim=train_features_sc.shape[1])\n",
    "\n",
    "early_stopping = EarlyStopping(monitor='val_loss',patience=15,restore_best_weights=True)\n",
    "\n",
    "MPL.fit(train_features_sc, train_target_sc, validation_data=(test_features_sc, test_target_sc),epochs = 60, batch_size=32,callbacks = [early_stopping], verbose=1)"
   ]
  },
  {
   "cell_type": "code",
   "execution_count": 371,
   "metadata": {},
   "outputs": [
    {
     "name": "stdout",
     "output_type": "stream",
     "text": [
      "\u001b[1m125/125\u001b[0m \u001b[32m━━━━━━━━━━━━━━━━━━━━\u001b[0m\u001b[37m\u001b[0m \u001b[1m0s\u001b[0m 905us/step\n",
      "\u001b[1m14/14\u001b[0m \u001b[32m━━━━━━━━━━━━━━━━━━━━\u001b[0m\u001b[37m\u001b[0m \u001b[1m0s\u001b[0m 2ms/step \n"
     ]
    }
   ],
   "source": [
    "predict_train5 = MPL.predict(train_features_sc)\n",
    "\n",
    "predict_test5 = MPL.predict(test_features_sc)"
   ]
  },
  {
   "cell_type": "code",
   "execution_count": 372,
   "metadata": {},
   "outputs": [
    {
     "name": "stdout",
     "output_type": "stream",
     "text": [
      "2 Layer model:\n",
      "RECM for training set: 24.609072418774748\n",
      "RECM for test set: 43.89771380543353\n"
     ]
    }
   ],
   "source": [
    "print('2 Layer model:')\n",
    "print('RECM for training set:', mean_squared_error(train_target_sc, predict_train5)** 0.5)\n",
    "print('RECM for test set:', mean_squared_error(test_target_sc, predict_test5)** 0.5)"
   ]
  },
  {
   "cell_type": "markdown",
   "metadata": {},
   "source": [
    "## 2 Layer Neural Network Models with GridSearch"
   ]
  },
  {
   "cell_type": "code",
   "execution_count": 373,
   "metadata": {},
   "outputs": [],
   "source": [
    "import keras_tuner as kt\n",
    "from tensorflow.keras.optimizers import Adam\n",
    "import tensorflow as tf\n",
    "\n",
    "def keras_tuner(hp):\n",
    "    model = Sequential()\n",
    "    model.add(Dense(\n",
    "        units=hp.Int('hidden_units', min_value=32, max_value=128, step=32),  # Tune number of neurons\n",
    "        activation='relu',\n",
    "        input_dim=train_features.shape[1],\n",
    "        kernel_regularizer=l2(hp.Choice('l2_reg', values=[0.002, 0.01]))     # Tune L2 regularization\n",
    "    ))\n",
    "    model.add(Dropout(hp.Choice('dropout_rate', values=[0.1,0.2])))   # Desactiva aleatoriamente una fracción de las neuronas durante el entrenamiento\n",
    "    model.add(Dense(\n",
    "        units=hp.Int('hidden_units_2', min_value=16, max_value=64, step=16),  # Second dense layer\n",
    "        activation='relu',\n",
    "        kernel_regularizer=l2(hp.Choice('l2_reg', values=[0.01, 0.002]))\n",
    "    ))\n",
    "    model.add(Dropout(hp.Choice('dropout_rate_2', values=[0.1,0.2])))\n",
    "    model.add(Dense(1, activation='linear'))  # Output layer for regression\n",
    "    model.compile(\n",
    "        optimizer=Adam(learning_rate=hp.Choice('learning_rate', values=[0.001, 0.01])),\n",
    "        loss='mean_squared_error'\n",
    "    )\n",
    "    return model"
   ]
  },
  {
   "cell_type": "code",
   "execution_count": 374,
   "metadata": {},
   "outputs": [
    {
     "name": "stdout",
     "output_type": "stream",
     "text": [
      "Reloading Tuner from grid_search_results/grid_search/tuner0.json\n"
     ]
    }
   ],
   "source": [
    "from keras_tuner.tuners import RandomSearch\n",
    "from keras_tuner.tuners import GridSearch\n",
    "\n",
    "# Set up GridSearch tuner\n",
    "tuner = GridSearch(\n",
    "    keras_tuner,\n",
    "    objective=\"val_loss\",  # Minimize validation loss\n",
    "    max_trials=10,         # Total number of configurations to try\n",
    "    directory=\"grid_search_results\",  # Where to store results\n",
    "    project_name=\"grid_search\"\n",
    ")"
   ]
  },
  {
   "cell_type": "code",
   "execution_count": 375,
   "metadata": {},
   "outputs": [
    {
     "name": "stdout",
     "output_type": "stream",
     "text": [
      "Best Hyperparameters: {'hidden_units': 32, 'l2_reg': 0.001, 'dropout_rate': 0.2, 'hidden_units_2': 16, 'dropout_rate_2': 0.3, 'learning_rate': 0.01}\n"
     ]
    }
   ],
   "source": [
    "tuner.search(\n",
    "    train_features,\n",
    "    train_target,\n",
    "    validation_data=(test_features, test_target),\n",
    "    epochs=50,\n",
    "    batch_size=32,\n",
    "    callbacks=[tf.keras.callbacks.EarlyStopping(monitor=\"val_loss\", patience=10)]\n",
    ")\n",
    "best_hps = tuner.get_best_hyperparameters(num_trials=1)[0]\n",
    "print(f\"Best Hyperparameters: {best_hps.values}\")"
   ]
  },
  {
   "cell_type": "code",
   "execution_count": 376,
   "metadata": {},
   "outputs": [
    {
     "name": "stdout",
     "output_type": "stream",
     "text": [
      "Epoch 1/60\n"
     ]
    },
    {
     "name": "stderr",
     "output_type": "stream",
     "text": [
      "/opt/anaconda3/lib/python3.12/site-packages/keras/src/layers/core/dense.py:87: UserWarning: Do not pass an `input_shape`/`input_dim` argument to a layer. When using Sequential models, prefer using an `Input(shape)` object as the first layer in the model instead.\n",
      "  super().__init__(activity_regularizer=activity_regularizer, **kwargs)\n"
     ]
    },
    {
     "name": "stdout",
     "output_type": "stream",
     "text": [
      "\u001b[1m125/125\u001b[0m \u001b[32m━━━━━━━━━━━━━━━━━━━━\u001b[0m\u001b[37m\u001b[0m \u001b[1m1s\u001b[0m 3ms/step - loss: 18476.6777 - val_loss: 5976.2949\n",
      "Epoch 2/60\n",
      "\u001b[1m125/125\u001b[0m \u001b[32m━━━━━━━━━━━━━━━━━━━━\u001b[0m\u001b[37m\u001b[0m \u001b[1m0s\u001b[0m 1ms/step - loss: 2042.2639 - val_loss: 3724.3284\n",
      "Epoch 3/60\n",
      "\u001b[1m125/125\u001b[0m \u001b[32m━━━━━━━━━━━━━━━━━━━━\u001b[0m\u001b[37m\u001b[0m \u001b[1m0s\u001b[0m 1ms/step - loss: 1901.4783 - val_loss: 2255.2605\n",
      "Epoch 4/60\n",
      "\u001b[1m125/125\u001b[0m \u001b[32m━━━━━━━━━━━━━━━━━━━━\u001b[0m\u001b[37m\u001b[0m \u001b[1m0s\u001b[0m 1ms/step - loss: 1543.9684 - val_loss: 4353.3379\n",
      "Epoch 5/60\n",
      "\u001b[1m125/125\u001b[0m \u001b[32m━━━━━━━━━━━━━━━━━━━━\u001b[0m\u001b[37m\u001b[0m \u001b[1m0s\u001b[0m 1ms/step - loss: 1706.2883 - val_loss: 2031.8320\n",
      "Epoch 6/60\n",
      "\u001b[1m125/125\u001b[0m \u001b[32m━━━━━━━━━━━━━━━━━━━━\u001b[0m\u001b[37m\u001b[0m \u001b[1m0s\u001b[0m 1ms/step - loss: 1653.9249 - val_loss: 3612.2896\n",
      "Epoch 7/60\n",
      "\u001b[1m125/125\u001b[0m \u001b[32m━━━━━━━━━━━━━━━━━━━━\u001b[0m\u001b[37m\u001b[0m \u001b[1m0s\u001b[0m 1ms/step - loss: 1467.1562 - val_loss: 2857.5278\n",
      "Epoch 8/60\n",
      "\u001b[1m125/125\u001b[0m \u001b[32m━━━━━━━━━━━━━━━━━━━━\u001b[0m\u001b[37m\u001b[0m \u001b[1m0s\u001b[0m 2ms/step - loss: 1451.7401 - val_loss: 3709.4929\n",
      "Epoch 9/60\n",
      "\u001b[1m125/125\u001b[0m \u001b[32m━━━━━━━━━━━━━━━━━━━━\u001b[0m\u001b[37m\u001b[0m \u001b[1m0s\u001b[0m 2ms/step - loss: 1301.0521 - val_loss: 2999.0698\n",
      "Epoch 10/60\n",
      "\u001b[1m125/125\u001b[0m \u001b[32m━━━━━━━━━━━━━━━━━━━━\u001b[0m\u001b[37m\u001b[0m \u001b[1m0s\u001b[0m 2ms/step - loss: 1380.1705 - val_loss: 2499.2104\n",
      "Epoch 11/60\n",
      "\u001b[1m125/125\u001b[0m \u001b[32m━━━━━━━━━━━━━━━━━━━━\u001b[0m\u001b[37m\u001b[0m \u001b[1m0s\u001b[0m 2ms/step - loss: 1225.5784 - val_loss: 2056.9116\n",
      "Epoch 12/60\n",
      "\u001b[1m125/125\u001b[0m \u001b[32m━━━━━━━━━━━━━━━━━━━━\u001b[0m\u001b[37m\u001b[0m \u001b[1m0s\u001b[0m 1ms/step - loss: 1303.1759 - val_loss: 2774.7622\n",
      "Epoch 13/60\n",
      "\u001b[1m125/125\u001b[0m \u001b[32m━━━━━━━━━━━━━━━━━━━━\u001b[0m\u001b[37m\u001b[0m \u001b[1m0s\u001b[0m 1ms/step - loss: 1194.3958 - val_loss: 2136.8745\n",
      "Epoch 14/60\n",
      "\u001b[1m125/125\u001b[0m \u001b[32m━━━━━━━━━━━━━━━━━━━━\u001b[0m\u001b[37m\u001b[0m \u001b[1m0s\u001b[0m 2ms/step - loss: 1198.9478 - val_loss: 2737.6252\n",
      "Epoch 15/60\n",
      "\u001b[1m125/125\u001b[0m \u001b[32m━━━━━━━━━━━━━━━━━━━━\u001b[0m\u001b[37m\u001b[0m \u001b[1m0s\u001b[0m 2ms/step - loss: 1240.5406 - val_loss: 3628.3005\n",
      "\u001b[1m125/125\u001b[0m \u001b[32m━━━━━━━━━━━━━━━━━━━━\u001b[0m\u001b[37m\u001b[0m \u001b[1m0s\u001b[0m 984us/step\n",
      "\u001b[1m14/14\u001b[0m \u001b[32m━━━━━━━━━━━━━━━━━━━━\u001b[0m\u001b[37m\u001b[0m \u001b[1m0s\u001b[0m 2ms/step \n"
     ]
    }
   ],
   "source": [
    "# Build and train the model with the best hyperparameters\n",
    "best_model_mpl = tuner.hypermodel.build(best_hps)\n",
    "best_model_mpl.fit(\n",
    "    train_features, train_target,\n",
    "    validation_data=(test_features, test_target),\n",
    "    epochs=60,\n",
    "    batch_size=32,\n",
    "    callbacks=[tf.keras.callbacks.EarlyStopping(monitor='val_loss', patience=10)]\n",
    ")\n",
    "\n",
    "# Evaluate the best model\n",
    "train_predictions6 = best_model_mpl.predict(train_features)\n",
    "test_predictions6 = best_model_mpl.predict(test_features)\n",
    "rmse_train = np.sqrt(mean_squared_error(train_target, train_predictions6)** 0.5)\n",
    "rmse_test = np.sqrt(mean_squared_error(test_target, test_predictions6)** 0.5)\n"
   ]
  },
  {
   "cell_type": "code",
   "execution_count": 377,
   "metadata": {},
   "outputs": [
    {
     "name": "stdout",
     "output_type": "stream",
     "text": [
      "2 Layer model with GridSerch:\n",
      "Test RMSE: 5.635202404811176\n",
      "Test RMSE: 7.761121261729255\n"
     ]
    }
   ],
   "source": [
    "print(\"2 Layer model with GridSerch:\")\n",
    "print(\"Test RMSE:\", rmse_train)\n",
    "print(\"Test RMSE:\", rmse_test)"
   ]
  },
  {
   "cell_type": "markdown",
   "metadata": {},
   "source": [
    "## Predictions"
   ]
  },
  {
   "cell_type": "code",
   "execution_count": 378,
   "metadata": {},
   "outputs": [],
   "source": [
    "data = df.copy()"
   ]
  },
  {
   "cell_type": "code",
   "execution_count": 379,
   "metadata": {},
   "outputs": [],
   "source": [
    "#create a future dataframe\n",
    "future = pd.date_range('2018-09-01 00:00:00','2018-09-01 23:00:00',freq='1h')\n",
    "future_df = pd.DataFrame(index=future)\n",
    "future_df['isFuture'] = True\n",
    "data['isFuture']=False\n",
    "df_and_future = pd.concat([data,future_df])"
   ]
  },
  {
   "cell_type": "code",
   "execution_count": 380,
   "metadata": {},
   "outputs": [],
   "source": [
    " target_map = df_and_future['num_orders'].to_dict()\n",
    " df_and_future['lag_one'] = (df_and_future.index - pd.Timedelta('25 hr')).map(target_map)\n",
    " df_and_future['lag_two'] = (df_and_future.index - pd.Timedelta('48 hr')).map(target_map)\n",
    " df_and_future['lag_three'] = (df_and_future.index - pd.Timedelta('72 hr')).map(target_map)"
   ]
  },
  {
   "cell_type": "code",
   "execution_count": 381,
   "metadata": {},
   "outputs": [],
   "source": [
    "df_and_future = make_features(df_and_future,60,3)"
   ]
  },
  {
   "cell_type": "code",
   "execution_count": 382,
   "metadata": {},
   "outputs": [],
   "source": [
    "future_w_features = df_and_future.query('isFuture').copy()"
   ]
  },
  {
   "cell_type": "code",
   "execution_count": 383,
   "metadata": {},
   "outputs": [],
   "source": [
    "future_w_features = future_w_features.drop(columns=['num_orders','isFuture'])"
   ]
  },
  {
   "cell_type": "code",
   "execution_count": 384,
   "metadata": {},
   "outputs": [],
   "source": [
    "future_w_features = future_w_features.astype(np.float32)"
   ]
  },
  {
   "cell_type": "code",
   "execution_count": 385,
   "metadata": {},
   "outputs": [
    {
     "name": "stdout",
     "output_type": "stream",
     "text": [
      "\u001b[1m1/1\u001b[0m \u001b[32m━━━━━━━━━━━━━━━━━━━━\u001b[0m\u001b[37m\u001b[0m \u001b[1m0s\u001b[0m 49ms/step\n"
     ]
    }
   ],
   "source": [
    "future_w_features['pred'] = best_model_mpl.predict(future_w_features)"
   ]
  },
  {
   "cell_type": "code",
   "execution_count": 386,
   "metadata": {},
   "outputs": [
    {
     "data": {
      "image/png": "[encoded data removed]",
      "text/plain": [
       "<Figure size 1000x500 with 1 Axes>"
      ]
     },
     "metadata": {},
     "output_type": "display_data"
    }
   ],
   "source": [
    "future_w_features['pred'].plot(figsize=(10,5),color='green',ms=1,lw=1,title=\"Future Predictions\")\n",
    "plt.ylabel('Number of orders')\n",
    "plt.show()"
   ]
  },
  {
   "cell_type": "code",
   "execution_count": 387,
   "metadata": {},
   "outputs": [],
   "source": [
    "future_w_features.rename(columns={'pred':'num_orders'}, inplace=True)"
   ]
  },
  {
   "cell_type": "code",
   "execution_count": 388,
   "metadata": {},
   "outputs": [],
   "source": [
    "final_df = pd.concat([df,future_w_features])\n",
    "final_df = final_df['num_orders']"
   ]
  },
  {
   "cell_type": "markdown",
   "metadata": {},
   "source": [
    "## Conclusion"
   ]
  },
  {
   "cell_type": "markdown",
   "metadata": {},
   "source": [
    "## General Model Performance\n",
    "All of the evaluated models (CatBoost, RandomForest, XGBRegressor, LinearRegression) managed to achieve the project goal of an RMSE less than 48 on the test set, as stated in the project's requirements, but there is evidence of overfitting across all models.\n",
    "\n",
    "Overfitting occurs when the models perform exceptionally well on the training set but fail to generalize effectively to new data (the test set), leading to higher RMSE values in the test set compared to the training set.\n",
    "\n",
    "However, the neural network models showed significant promise, particularly when hyperparameter tuning was applied.\n",
    "\n",
    "### Comparison of Models\n",
    "#### CatBoostRegressor:\n",
    " \n",
    "RECM for training set: 18.14\n",
    "\n",
    "RECM for test set: 44.27\n",
    "\n",
    "While CatBoost shows great performance on the training data, the large difference between training and test RMSE suggests overfitting. Its test RMSE is higher than some other models, so it is not the best performer here.\n",
    "\n",
    "#### RandomForestRegressor:\n",
    "\n",
    "RMSE for training set: 11.42\n",
    "\n",
    "RMSE for the testing set: 46.22\n",
    "\n",
    "This model achieved the lowest RMSE on the test set, making it the most effective model for predicting taxi orders. While it still shows some overfitting, the gap between training and test performance is reasonable.\n",
    "\n",
    "#### XGBRegressor:\n",
    "\n",
    "RMSE for training set: 17.10\n",
    "\n",
    "RMSE for test set: 52.31\n",
    "\n",
    "XGBoost is competitive but does not outperform RandomForest. It shows moderate overfitting and slightly worse results than RandomForest.\n",
    "\n",
    "#### LinearRegression:\n",
    "\n",
    "RMSE for training set: 25.10\n",
    "\n",
    "RMSE for test set: 44.20\n",
    "\n",
    "#### 2 Layer Neural Network Model\n",
    "\n",
    "RECM for training set: 24.61\n",
    "\n",
    "RECM for test set: 43.90\n",
    "This model achieved a significant reduction in test RMSE compared to CatBoost and RandomForest, demonstrating better generalization and reduced overfitting.\n",
    "\n",
    "#### 2 Layer Neural Network Model with GridSearch\n",
    "\n",
    "Test RMSE: 5.64\n",
    "\n",
    "Test RMSE: 7.76\n",
    "\n",
    "After hyperparameter optimization, this model far outperformed all other approaches, achieving remarkably low RMSE values on the test set. These results highlight the importance of advanced techniques like hyperparameter tuning in optimizing neural network performance."
   ]
  },
  {
   "cell_type": "markdown",
   "metadata": {},
   "source": []
  }
 ],
 "metadata": {
  "ExecuteTimeLog": [
   {
    "duration": 2874,
    "start_time": "2024-09-04T15:33:35.828Z"
   },
   {
    "duration": 30,
    "start_time": "2024-09-04T15:34:27.155Z"
   },
   {
    "duration": 11,
    "start_time": "2024-09-04T15:49:36.456Z"
   },
   {
    "duration": 14,
    "start_time": "2024-09-04T15:50:04.538Z"
   },
   {
    "duration": 6,
    "start_time": "2024-09-04T15:50:16.496Z"
   },
   {
    "duration": 22,
    "start_time": "2024-09-04T15:51:25.383Z"
   },
   {
    "duration": 8,
    "start_time": "2024-09-04T15:51:29.881Z"
   },
   {
    "duration": 10,
    "start_time": "2024-09-04T15:51:33.130Z"
   },
   {
    "duration": 7,
    "start_time": "2024-09-04T15:51:34.571Z"
   },
   {
    "duration": 7,
    "start_time": "2024-09-04T15:52:35.513Z"
   },
   {
    "duration": 12,
    "start_time": "2024-09-04T15:52:36.675Z"
   },
   {
    "duration": 5,
    "start_time": "2024-09-04T15:52:39.724Z"
   },
   {
    "duration": 7,
    "start_time": "2024-09-04T15:53:51.688Z"
   },
   {
    "duration": 7,
    "start_time": "2024-09-04T15:53:54.239Z"
   },
   {
    "duration": 13,
    "start_time": "2024-09-04T15:53:55.007Z"
   },
   {
    "duration": 6,
    "start_time": "2024-09-04T15:53:57.860Z"
   },
   {
    "duration": 2752,
    "start_time": "2024-09-04T22:44:12.581Z"
   },
   {
    "duration": 35,
    "start_time": "2024-09-04T22:44:15.335Z"
   },
   {
    "duration": 52,
    "start_time": "2024-09-04T22:44:15.371Z"
   },
   {
    "duration": 7,
    "start_time": "2024-09-04T22:44:15.426Z"
   },
   {
    "duration": 11,
    "start_time": "2024-09-04T22:44:15.435Z"
   },
   {
    "duration": 5,
    "start_time": "2024-09-04T22:44:15.448Z"
   },
   {
    "duration": 3,
    "start_time": "2024-09-04T22:44:20.044Z"
   },
   {
    "duration": 342,
    "start_time": "2024-09-04T22:47:51.906Z"
   },
   {
    "duration": 31,
    "start_time": "2024-09-04T22:49:26.385Z"
   },
   {
    "duration": 332,
    "start_time": "2024-09-04T22:49:32.702Z"
   },
   {
    "duration": 383,
    "start_time": "2024-09-04T22:49:40.070Z"
   },
   {
    "duration": 366,
    "start_time": "2024-09-04T22:50:06.929Z"
   },
   {
    "duration": 468,
    "start_time": "2024-09-04T22:50:13.048Z"
   },
   {
    "duration": 394,
    "start_time": "2024-09-04T22:50:19.055Z"
   },
   {
    "duration": 431,
    "start_time": "2024-09-04T22:52:12.737Z"
   },
   {
    "duration": 3,
    "start_time": "2024-09-04T22:52:38.548Z"
   },
   {
    "duration": 7,
    "start_time": "2024-09-04T22:53:18.712Z"
   },
   {
    "duration": 4,
    "start_time": "2024-09-04T22:57:26.889Z"
   },
   {
    "duration": 4,
    "start_time": "2024-09-04T23:00:46.336Z"
   },
   {
    "duration": 2968,
    "start_time": "2024-09-05T18:30:38.967Z"
   },
   {
    "duration": 38,
    "start_time": "2024-09-05T18:30:41.937Z"
   },
   {
    "duration": 10,
    "start_time": "2024-09-05T18:30:41.978Z"
   },
   {
    "duration": 9,
    "start_time": "2024-09-05T18:30:41.990Z"
   },
   {
    "duration": 18,
    "start_time": "2024-09-05T18:30:42.001Z"
   },
   {
    "duration": 7,
    "start_time": "2024-09-05T18:30:42.020Z"
   },
   {
    "duration": 462,
    "start_time": "2024-09-05T18:30:42.030Z"
   },
   {
    "duration": 5,
    "start_time": "2024-09-05T18:30:42.494Z"
   },
   {
    "duration": 12,
    "start_time": "2024-09-05T18:30:42.500Z"
   },
   {
    "duration": 3,
    "start_time": "2024-09-05T18:30:42.515Z"
   },
   {
    "duration": 5,
    "start_time": "2024-09-05T18:30:42.520Z"
   },
   {
    "duration": 162,
    "start_time": "2024-09-05T18:31:39.118Z"
   },
   {
    "duration": 5,
    "start_time": "2024-09-05T18:37:20.346Z"
   },
   {
    "duration": 22,
    "start_time": "2024-09-05T18:37:20.366Z"
   },
   {
    "duration": 6,
    "start_time": "2024-09-05T18:37:20.391Z"
   },
   {
    "duration": 9,
    "start_time": "2024-09-05T18:37:20.399Z"
   },
   {
    "duration": 9,
    "start_time": "2024-09-05T18:37:20.411Z"
   },
   {
    "duration": 6,
    "start_time": "2024-09-05T18:37:20.423Z"
   },
   {
    "duration": 453,
    "start_time": "2024-09-05T18:37:20.431Z"
   },
   {
    "duration": 6,
    "start_time": "2024-09-05T18:37:20.885Z"
   },
   {
    "duration": 19,
    "start_time": "2024-09-05T18:37:20.893Z"
   },
   {
    "duration": 5,
    "start_time": "2024-09-05T18:37:20.913Z"
   },
   {
    "duration": 4,
    "start_time": "2024-09-05T18:37:20.920Z"
   },
   {
    "duration": 28,
    "start_time": "2024-09-05T18:37:47.240Z"
   },
   {
    "duration": 8,
    "start_time": "2024-09-05T18:39:41.210Z"
   },
   {
    "duration": 4,
    "start_time": "2024-09-05T18:39:56.191Z"
   },
   {
    "duration": 5,
    "start_time": "2024-09-05T18:39:57.175Z"
   },
   {
    "duration": 8,
    "start_time": "2024-09-05T18:39:59.339Z"
   },
   {
    "duration": 4,
    "start_time": "2024-09-05T18:40:02.533Z"
   },
   {
    "duration": 4,
    "start_time": "2024-09-05T18:40:03.089Z"
   },
   {
    "duration": 323,
    "start_time": "2024-09-05T18:40:04.063Z"
   },
   {
    "duration": 9,
    "start_time": "2024-09-05T18:40:54.743Z"
   },
   {
    "duration": 9,
    "start_time": "2024-09-05T18:41:20.675Z"
   },
   {
    "duration": 6,
    "start_time": "2024-09-05T18:41:25.846Z"
   },
   {
    "duration": 8,
    "start_time": "2024-09-05T18:41:37.718Z"
   },
   {
    "duration": 3,
    "start_time": "2024-09-05T18:42:08.309Z"
   },
   {
    "duration": 8,
    "start_time": "2024-09-05T18:42:09.727Z"
   },
   {
    "duration": 3,
    "start_time": "2024-09-05T18:42:17.654Z"
   },
   {
    "duration": 4,
    "start_time": "2024-09-05T18:42:18.090Z"
   },
   {
    "duration": 49,
    "start_time": "2024-09-05T18:42:18.650Z"
   },
   {
    "duration": 60,
    "start_time": "2024-09-05T18:42:23.221Z"
   },
   {
    "duration": 4,
    "start_time": "2024-09-05T18:43:33.267Z"
   },
   {
    "duration": 43,
    "start_time": "2024-09-05T18:43:36.738Z"
   },
   {
    "duration": 4,
    "start_time": "2024-09-05T18:44:17.391Z"
   },
   {
    "duration": 9,
    "start_time": "2024-09-05T18:44:18.882Z"
   },
   {
    "duration": 9,
    "start_time": "2024-09-05T18:47:06.684Z"
   },
   {
    "duration": 7,
    "start_time": "2024-09-05T18:47:24.476Z"
   },
   {
    "duration": 8,
    "start_time": "2024-09-05T18:52:27.718Z"
   },
   {
    "duration": 6659,
    "start_time": "2024-09-05T18:52:33.381Z"
   },
   {
    "duration": 6703,
    "start_time": "2024-09-05T18:54:32.316Z"
   },
   {
    "duration": 76438,
    "start_time": "2024-09-05T18:59:58.397Z"
   },
   {
    "duration": 8,
    "start_time": "2024-09-05T19:06:29.270Z"
   },
   {
    "duration": 6817,
    "start_time": "2024-09-05T19:07:40.795Z"
   },
   {
    "duration": 76600,
    "start_time": "2024-09-05T19:08:12.320Z"
   },
   {
    "duration": 345,
    "start_time": "2024-09-05T19:16:18.590Z"
   },
   {
    "duration": 485,
    "start_time": "2024-09-05T19:17:37.563Z"
   },
   {
    "duration": 76689,
    "start_time": "2024-09-05T19:19:14.390Z"
   },
   {
    "duration": 77593,
    "start_time": "2024-09-05T19:28:49.592Z"
   },
   {
    "duration": 75495,
    "start_time": "2024-09-05T19:30:33.289Z"
   },
   {
    "duration": 175,
    "start_time": "2024-09-05T20:33:25.703Z"
   },
   {
    "duration": 2963,
    "start_time": "2024-09-05T20:33:37.630Z"
   },
   {
    "duration": 40,
    "start_time": "2024-09-05T20:33:40.596Z"
   },
   {
    "duration": 7,
    "start_time": "2024-09-05T20:33:40.638Z"
   },
   {
    "duration": 8,
    "start_time": "2024-09-05T20:33:40.647Z"
   },
   {
    "duration": 13,
    "start_time": "2024-09-05T20:33:40.657Z"
   },
   {
    "duration": 6,
    "start_time": "2024-09-05T20:33:40.672Z"
   },
   {
    "duration": 493,
    "start_time": "2024-09-05T20:33:40.680Z"
   },
   {
    "duration": 4,
    "start_time": "2024-09-05T20:33:41.175Z"
   },
   {
    "duration": 8,
    "start_time": "2024-09-05T20:33:41.181Z"
   },
   {
    "duration": 3,
    "start_time": "2024-09-05T20:33:41.191Z"
   },
   {
    "duration": 17,
    "start_time": "2024-09-05T20:33:41.196Z"
   },
   {
    "duration": 4,
    "start_time": "2024-09-05T20:33:41.214Z"
   },
   {
    "duration": 4,
    "start_time": "2024-09-05T20:33:41.219Z"
   },
   {
    "duration": 8,
    "start_time": "2024-09-05T20:33:41.225Z"
   },
   {
    "duration": 6779,
    "start_time": "2024-09-05T20:33:41.235Z"
   },
   {
    "duration": 481,
    "start_time": "2024-09-05T20:33:50.554Z"
   },
   {
    "duration": 75099,
    "start_time": "2024-09-05T20:34:10.691Z"
   },
   {
    "duration": 1222,
    "start_time": "2024-09-06T00:08:08.894Z"
   },
   {
    "duration": 35,
    "start_time": "2024-09-06T00:08:10.118Z"
   },
   {
    "duration": 8,
    "start_time": "2024-09-06T00:08:10.155Z"
   },
   {
    "duration": 9,
    "start_time": "2024-09-06T00:08:10.452Z"
   },
   {
    "duration": 12,
    "start_time": "2024-09-06T00:08:10.788Z"
   },
   {
    "duration": 7,
    "start_time": "2024-09-06T00:08:11.995Z"
   },
   {
    "duration": 478,
    "start_time": "2024-09-06T00:08:13.416Z"
   },
   {
    "duration": 270,
    "start_time": "2024-09-06T00:12:42.971Z"
   },
   {
    "duration": 5,
    "start_time": "2024-09-06T00:12:47.826Z"
   },
   {
    "duration": 20,
    "start_time": "2024-09-06T00:12:49.010Z"
   },
   {
    "duration": 6,
    "start_time": "2024-09-06T00:12:49.741Z"
   },
   {
    "duration": 9,
    "start_time": "2024-09-06T00:12:49.957Z"
   },
   {
    "duration": 8,
    "start_time": "2024-09-06T00:12:50.159Z"
   },
   {
    "duration": 8,
    "start_time": "2024-09-06T00:12:50.362Z"
   },
   {
    "duration": 564,
    "start_time": "2024-09-06T00:12:50.742Z"
   },
   {
    "duration": 3,
    "start_time": "2024-09-06T00:12:52.523Z"
   },
   {
    "duration": 9,
    "start_time": "2024-09-06T00:12:52.816Z"
   },
   {
    "duration": 3,
    "start_time": "2024-09-06T00:12:53.619Z"
   },
   {
    "duration": 8,
    "start_time": "2024-09-06T00:12:54.158Z"
   },
   {
    "duration": 3,
    "start_time": "2024-09-06T00:12:54.702Z"
   },
   {
    "duration": 4,
    "start_time": "2024-09-06T00:12:55.266Z"
   },
   {
    "duration": 14,
    "start_time": "2024-09-06T00:12:56.004Z"
   },
   {
    "duration": 9,
    "start_time": "2024-09-06T00:13:00.843Z"
   },
   {
    "duration": 7048,
    "start_time": "2024-09-06T00:13:01.162Z"
   },
   {
    "duration": 38323,
    "start_time": "2024-09-06T00:13:08.213Z"
   },
   {
    "duration": 59391,
    "start_time": "2024-09-06T00:13:46.539Z"
   },
   {
    "duration": 0,
    "start_time": "2024-09-06T00:14:45.932Z"
   },
   {
    "duration": 12,
    "start_time": "2024-09-06T00:14:54.128Z"
   },
   {
    "duration": 11,
    "start_time": "2024-09-06T00:16:43.199Z"
   },
   {
    "duration": 4,
    "start_time": "2024-09-06T00:16:52.591Z"
   },
   {
    "duration": 25,
    "start_time": "2024-09-06T00:16:53.495Z"
   },
   {
    "duration": 7,
    "start_time": "2024-09-06T00:16:54.130Z"
   },
   {
    "duration": 10,
    "start_time": "2024-09-06T00:16:54.498Z"
   },
   {
    "duration": 9,
    "start_time": "2024-09-06T00:16:55.025Z"
   },
   {
    "duration": 7,
    "start_time": "2024-09-06T00:16:55.604Z"
   },
   {
    "duration": 450,
    "start_time": "2024-09-06T00:16:57.955Z"
   },
   {
    "duration": 4,
    "start_time": "2024-09-06T00:17:00.537Z"
   },
   {
    "duration": 15,
    "start_time": "2024-09-06T00:17:01.986Z"
   },
   {
    "duration": 3,
    "start_time": "2024-09-06T00:17:03.090Z"
   },
   {
    "duration": 17,
    "start_time": "2024-09-06T00:17:03.901Z"
   },
   {
    "duration": 4,
    "start_time": "2024-09-06T00:17:04.731Z"
   },
   {
    "duration": 4,
    "start_time": "2024-09-06T00:17:05.491Z"
   },
   {
    "duration": 21,
    "start_time": "2024-09-06T00:17:06.135Z"
   },
   {
    "duration": 27,
    "start_time": "2024-09-06T00:17:09.437Z"
   },
   {
    "duration": 11,
    "start_time": "2024-09-06T00:17:13.494Z"
   },
   {
    "duration": 3614,
    "start_time": "2024-09-06T00:17:36.221Z"
   },
   {
    "duration": 50982,
    "start_time": "2024-09-06T00:20:50.067Z"
   },
   {
    "duration": 5,
    "start_time": "2024-09-06T00:23:17.535Z"
   },
   {
    "duration": 6,
    "start_time": "2024-09-06T00:23:56.773Z"
   },
   {
    "duration": 7,
    "start_time": "2024-09-06T00:24:04.114Z"
   },
   {
    "duration": 15,
    "start_time": "2024-09-06T00:24:36.543Z"
   },
   {
    "duration": 4,
    "start_time": "2024-09-06T00:24:42.366Z"
   },
   {
    "duration": 10,
    "start_time": "2024-09-06T00:27:12.259Z"
   },
   {
    "duration": 3,
    "start_time": "2024-09-06T00:27:13.518Z"
   },
   {
    "duration": 20,
    "start_time": "2024-09-06T00:27:13.843Z"
   },
   {
    "duration": 5,
    "start_time": "2024-09-06T00:27:14.831Z"
   },
   {
    "duration": 4,
    "start_time": "2024-09-06T00:27:15.964Z"
   },
   {
    "duration": 12,
    "start_time": "2024-09-06T00:27:17.022Z"
   },
   {
    "duration": 4,
    "start_time": "2024-09-06T00:27:18.266Z"
   },
   {
    "duration": 40126,
    "start_time": "2024-09-06T00:27:28.797Z"
   },
   {
    "duration": 3,
    "start_time": "2024-09-06T00:28:08.925Z"
   },
   {
    "duration": 443997,
    "start_time": "2024-09-06T00:29:06.855Z"
   },
   {
    "duration": 3,
    "start_time": "2024-09-06T00:36:30.856Z"
   },
   {
    "duration": 27,
    "start_time": "2024-09-06T00:37:36.380Z"
   },
   {
    "duration": 4,
    "start_time": "2024-09-06T00:38:50.304Z"
   },
   {
    "duration": 9,
    "start_time": "2024-09-06T00:38:51.009Z"
   },
   {
    "duration": 10,
    "start_time": "2024-09-06T00:38:57.137Z"
   },
   {
    "duration": 20,
    "start_time": "2024-09-06T00:38:57.424Z"
   },
   {
    "duration": 23,
    "start_time": "2024-09-06T00:39:09.613Z"
   },
   {
    "duration": 5,
    "start_time": "2024-09-06T00:39:10.233Z"
   },
   {
    "duration": 8,
    "start_time": "2024-09-06T00:39:10.561Z"
   },
   {
    "duration": 11,
    "start_time": "2024-09-06T00:39:10.965Z"
   },
   {
    "duration": 7,
    "start_time": "2024-09-06T00:39:11.590Z"
   },
   {
    "duration": 440,
    "start_time": "2024-09-06T00:39:15.634Z"
   },
   {
    "duration": 5,
    "start_time": "2024-09-06T00:39:22.624Z"
   },
   {
    "duration": 14,
    "start_time": "2024-09-06T00:39:23.425Z"
   },
   {
    "duration": 6,
    "start_time": "2024-09-06T00:39:25.725Z"
   },
   {
    "duration": 17,
    "start_time": "2024-09-06T00:39:25.973Z"
   },
   {
    "duration": 4,
    "start_time": "2024-09-06T00:39:26.516Z"
   },
   {
    "duration": 5,
    "start_time": "2024-09-06T00:39:26.815Z"
   },
   {
    "duration": 23,
    "start_time": "2024-09-06T00:39:29.332Z"
   },
   {
    "duration": 9,
    "start_time": "2024-09-06T00:39:37.954Z"
   },
   {
    "duration": 5,
    "start_time": "2024-09-06T00:39:39.263Z"
   },
   {
    "duration": 66059,
    "start_time": "2024-09-06T00:39:48.251Z"
   },
   {
    "duration": 4,
    "start_time": "2024-09-06T00:40:54.312Z"
   },
   {
    "duration": 8,
    "start_time": "2024-09-06T00:42:03.710Z"
   },
   {
    "duration": 3,
    "start_time": "2024-09-06T00:42:11.072Z"
   },
   {
    "duration": 20,
    "start_time": "2024-09-06T00:42:11.340Z"
   },
   {
    "duration": 3,
    "start_time": "2024-09-06T00:42:11.938Z"
   },
   {
    "duration": 5,
    "start_time": "2024-09-06T00:42:12.387Z"
   },
   {
    "duration": 30,
    "start_time": "2024-09-06T00:42:13.239Z"
   },
   {
    "duration": 8,
    "start_time": "2024-09-06T00:42:15.109Z"
   },
   {
    "duration": 4,
    "start_time": "2024-09-06T00:42:16.574Z"
   },
   {
    "duration": 3,
    "start_time": "2024-09-06T00:43:14.805Z"
   },
   {
    "duration": 18,
    "start_time": "2024-09-06T00:43:15.445Z"
   },
   {
    "duration": 4,
    "start_time": "2024-09-06T00:43:17.305Z"
   },
   {
    "duration": 23,
    "start_time": "2024-09-06T00:43:17.610Z"
   },
   {
    "duration": 4,
    "start_time": "2024-09-06T00:43:18.449Z"
   },
   {
    "duration": 4,
    "start_time": "2024-09-06T00:43:19.407Z"
   },
   {
    "duration": 24,
    "start_time": "2024-09-06T00:43:20.910Z"
   },
   {
    "duration": 11,
    "start_time": "2024-09-06T00:43:23.249Z"
   },
   {
    "duration": 4,
    "start_time": "2024-09-06T00:43:24.572Z"
   },
   {
    "duration": 25354,
    "start_time": "2024-09-06T00:53:56.429Z"
   },
   {
    "duration": 263,
    "start_time": "2024-09-06T00:55:38.166Z"
   },
   {
    "duration": 74,
    "start_time": "2024-09-06T00:56:10.169Z"
   },
   {
    "duration": 60,
    "start_time": "2024-09-06T00:56:27.533Z"
   },
   {
    "duration": 12,
    "start_time": "2024-09-06T00:56:43.663Z"
   },
   {
    "duration": 5,
    "start_time": "2024-09-06T00:56:54.209Z"
   },
   {
    "duration": 10,
    "start_time": "2024-09-06T00:57:01.428Z"
   },
   {
    "duration": 3,
    "start_time": "2024-09-06T00:57:05.622Z"
   },
   {
    "duration": 19,
    "start_time": "2024-09-06T00:58:59.121Z"
   },
   {
    "duration": 7,
    "start_time": "2024-09-06T00:58:59.613Z"
   },
   {
    "duration": 9,
    "start_time": "2024-09-06T00:58:59.808Z"
   },
   {
    "duration": 9,
    "start_time": "2024-09-06T00:59:00.233Z"
   },
   {
    "duration": 8,
    "start_time": "2024-09-06T00:59:01.102Z"
   },
   {
    "duration": 3,
    "start_time": "2024-09-06T00:59:08.529Z"
   },
   {
    "duration": 15,
    "start_time": "2024-09-06T00:59:08.841Z"
   },
   {
    "duration": 4,
    "start_time": "2024-09-06T00:59:11.741Z"
   },
   {
    "duration": 15,
    "start_time": "2024-09-06T00:59:12.920Z"
   },
   {
    "duration": 3,
    "start_time": "2024-09-06T00:59:13.766Z"
   },
   {
    "duration": 5,
    "start_time": "2024-09-06T00:59:14.710Z"
   },
   {
    "duration": 22306,
    "start_time": "2024-09-06T00:59:18.023Z"
   },
   {
    "duration": 24,
    "start_time": "2024-09-06T01:05:20.666Z"
   },
   {
    "duration": 22,
    "start_time": "2024-09-06T01:05:24.951Z"
   },
   {
    "duration": 8,
    "start_time": "2024-09-06T01:05:28.531Z"
   },
   {
    "duration": 19,
    "start_time": "2024-09-06T01:05:38.609Z"
   },
   {
    "duration": 3,
    "start_time": "2024-09-06T01:05:39.691Z"
   },
   {
    "duration": 17,
    "start_time": "2024-09-06T01:05:42.411Z"
   },
   {
    "duration": 8,
    "start_time": "2024-09-06T01:05:49.368Z"
   },
   {
    "duration": 10,
    "start_time": "2024-09-06T01:05:58.549Z"
   },
   {
    "duration": 6,
    "start_time": "2024-09-06T01:06:02.342Z"
   },
   {
    "duration": 79,
    "start_time": "2024-09-06T01:06:05.608Z"
   },
   {
    "duration": 33,
    "start_time": "2024-09-06T01:07:22.122Z"
   },
   {
    "duration": 20121,
    "start_time": "2024-09-06T01:09:15.933Z"
   },
   {
    "duration": 20,
    "start_time": "2024-09-06T01:13:21.811Z"
   },
   {
    "duration": 3,
    "start_time": "2024-09-06T01:13:22.160Z"
   },
   {
    "duration": 6,
    "start_time": "2024-09-06T01:13:22.733Z"
   },
   {
    "duration": 11,
    "start_time": "2024-09-06T01:13:23.516Z"
   },
   {
    "duration": 11,
    "start_time": "2024-09-06T01:13:24.282Z"
   },
   {
    "duration": 7,
    "start_time": "2024-09-06T01:13:27.138Z"
   },
   {
    "duration": 442,
    "start_time": "2024-09-06T01:13:28.624Z"
   },
   {
    "duration": 4,
    "start_time": "2024-09-06T01:13:33.103Z"
   },
   {
    "duration": 7,
    "start_time": "2024-09-06T01:13:33.389Z"
   },
   {
    "duration": 4,
    "start_time": "2024-09-06T01:13:36.020Z"
   },
   {
    "duration": 12,
    "start_time": "2024-09-06T01:13:36.739Z"
   },
   {
    "duration": 6,
    "start_time": "2024-09-06T01:13:42.703Z"
   },
   {
    "duration": 5,
    "start_time": "2024-09-06T01:13:43.110Z"
   },
   {
    "duration": 15666,
    "start_time": "2024-09-06T01:13:48.920Z"
   },
   {
    "duration": 9,
    "start_time": "2024-09-06T01:36:34.532Z"
   },
   {
    "duration": 2886,
    "start_time": "2024-09-06T14:44:30.225Z"
   },
   {
    "duration": 38,
    "start_time": "2024-09-06T14:44:33.113Z"
   },
   {
    "duration": 3,
    "start_time": "2024-09-06T14:44:33.153Z"
   },
   {
    "duration": 400,
    "start_time": "2024-09-06T14:44:33.158Z"
   },
   {
    "duration": 0,
    "start_time": "2024-09-06T14:44:33.560Z"
   },
   {
    "duration": 0,
    "start_time": "2024-09-06T14:44:33.561Z"
   },
   {
    "duration": 0,
    "start_time": "2024-09-06T14:44:33.562Z"
   },
   {
    "duration": 25,
    "start_time": "2024-09-06T14:45:09.947Z"
   },
   {
    "duration": 349,
    "start_time": "2024-09-06T14:45:15.641Z"
   },
   {
    "duration": 3,
    "start_time": "2024-09-06T14:45:17.892Z"
   },
   {
    "duration": 29,
    "start_time": "2024-09-06T14:45:19.576Z"
   },
   {
    "duration": 24,
    "start_time": "2024-09-06T14:45:36.459Z"
   },
   {
    "duration": 22,
    "start_time": "2024-09-06T14:45:47.848Z"
   },
   {
    "duration": 2,
    "start_time": "2024-09-06T14:45:49.563Z"
   },
   {
    "duration": 23,
    "start_time": "2024-09-06T14:45:50.334Z"
   },
   {
    "duration": 7,
    "start_time": "2024-09-06T14:47:10.485Z"
   },
   {
    "duration": 4,
    "start_time": "2024-09-06T14:47:19.420Z"
   },
   {
    "duration": 23,
    "start_time": "2024-09-06T14:47:19.430Z"
   },
   {
    "duration": 3,
    "start_time": "2024-09-06T14:47:19.454Z"
   },
   {
    "duration": 5,
    "start_time": "2024-09-06T14:47:19.459Z"
   },
   {
    "duration": 8,
    "start_time": "2024-09-06T14:47:19.465Z"
   },
   {
    "duration": 9,
    "start_time": "2024-09-06T14:47:19.475Z"
   },
   {
    "duration": 5,
    "start_time": "2024-09-06T14:47:19.485Z"
   },
   {
    "duration": 640,
    "start_time": "2024-09-06T14:47:19.492Z"
   },
   {
    "duration": 4,
    "start_time": "2024-09-06T14:47:26.582Z"
   },
   {
    "duration": 7,
    "start_time": "2024-09-06T14:47:27.748Z"
   },
   {
    "duration": 8,
    "start_time": "2024-09-06T14:47:56.885Z"
   },
   {
    "duration": 6,
    "start_time": "2024-09-06T14:48:17.953Z"
   },
   {
    "duration": 12,
    "start_time": "2024-09-06T14:48:28.190Z"
   },
   {
    "duration": 4,
    "start_time": "2024-09-06T14:48:32.147Z"
   },
   {
    "duration": 18,
    "start_time": "2024-09-06T14:48:32.574Z"
   },
   {
    "duration": 4,
    "start_time": "2024-09-06T14:48:37.020Z"
   },
   {
    "duration": 5,
    "start_time": "2024-09-06T14:48:37.613Z"
   },
   {
    "duration": 36,
    "start_time": "2024-09-06T14:48:52.318Z"
   },
   {
    "duration": 14,
    "start_time": "2024-09-06T14:50:03.803Z"
   },
   {
    "duration": 329775,
    "start_time": "2024-09-06T14:57:35.022Z"
   },
   {
    "duration": 1813,
    "start_time": "2024-09-06T15:08:49.118Z"
   },
   {
    "duration": 1259763,
    "start_time": "2024-09-06T15:08:50.934Z"
   }
  ],
  "kernelspec": {
   "display_name": "Python 3 (ipykernel)",
   "language": "python",
   "name": "python3"
  },
  "language_info": {
   "codemirror_mode": {
    "name": "ipython",
    "version": 3
   },
   "file_extension": ".py",
   "mimetype": "text/x-python",
   "name": "python",
   "nbconvert_exporter": "python",
   "pygments_lexer": "ipython3",
   "version": "3.12.2"
  },
  "toc": {
   "base_numbering": 1,
   "nav_menu": {},
   "number_sections": true,
   "sideBar": true,
   "skip_h1_title": true,
   "title_cell": "Table of Contents",
   "title_sidebar": "Contents",
   "toc_cell": false,
   "toc_position": {},
   "toc_section_display": true,
   "toc_window_display": false
  }
 },
 "nbformat": 4,
 "nbformat_minor": 2
}
