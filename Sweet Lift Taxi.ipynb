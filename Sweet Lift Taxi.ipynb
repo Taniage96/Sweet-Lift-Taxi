{
 "cells": [
  {
   "cell_type": "markdown",
   "metadata": {},
   "source": [
    "# Project Description\n",
    "\n",
    "The Sweet Lift Taxi company has compiled historical data on taxi orders at airports. To attract more drivers during peak hours, we need to predict the amount of taxi orders for the next hour. Build a model for this prediction.\n",
    "\n",
    "The recm metric in the test set should not exceed 48.\n",
    "\n",
    "## Project instructions.\n",
    "\n",
    "1. Download the data and do the rig for an hour.\n",
    "2. Analyze the data\n",
    "3. Train different models with different hyperparameters. The test sample must be 10% of the initial data set. 4. Try the data using the test sample and provide a conclusion.\n",
    "\n",
    "## Data Description\n",
    "\n",
    "The data is stored in the `taxi.csv` file. \t\n",
    "The number of orders is in the `num_orders` column."
   ]
  },
  {
   "cell_type": "markdown",
   "metadata": {},
   "source": [
    "## import libraries"
   ]
  },
  {
   "cell_type": "code",
   "execution_count": 1,
   "metadata": {},
   "outputs": [],
   "source": [
    "import numpy as np\n",
    "import pandas as pd\n",
    "import math\n",
    "import time\n",
    "import matplotlib.pyplot as plt\n",
    "import sklearn.linear_model\n",
    "import sklearn.metrics\n",
    "import lightgbm as lgb\n",
    "import xgboost as xgb\n",
    "from sklearn.preprocessing import LabelEncoder\n",
    "from sklearn.model_selection import GridSearchCV\n",
    "from sklearn.model_selection import train_test_split\n",
    "from sklearn.ensemble import RandomForestRegressor\n",
    "from sklearn.linear_model import LogisticRegression\n",
    "from sklearn.tree import DecisionTreeClassifier\n",
    "from sklearn.linear_model import LinearRegression\n",
    "from sklearn.metrics import mean_squared_error, r2_score \n",
    "from sklearn.preprocessing import StandardScaler\n",
    "from sklearn.metrics import f1_score, confusion_matrix\n",
    "from sklearn.preprocessing import MaxAbsScaler\n",
    "from catboost import CatBoostRegressor\n",
    "from sklearn.metrics import roc_auc_score\n",
    "from statsmodels.tsa.seasonal import seasonal_decompose"
   ]
  },
  {
   "cell_type": "markdown",
   "metadata": {},
   "source": [
    "## Preparación"
   ]
  },
  {
   "cell_type": "code",
   "execution_count": 2,
   "metadata": {},
   "outputs": [
    {
     "data": {
      "text/html": [
       "<div>\n",
       "<style scoped>\n",
       "    .dataframe tbody tr th:only-of-type {\n",
       "        vertical-align: middle;\n",
       "    }\n",
       "\n",
       "    .dataframe tbody tr th {\n",
       "        vertical-align: top;\n",
       "    }\n",
       "\n",
       "    .dataframe thead th {\n",
       "        text-align: right;\n",
       "    }\n",
       "</style>\n",
       "<table border=\"1\" class=\"dataframe\">\n",
       "  <thead>\n",
       "    <tr style=\"text-align: right;\">\n",
       "      <th></th>\n",
       "      <th>num_orders</th>\n",
       "    </tr>\n",
       "    <tr>\n",
       "      <th>datetime</th>\n",
       "      <th></th>\n",
       "    </tr>\n",
       "  </thead>\n",
       "  <tbody>\n",
       "    <tr>\n",
       "      <th>2018-03-01 00:00:00</th>\n",
       "      <td>9</td>\n",
       "    </tr>\n",
       "    <tr>\n",
       "      <th>2018-03-01 00:10:00</th>\n",
       "      <td>14</td>\n",
       "    </tr>\n",
       "    <tr>\n",
       "      <th>2018-03-01 00:20:00</th>\n",
       "      <td>28</td>\n",
       "    </tr>\n",
       "    <tr>\n",
       "      <th>2018-03-01 00:30:00</th>\n",
       "      <td>20</td>\n",
       "    </tr>\n",
       "    <tr>\n",
       "      <th>2018-03-01 00:40:00</th>\n",
       "      <td>32</td>\n",
       "    </tr>\n",
       "  </tbody>\n",
       "</table>\n",
       "</div>"
      ],
      "text/plain": [
       "                     num_orders\n",
       "datetime                       \n",
       "2018-03-01 00:00:00           9\n",
       "2018-03-01 00:10:00          14\n",
       "2018-03-01 00:20:00          28\n",
       "2018-03-01 00:30:00          20\n",
       "2018-03-01 00:40:00          32"
      ]
     },
     "execution_count": 2,
     "metadata": {},
     "output_type": "execute_result"
    }
   ],
   "source": [
    "#import data\n",
    "df = pd.read_csv('taxi.csv', index_col=[0],parse_dates=[0])\n",
    "df.head()"
   ]
  },
  {
   "cell_type": "code",
   "execution_count": 3,
   "metadata": {},
   "outputs": [],
   "source": [
    "#Sorts the DataFrame by its index in ascending order. \n",
    "df.sort_index(inplace=True)"
   ]
  },
  {
   "cell_type": "code",
   "execution_count": 4,
   "metadata": {},
   "outputs": [
    {
     "name": "stderr",
     "output_type": "stream",
     "text": [
      "/var/folders/zz/1lh114c55jj9tjb2vztk4z340000gq/T/ipykernel_4069/3472708785.py:2: FutureWarning: 'H' is deprecated and will be removed in a future version, please use 'h' instead.\n",
      "  df =df.resample('H').sum()\n"
     ]
    }
   ],
   "source": [
    "# Resample the DataFrame by hour ('H') and sum the values within each hour\n",
    "df =df.resample('H').sum()"
   ]
  },
  {
   "cell_type": "code",
   "execution_count": 5,
   "metadata": {},
   "outputs": [
    {
     "name": "stdout",
     "output_type": "stream",
     "text": [
      "<class 'pandas.core.frame.DataFrame'>\n",
      "DatetimeIndex: 4416 entries, 2018-03-01 00:00:00 to 2018-08-31 23:00:00\n",
      "Freq: h\n",
      "Data columns (total 1 columns):\n",
      " #   Column      Non-Null Count  Dtype\n",
      "---  ------      --------------  -----\n",
      " 0   num_orders  4416 non-null   int64\n",
      "dtypes: int64(1)\n",
      "memory usage: 69.0 KB\n"
     ]
    }
   ],
   "source": [
    "#Analyze general information\n",
    "df.info()"
   ]
  },
  {
   "cell_type": "code",
   "execution_count": 6,
   "metadata": {},
   "outputs": [
    {
     "data": {
      "text/html": [
       "<div>\n",
       "<style scoped>\n",
       "    .dataframe tbody tr th:only-of-type {\n",
       "        vertical-align: middle;\n",
       "    }\n",
       "\n",
       "    .dataframe tbody tr th {\n",
       "        vertical-align: top;\n",
       "    }\n",
       "\n",
       "    .dataframe thead th {\n",
       "        text-align: right;\n",
       "    }\n",
       "</style>\n",
       "<table border=\"1\" class=\"dataframe\">\n",
       "  <thead>\n",
       "    <tr style=\"text-align: right;\">\n",
       "      <th></th>\n",
       "      <th>num_orders</th>\n",
       "    </tr>\n",
       "  </thead>\n",
       "  <tbody>\n",
       "    <tr>\n",
       "      <th>count</th>\n",
       "      <td>4416.000000</td>\n",
       "    </tr>\n",
       "    <tr>\n",
       "      <th>mean</th>\n",
       "      <td>84.422781</td>\n",
       "    </tr>\n",
       "    <tr>\n",
       "      <th>std</th>\n",
       "      <td>45.023853</td>\n",
       "    </tr>\n",
       "    <tr>\n",
       "      <th>min</th>\n",
       "      <td>0.000000</td>\n",
       "    </tr>\n",
       "    <tr>\n",
       "      <th>25%</th>\n",
       "      <td>54.000000</td>\n",
       "    </tr>\n",
       "    <tr>\n",
       "      <th>50%</th>\n",
       "      <td>78.000000</td>\n",
       "    </tr>\n",
       "    <tr>\n",
       "      <th>75%</th>\n",
       "      <td>107.000000</td>\n",
       "    </tr>\n",
       "    <tr>\n",
       "      <th>max</th>\n",
       "      <td>462.000000</td>\n",
       "    </tr>\n",
       "  </tbody>\n",
       "</table>\n",
       "</div>"
      ],
      "text/plain": [
       "        num_orders\n",
       "count  4416.000000\n",
       "mean     84.422781\n",
       "std      45.023853\n",
       "min       0.000000\n",
       "25%      54.000000\n",
       "50%      78.000000\n",
       "75%     107.000000\n",
       "max     462.000000"
      ]
     },
     "execution_count": 6,
     "metadata": {},
     "output_type": "execute_result"
    }
   ],
   "source": [
    "#generate descriptive statistics for the numerical columns in the DataFrame \n",
    "df.describe()"
   ]
  },
  {
   "cell_type": "code",
   "execution_count": 7,
   "metadata": {},
   "outputs": [
    {
     "data": {
      "text/html": [
       "<div>\n",
       "<style scoped>\n",
       "    .dataframe tbody tr th:only-of-type {\n",
       "        vertical-align: middle;\n",
       "    }\n",
       "\n",
       "    .dataframe tbody tr th {\n",
       "        vertical-align: top;\n",
       "    }\n",
       "\n",
       "    .dataframe thead th {\n",
       "        text-align: right;\n",
       "    }\n",
       "</style>\n",
       "<table border=\"1\" class=\"dataframe\">\n",
       "  <thead>\n",
       "    <tr style=\"text-align: right;\">\n",
       "      <th></th>\n",
       "      <th>num_orders</th>\n",
       "    </tr>\n",
       "    <tr>\n",
       "      <th>datetime</th>\n",
       "      <th></th>\n",
       "    </tr>\n",
       "  </thead>\n",
       "  <tbody>\n",
       "    <tr>\n",
       "      <th>2018-03-01 00:00:00</th>\n",
       "      <td>124</td>\n",
       "    </tr>\n",
       "    <tr>\n",
       "      <th>2018-03-01 01:00:00</th>\n",
       "      <td>85</td>\n",
       "    </tr>\n",
       "    <tr>\n",
       "      <th>2018-03-01 02:00:00</th>\n",
       "      <td>71</td>\n",
       "    </tr>\n",
       "    <tr>\n",
       "      <th>2018-03-01 03:00:00</th>\n",
       "      <td>66</td>\n",
       "    </tr>\n",
       "    <tr>\n",
       "      <th>2018-03-01 04:00:00</th>\n",
       "      <td>43</td>\n",
       "    </tr>\n",
       "  </tbody>\n",
       "</table>\n",
       "</div>"
      ],
      "text/plain": [
       "                     num_orders\n",
       "datetime                       \n",
       "2018-03-01 00:00:00         124\n",
       "2018-03-01 01:00:00          85\n",
       "2018-03-01 02:00:00          71\n",
       "2018-03-01 03:00:00          66\n",
       "2018-03-01 04:00:00          43"
      ]
     },
     "execution_count": 7,
     "metadata": {},
     "output_type": "execute_result"
    }
   ],
   "source": [
    "#Print the first 5 lines of the Dataframe\n",
    "df.head()"
   ]
  },
  {
   "cell_type": "markdown",
   "metadata": {},
   "source": [
    "## Analysis"
   ]
  },
  {
   "cell_type": "code",
   "execution_count": 8,
   "metadata": {},
   "outputs": [
    {
     "data": {
      "image/png": "[encoded data removed]",
      "text/plain": [
       "<Figure size 1200x1000 with 3 Axes>"
      ]
     },
     "metadata": {},
     "output_type": "display_data"
    }
   ],
   "source": [
    "# Decompose the time series into trend, seasonality, and residual components\n",
    "decomposed = seasonal_decompose(df) \n",
    "\n",
    "# Create a figure with specified size\n",
    "plt.figure(figsize=(12,10))\n",
    "\n",
    "# Adjust spacing between subplots\n",
    "plt.subplots_adjust(hspace=0.5)\n",
    "\n",
    "# Create the first subplot for the trend component\n",
    "plt.subplot(311)  # 3 rows, 1 column, 1st subplot\n",
    "decomposed.trend.plot(ax=plt.gca()) \n",
    "plt.title('Trend')\n",
    "\n",
    "# Create the second subplot for the seasonality component\n",
    "plt.subplot(312)  # 3 rows, 1 column, 2nd subplot\n",
    "decomposed.seasonal.plot(ax=plt.gca())\n",
    "plt.title('Seasonality')\n",
    "\n",
    "# Create the third subplot for the residual component\n",
    "plt.subplot(313)  # 3 rows, 1 column, 3rd subplot\n",
    "decomposed.resid.plot(ax=plt.gca()) \n",
    "plt.title('Residual')\n",
    "\n",
    "# Show the plot\n",
    "plt.show()"
   ]
  },
  {
   "cell_type": "markdown",
   "metadata": {},
   "source": [
    "##Training"
   ]
  },
  {
   "cell_type": "code",
   "execution_count": 9,
   "metadata": {},
   "outputs": [],
   "source": [
    "def make_features(data, max_lag, rolling_mean_size):\n",
    "    \"\"\"\n",
    "    This function creates new features from an existing DataFrame.\n",
    "\n",
    "    Args:\n",
    "        data (pandas.DataFrame): The DataFrame containing the original data.\n",
    "        max_lag (int): The maximum lag value to create lagged features for 'num_orders'.\n",
    "        rolling_mean_size (int): The window size for calculating the rolling mean of 'num_orders'.\n",
    "\n",
    "    Returns:\n",
    "        pandas.DataFrame: The modified DataFrame with new features.\n",
    "    \"\"\"\n",
    "\n",
    "    # Extract year, month, day, and day of week from the DataFrame index\n",
    "    data['year'] = data.index.year\n",
    "    data['month'] = data.index.month\n",
    "    data['day'] = data.index.day\n",
    "    data['dayofweek'] = data.index.dayofweek\n",
    "\n",
    "    # Create lagged features for 'num_orders'\n",
    "    for lag in range(1, max_lag + 1):\n",
    "        data['lag_{}'.format(lag)] = data['num_orders'].shift(lag)\n",
    "        # Shift 'num_orders' by 'lag' positions and assign to a new column\n",
    "\n",
    "    # Create a rolling mean feature for 'num_orders'\n",
    "    data['rolling_mean'] = (data['num_orders']).shift().rolling(rolling_mean_size).mean()\n",
    "    # Shift 'num_orders' by 1 position, calculate rolling mean with window size 'rolling_mean_size', and assign to a new column\n",
    "\n",
    "    return data"
   ]
  },
  {
   "cell_type": "code",
   "execution_count": 10,
   "metadata": {},
   "outputs": [
    {
     "data": {
      "text/html": [
       "<div>\n",
       "<style scoped>\n",
       "    .dataframe tbody tr th:only-of-type {\n",
       "        vertical-align: middle;\n",
       "    }\n",
       "\n",
       "    .dataframe tbody tr th {\n",
       "        vertical-align: top;\n",
       "    }\n",
       "\n",
       "    .dataframe thead th {\n",
       "        text-align: right;\n",
       "    }\n",
       "</style>\n",
       "<table border=\"1\" class=\"dataframe\">\n",
       "  <thead>\n",
       "    <tr style=\"text-align: right;\">\n",
       "      <th></th>\n",
       "      <th>num_orders</th>\n",
       "      <th>year</th>\n",
       "      <th>month</th>\n",
       "      <th>day</th>\n",
       "      <th>dayofweek</th>\n",
       "      <th>lag_1</th>\n",
       "      <th>lag_2</th>\n",
       "      <th>lag_3</th>\n",
       "      <th>lag_4</th>\n",
       "      <th>lag_5</th>\n",
       "      <th>...</th>\n",
       "      <th>lag_16</th>\n",
       "      <th>lag_17</th>\n",
       "      <th>lag_18</th>\n",
       "      <th>lag_19</th>\n",
       "      <th>lag_20</th>\n",
       "      <th>lag_21</th>\n",
       "      <th>lag_22</th>\n",
       "      <th>lag_23</th>\n",
       "      <th>lag_24</th>\n",
       "      <th>rolling_mean</th>\n",
       "    </tr>\n",
       "    <tr>\n",
       "      <th>datetime</th>\n",
       "      <th></th>\n",
       "      <th></th>\n",
       "      <th></th>\n",
       "      <th></th>\n",
       "      <th></th>\n",
       "      <th></th>\n",
       "      <th></th>\n",
       "      <th></th>\n",
       "      <th></th>\n",
       "      <th></th>\n",
       "      <th></th>\n",
       "      <th></th>\n",
       "      <th></th>\n",
       "      <th></th>\n",
       "      <th></th>\n",
       "      <th></th>\n",
       "      <th></th>\n",
       "      <th></th>\n",
       "      <th></th>\n",
       "      <th></th>\n",
       "      <th></th>\n",
       "    </tr>\n",
       "  </thead>\n",
       "  <tbody>\n",
       "    <tr>\n",
       "      <th>2018-03-01 00:00:00</th>\n",
       "      <td>124</td>\n",
       "      <td>2018</td>\n",
       "      <td>3</td>\n",
       "      <td>1</td>\n",
       "      <td>3</td>\n",
       "      <td>NaN</td>\n",
       "      <td>NaN</td>\n",
       "      <td>NaN</td>\n",
       "      <td>NaN</td>\n",
       "      <td>NaN</td>\n",
       "      <td>...</td>\n",
       "      <td>NaN</td>\n",
       "      <td>NaN</td>\n",
       "      <td>NaN</td>\n",
       "      <td>NaN</td>\n",
       "      <td>NaN</td>\n",
       "      <td>NaN</td>\n",
       "      <td>NaN</td>\n",
       "      <td>NaN</td>\n",
       "      <td>NaN</td>\n",
       "      <td>NaN</td>\n",
       "    </tr>\n",
       "    <tr>\n",
       "      <th>2018-03-01 01:00:00</th>\n",
       "      <td>85</td>\n",
       "      <td>2018</td>\n",
       "      <td>3</td>\n",
       "      <td>1</td>\n",
       "      <td>3</td>\n",
       "      <td>124.0</td>\n",
       "      <td>NaN</td>\n",
       "      <td>NaN</td>\n",
       "      <td>NaN</td>\n",
       "      <td>NaN</td>\n",
       "      <td>...</td>\n",
       "      <td>NaN</td>\n",
       "      <td>NaN</td>\n",
       "      <td>NaN</td>\n",
       "      <td>NaN</td>\n",
       "      <td>NaN</td>\n",
       "      <td>NaN</td>\n",
       "      <td>NaN</td>\n",
       "      <td>NaN</td>\n",
       "      <td>NaN</td>\n",
       "      <td>NaN</td>\n",
       "    </tr>\n",
       "    <tr>\n",
       "      <th>2018-03-01 02:00:00</th>\n",
       "      <td>71</td>\n",
       "      <td>2018</td>\n",
       "      <td>3</td>\n",
       "      <td>1</td>\n",
       "      <td>3</td>\n",
       "      <td>85.0</td>\n",
       "      <td>124.0</td>\n",
       "      <td>NaN</td>\n",
       "      <td>NaN</td>\n",
       "      <td>NaN</td>\n",
       "      <td>...</td>\n",
       "      <td>NaN</td>\n",
       "      <td>NaN</td>\n",
       "      <td>NaN</td>\n",
       "      <td>NaN</td>\n",
       "      <td>NaN</td>\n",
       "      <td>NaN</td>\n",
       "      <td>NaN</td>\n",
       "      <td>NaN</td>\n",
       "      <td>NaN</td>\n",
       "      <td>NaN</td>\n",
       "    </tr>\n",
       "    <tr>\n",
       "      <th>2018-03-01 03:00:00</th>\n",
       "      <td>66</td>\n",
       "      <td>2018</td>\n",
       "      <td>3</td>\n",
       "      <td>1</td>\n",
       "      <td>3</td>\n",
       "      <td>71.0</td>\n",
       "      <td>85.0</td>\n",
       "      <td>124.0</td>\n",
       "      <td>NaN</td>\n",
       "      <td>NaN</td>\n",
       "      <td>...</td>\n",
       "      <td>NaN</td>\n",
       "      <td>NaN</td>\n",
       "      <td>NaN</td>\n",
       "      <td>NaN</td>\n",
       "      <td>NaN</td>\n",
       "      <td>NaN</td>\n",
       "      <td>NaN</td>\n",
       "      <td>NaN</td>\n",
       "      <td>NaN</td>\n",
       "      <td>93.333333</td>\n",
       "    </tr>\n",
       "    <tr>\n",
       "      <th>2018-03-01 04:00:00</th>\n",
       "      <td>43</td>\n",
       "      <td>2018</td>\n",
       "      <td>3</td>\n",
       "      <td>1</td>\n",
       "      <td>3</td>\n",
       "      <td>66.0</td>\n",
       "      <td>71.0</td>\n",
       "      <td>85.0</td>\n",
       "      <td>124.0</td>\n",
       "      <td>NaN</td>\n",
       "      <td>...</td>\n",
       "      <td>NaN</td>\n",
       "      <td>NaN</td>\n",
       "      <td>NaN</td>\n",
       "      <td>NaN</td>\n",
       "      <td>NaN</td>\n",
       "      <td>NaN</td>\n",
       "      <td>NaN</td>\n",
       "      <td>NaN</td>\n",
       "      <td>NaN</td>\n",
       "      <td>74.000000</td>\n",
       "    </tr>\n",
       "    <tr>\n",
       "      <th>...</th>\n",
       "      <td>...</td>\n",
       "      <td>...</td>\n",
       "      <td>...</td>\n",
       "      <td>...</td>\n",
       "      <td>...</td>\n",
       "      <td>...</td>\n",
       "      <td>...</td>\n",
       "      <td>...</td>\n",
       "      <td>...</td>\n",
       "      <td>...</td>\n",
       "      <td>...</td>\n",
       "      <td>...</td>\n",
       "      <td>...</td>\n",
       "      <td>...</td>\n",
       "      <td>...</td>\n",
       "      <td>...</td>\n",
       "      <td>...</td>\n",
       "      <td>...</td>\n",
       "      <td>...</td>\n",
       "      <td>...</td>\n",
       "      <td>...</td>\n",
       "    </tr>\n",
       "    <tr>\n",
       "      <th>2018-08-31 19:00:00</th>\n",
       "      <td>136</td>\n",
       "      <td>2018</td>\n",
       "      <td>8</td>\n",
       "      <td>31</td>\n",
       "      <td>4</td>\n",
       "      <td>207.0</td>\n",
       "      <td>217.0</td>\n",
       "      <td>197.0</td>\n",
       "      <td>116.0</td>\n",
       "      <td>133.0</td>\n",
       "      <td>...</td>\n",
       "      <td>99.0</td>\n",
       "      <td>230.0</td>\n",
       "      <td>194.0</td>\n",
       "      <td>276.0</td>\n",
       "      <td>246.0</td>\n",
       "      <td>158.0</td>\n",
       "      <td>198.0</td>\n",
       "      <td>142.0</td>\n",
       "      <td>72.0</td>\n",
       "      <td>207.000000</td>\n",
       "    </tr>\n",
       "    <tr>\n",
       "      <th>2018-08-31 20:00:00</th>\n",
       "      <td>154</td>\n",
       "      <td>2018</td>\n",
       "      <td>8</td>\n",
       "      <td>31</td>\n",
       "      <td>4</td>\n",
       "      <td>136.0</td>\n",
       "      <td>207.0</td>\n",
       "      <td>217.0</td>\n",
       "      <td>197.0</td>\n",
       "      <td>116.0</td>\n",
       "      <td>...</td>\n",
       "      <td>268.0</td>\n",
       "      <td>99.0</td>\n",
       "      <td>230.0</td>\n",
       "      <td>194.0</td>\n",
       "      <td>276.0</td>\n",
       "      <td>246.0</td>\n",
       "      <td>158.0</td>\n",
       "      <td>198.0</td>\n",
       "      <td>142.0</td>\n",
       "      <td>186.666667</td>\n",
       "    </tr>\n",
       "    <tr>\n",
       "      <th>2018-08-31 21:00:00</th>\n",
       "      <td>159</td>\n",
       "      <td>2018</td>\n",
       "      <td>8</td>\n",
       "      <td>31</td>\n",
       "      <td>4</td>\n",
       "      <td>154.0</td>\n",
       "      <td>136.0</td>\n",
       "      <td>207.0</td>\n",
       "      <td>217.0</td>\n",
       "      <td>197.0</td>\n",
       "      <td>...</td>\n",
       "      <td>78.0</td>\n",
       "      <td>268.0</td>\n",
       "      <td>99.0</td>\n",
       "      <td>230.0</td>\n",
       "      <td>194.0</td>\n",
       "      <td>276.0</td>\n",
       "      <td>246.0</td>\n",
       "      <td>158.0</td>\n",
       "      <td>198.0</td>\n",
       "      <td>165.666667</td>\n",
       "    </tr>\n",
       "    <tr>\n",
       "      <th>2018-08-31 22:00:00</th>\n",
       "      <td>223</td>\n",
       "      <td>2018</td>\n",
       "      <td>8</td>\n",
       "      <td>31</td>\n",
       "      <td>4</td>\n",
       "      <td>159.0</td>\n",
       "      <td>154.0</td>\n",
       "      <td>136.0</td>\n",
       "      <td>207.0</td>\n",
       "      <td>217.0</td>\n",
       "      <td>...</td>\n",
       "      <td>35.0</td>\n",
       "      <td>78.0</td>\n",
       "      <td>268.0</td>\n",
       "      <td>99.0</td>\n",
       "      <td>230.0</td>\n",
       "      <td>194.0</td>\n",
       "      <td>276.0</td>\n",
       "      <td>246.0</td>\n",
       "      <td>158.0</td>\n",
       "      <td>149.666667</td>\n",
       "    </tr>\n",
       "    <tr>\n",
       "      <th>2018-08-31 23:00:00</th>\n",
       "      <td>205</td>\n",
       "      <td>2018</td>\n",
       "      <td>8</td>\n",
       "      <td>31</td>\n",
       "      <td>4</td>\n",
       "      <td>223.0</td>\n",
       "      <td>159.0</td>\n",
       "      <td>154.0</td>\n",
       "      <td>136.0</td>\n",
       "      <td>207.0</td>\n",
       "      <td>...</td>\n",
       "      <td>46.0</td>\n",
       "      <td>35.0</td>\n",
       "      <td>78.0</td>\n",
       "      <td>268.0</td>\n",
       "      <td>99.0</td>\n",
       "      <td>230.0</td>\n",
       "      <td>194.0</td>\n",
       "      <td>276.0</td>\n",
       "      <td>246.0</td>\n",
       "      <td>178.666667</td>\n",
       "    </tr>\n",
       "  </tbody>\n",
       "</table>\n",
       "<p>4416 rows × 30 columns</p>\n",
       "</div>"
      ],
      "text/plain": [
       "                     num_orders  year  month  day  dayofweek  lag_1  lag_2  \\\n",
       "datetime                                                                     \n",
       "2018-03-01 00:00:00         124  2018      3    1          3    NaN    NaN   \n",
       "2018-03-01 01:00:00          85  2018      3    1          3  124.0    NaN   \n",
       "2018-03-01 02:00:00          71  2018      3    1          3   85.0  124.0   \n",
       "2018-03-01 03:00:00          66  2018      3    1          3   71.0   85.0   \n",
       "2018-03-01 04:00:00          43  2018      3    1          3   66.0   71.0   \n",
       "...                         ...   ...    ...  ...        ...    ...    ...   \n",
       "2018-08-31 19:00:00         136  2018      8   31          4  207.0  217.0   \n",
       "2018-08-31 20:00:00         154  2018      8   31          4  136.0  207.0   \n",
       "2018-08-31 21:00:00         159  2018      8   31          4  154.0  136.0   \n",
       "2018-08-31 22:00:00         223  2018      8   31          4  159.0  154.0   \n",
       "2018-08-31 23:00:00         205  2018      8   31          4  223.0  159.0   \n",
       "\n",
       "                     lag_3  lag_4  lag_5  ...  lag_16  lag_17  lag_18  lag_19  \\\n",
       "datetime                                  ...                                   \n",
       "2018-03-01 00:00:00    NaN    NaN    NaN  ...     NaN     NaN     NaN     NaN   \n",
       "2018-03-01 01:00:00    NaN    NaN    NaN  ...     NaN     NaN     NaN     NaN   \n",
       "2018-03-01 02:00:00    NaN    NaN    NaN  ...     NaN     NaN     NaN     NaN   \n",
       "2018-03-01 03:00:00  124.0    NaN    NaN  ...     NaN     NaN     NaN     NaN   \n",
       "2018-03-01 04:00:00   85.0  124.0    NaN  ...     NaN     NaN     NaN     NaN   \n",
       "...                    ...    ...    ...  ...     ...     ...     ...     ...   \n",
       "2018-08-31 19:00:00  197.0  116.0  133.0  ...    99.0   230.0   194.0   276.0   \n",
       "2018-08-31 20:00:00  217.0  197.0  116.0  ...   268.0    99.0   230.0   194.0   \n",
       "2018-08-31 21:00:00  207.0  217.0  197.0  ...    78.0   268.0    99.0   230.0   \n",
       "2018-08-31 22:00:00  136.0  207.0  217.0  ...    35.0    78.0   268.0    99.0   \n",
       "2018-08-31 23:00:00  154.0  136.0  207.0  ...    46.0    35.0    78.0   268.0   \n",
       "\n",
       "                     lag_20  lag_21  lag_22  lag_23  lag_24  rolling_mean  \n",
       "datetime                                                                   \n",
       "2018-03-01 00:00:00     NaN     NaN     NaN     NaN     NaN           NaN  \n",
       "2018-03-01 01:00:00     NaN     NaN     NaN     NaN     NaN           NaN  \n",
       "2018-03-01 02:00:00     NaN     NaN     NaN     NaN     NaN           NaN  \n",
       "2018-03-01 03:00:00     NaN     NaN     NaN     NaN     NaN     93.333333  \n",
       "2018-03-01 04:00:00     NaN     NaN     NaN     NaN     NaN     74.000000  \n",
       "...                     ...     ...     ...     ...     ...           ...  \n",
       "2018-08-31 19:00:00   246.0   158.0   198.0   142.0    72.0    207.000000  \n",
       "2018-08-31 20:00:00   276.0   246.0   158.0   198.0   142.0    186.666667  \n",
       "2018-08-31 21:00:00   194.0   276.0   246.0   158.0   198.0    165.666667  \n",
       "2018-08-31 22:00:00   230.0   194.0   276.0   246.0   158.0    149.666667  \n",
       "2018-08-31 23:00:00    99.0   230.0   194.0   276.0   246.0    178.666667  \n",
       "\n",
       "[4416 rows x 30 columns]"
      ]
     },
     "execution_count": 10,
     "metadata": {},
     "output_type": "execute_result"
    }
   ],
   "source": [
    "# Call the function to create new features for the DataFrame\n",
    "make_features(df,24,3)"
   ]
  },
  {
   "cell_type": "markdown",
   "metadata": {},
   "source": [
    "## Proof"
   ]
  },
  {
   "cell_type": "code",
   "execution_count": 11,
   "metadata": {},
   "outputs": [],
   "source": [
    "#Treat empty values\n",
    "df = df.fillna(0)"
   ]
  },
  {
   "cell_type": "code",
   "execution_count": 12,
   "metadata": {},
   "outputs": [
    {
     "data": {
      "text/html": [
       "<div>\n",
       "<style scoped>\n",
       "    .dataframe tbody tr th:only-of-type {\n",
       "        vertical-align: middle;\n",
       "    }\n",
       "\n",
       "    .dataframe tbody tr th {\n",
       "        vertical-align: top;\n",
       "    }\n",
       "\n",
       "    .dataframe thead th {\n",
       "        text-align: right;\n",
       "    }\n",
       "</style>\n",
       "<table border=\"1\" class=\"dataframe\">\n",
       "  <thead>\n",
       "    <tr style=\"text-align: right;\">\n",
       "      <th></th>\n",
       "      <th>num_orders</th>\n",
       "      <th>year</th>\n",
       "      <th>month</th>\n",
       "      <th>day</th>\n",
       "      <th>dayofweek</th>\n",
       "      <th>lag_1</th>\n",
       "      <th>lag_2</th>\n",
       "      <th>lag_3</th>\n",
       "      <th>lag_4</th>\n",
       "      <th>lag_5</th>\n",
       "      <th>...</th>\n",
       "      <th>lag_16</th>\n",
       "      <th>lag_17</th>\n",
       "      <th>lag_18</th>\n",
       "      <th>lag_19</th>\n",
       "      <th>lag_20</th>\n",
       "      <th>lag_21</th>\n",
       "      <th>lag_22</th>\n",
       "      <th>lag_23</th>\n",
       "      <th>lag_24</th>\n",
       "      <th>rolling_mean</th>\n",
       "    </tr>\n",
       "    <tr>\n",
       "      <th>datetime</th>\n",
       "      <th></th>\n",
       "      <th></th>\n",
       "      <th></th>\n",
       "      <th></th>\n",
       "      <th></th>\n",
       "      <th></th>\n",
       "      <th></th>\n",
       "      <th></th>\n",
       "      <th></th>\n",
       "      <th></th>\n",
       "      <th></th>\n",
       "      <th></th>\n",
       "      <th></th>\n",
       "      <th></th>\n",
       "      <th></th>\n",
       "      <th></th>\n",
       "      <th></th>\n",
       "      <th></th>\n",
       "      <th></th>\n",
       "      <th></th>\n",
       "      <th></th>\n",
       "    </tr>\n",
       "  </thead>\n",
       "  <tbody>\n",
       "    <tr>\n",
       "      <th>2018-03-01 00:00:00</th>\n",
       "      <td>124</td>\n",
       "      <td>2018</td>\n",
       "      <td>3</td>\n",
       "      <td>1</td>\n",
       "      <td>3</td>\n",
       "      <td>0.0</td>\n",
       "      <td>0.0</td>\n",
       "      <td>0.0</td>\n",
       "      <td>0.0</td>\n",
       "      <td>0.0</td>\n",
       "      <td>...</td>\n",
       "      <td>0.0</td>\n",
       "      <td>0.0</td>\n",
       "      <td>0.0</td>\n",
       "      <td>0.0</td>\n",
       "      <td>0.0</td>\n",
       "      <td>0.0</td>\n",
       "      <td>0.0</td>\n",
       "      <td>0.0</td>\n",
       "      <td>0.0</td>\n",
       "      <td>0.000000</td>\n",
       "    </tr>\n",
       "    <tr>\n",
       "      <th>2018-03-01 01:00:00</th>\n",
       "      <td>85</td>\n",
       "      <td>2018</td>\n",
       "      <td>3</td>\n",
       "      <td>1</td>\n",
       "      <td>3</td>\n",
       "      <td>124.0</td>\n",
       "      <td>0.0</td>\n",
       "      <td>0.0</td>\n",
       "      <td>0.0</td>\n",
       "      <td>0.0</td>\n",
       "      <td>...</td>\n",
       "      <td>0.0</td>\n",
       "      <td>0.0</td>\n",
       "      <td>0.0</td>\n",
       "      <td>0.0</td>\n",
       "      <td>0.0</td>\n",
       "      <td>0.0</td>\n",
       "      <td>0.0</td>\n",
       "      <td>0.0</td>\n",
       "      <td>0.0</td>\n",
       "      <td>0.000000</td>\n",
       "    </tr>\n",
       "    <tr>\n",
       "      <th>2018-03-01 02:00:00</th>\n",
       "      <td>71</td>\n",
       "      <td>2018</td>\n",
       "      <td>3</td>\n",
       "      <td>1</td>\n",
       "      <td>3</td>\n",
       "      <td>85.0</td>\n",
       "      <td>124.0</td>\n",
       "      <td>0.0</td>\n",
       "      <td>0.0</td>\n",
       "      <td>0.0</td>\n",
       "      <td>...</td>\n",
       "      <td>0.0</td>\n",
       "      <td>0.0</td>\n",
       "      <td>0.0</td>\n",
       "      <td>0.0</td>\n",
       "      <td>0.0</td>\n",
       "      <td>0.0</td>\n",
       "      <td>0.0</td>\n",
       "      <td>0.0</td>\n",
       "      <td>0.0</td>\n",
       "      <td>0.000000</td>\n",
       "    </tr>\n",
       "    <tr>\n",
       "      <th>2018-03-01 03:00:00</th>\n",
       "      <td>66</td>\n",
       "      <td>2018</td>\n",
       "      <td>3</td>\n",
       "      <td>1</td>\n",
       "      <td>3</td>\n",
       "      <td>71.0</td>\n",
       "      <td>85.0</td>\n",
       "      <td>124.0</td>\n",
       "      <td>0.0</td>\n",
       "      <td>0.0</td>\n",
       "      <td>...</td>\n",
       "      <td>0.0</td>\n",
       "      <td>0.0</td>\n",
       "      <td>0.0</td>\n",
       "      <td>0.0</td>\n",
       "      <td>0.0</td>\n",
       "      <td>0.0</td>\n",
       "      <td>0.0</td>\n",
       "      <td>0.0</td>\n",
       "      <td>0.0</td>\n",
       "      <td>93.333333</td>\n",
       "    </tr>\n",
       "    <tr>\n",
       "      <th>2018-03-01 04:00:00</th>\n",
       "      <td>43</td>\n",
       "      <td>2018</td>\n",
       "      <td>3</td>\n",
       "      <td>1</td>\n",
       "      <td>3</td>\n",
       "      <td>66.0</td>\n",
       "      <td>71.0</td>\n",
       "      <td>85.0</td>\n",
       "      <td>124.0</td>\n",
       "      <td>0.0</td>\n",
       "      <td>...</td>\n",
       "      <td>0.0</td>\n",
       "      <td>0.0</td>\n",
       "      <td>0.0</td>\n",
       "      <td>0.0</td>\n",
       "      <td>0.0</td>\n",
       "      <td>0.0</td>\n",
       "      <td>0.0</td>\n",
       "      <td>0.0</td>\n",
       "      <td>0.0</td>\n",
       "      <td>74.000000</td>\n",
       "    </tr>\n",
       "  </tbody>\n",
       "</table>\n",
       "<p>5 rows × 30 columns</p>\n",
       "</div>"
      ],
      "text/plain": [
       "                     num_orders  year  month  day  dayofweek  lag_1  lag_2  \\\n",
       "datetime                                                                     \n",
       "2018-03-01 00:00:00         124  2018      3    1          3    0.0    0.0   \n",
       "2018-03-01 01:00:00          85  2018      3    1          3  124.0    0.0   \n",
       "2018-03-01 02:00:00          71  2018      3    1          3   85.0  124.0   \n",
       "2018-03-01 03:00:00          66  2018      3    1          3   71.0   85.0   \n",
       "2018-03-01 04:00:00          43  2018      3    1          3   66.0   71.0   \n",
       "\n",
       "                     lag_3  lag_4  lag_5  ...  lag_16  lag_17  lag_18  lag_19  \\\n",
       "datetime                                  ...                                   \n",
       "2018-03-01 00:00:00    0.0    0.0    0.0  ...     0.0     0.0     0.0     0.0   \n",
       "2018-03-01 01:00:00    0.0    0.0    0.0  ...     0.0     0.0     0.0     0.0   \n",
       "2018-03-01 02:00:00    0.0    0.0    0.0  ...     0.0     0.0     0.0     0.0   \n",
       "2018-03-01 03:00:00  124.0    0.0    0.0  ...     0.0     0.0     0.0     0.0   \n",
       "2018-03-01 04:00:00   85.0  124.0    0.0  ...     0.0     0.0     0.0     0.0   \n",
       "\n",
       "                     lag_20  lag_21  lag_22  lag_23  lag_24  rolling_mean  \n",
       "datetime                                                                   \n",
       "2018-03-01 00:00:00     0.0     0.0     0.0     0.0     0.0      0.000000  \n",
       "2018-03-01 01:00:00     0.0     0.0     0.0     0.0     0.0      0.000000  \n",
       "2018-03-01 02:00:00     0.0     0.0     0.0     0.0     0.0      0.000000  \n",
       "2018-03-01 03:00:00     0.0     0.0     0.0     0.0     0.0     93.333333  \n",
       "2018-03-01 04:00:00     0.0     0.0     0.0     0.0     0.0     74.000000  \n",
       "\n",
       "[5 rows x 30 columns]"
      ]
     },
     "execution_count": 12,
     "metadata": {},
     "output_type": "execute_result"
    }
   ],
   "source": [
    "#Show the first rows of the modified Dataframe \n",
    "df.head()"
   ]
  },
  {
   "cell_type": "code",
   "execution_count": 13,
   "metadata": {},
   "outputs": [],
   "source": [
    "# Select the target variable \n",
    "target = df['num_orders'] \n",
    "\n",
    "# Select the features by dropping the target column\n",
    "features = df.drop(['num_orders'], axis=1)"
   ]
  },
  {
   "cell_type": "code",
   "execution_count": 14,
   "metadata": {},
   "outputs": [],
   "source": [
    "# Split data into training and testing sets\n",
    "train_features, test_features, train_target, test_target = train_test_split(\n",
    "    features, target, test_size=0.10, random_state=12345, shuffle=False\n",
    ")"
   ]
  },
  {
   "cell_type": "code",
   "execution_count": 15,
   "metadata": {},
   "outputs": [
    {
     "name": "stdout",
     "output_type": "stream",
     "text": [
      "LinearRegression:\n",
      "RMSE (Root Mean Squared Error) for training set: 671.4774982135625\n",
      "RMSE (Root Mean Squared Error) for test set: 2100.618191925766\n"
     ]
    }
   ],
   "source": [
    "# Create a linear regression model\n",
    "model = LinearRegression()\n",
    "\n",
    "# Train the model on the training features and target\n",
    "model.fit(train_features, train_target)\n",
    "\n",
    "# Make predictions on the training features\n",
    "predict_train1 = model.predict(train_features)\n",
    "\n",
    "# Make predictions on the testing features\n",
    "predict_test1 = model.predict(test_features)\n",
    "\n",
    "# Print results for linear regression model\n",
    "print('LinearRegression:')\n",
    "print('RMSE (Root Mean Squared Error) for training set:',\n",
    "      mean_squared_error(train_target, predict_train1))\n",
    "print('RMSE (Root Mean Squared Error) for test set:',\n",
    "      mean_squared_error(test_target, predict_test1))"
   ]
  },
  {
   "cell_type": "code",
   "execution_count": 16,
   "metadata": {},
   "outputs": [
    {
     "name": "stdout",
     "output_type": "stream",
     "text": [
      "RandomForestRegressor:\n",
      "n_estimators: 300\n",
      "RECM para el conjunto de entrenamiento: 74.37752993345636\n",
      "RECM para el conjunto de prueba: 1873.0267859477121\n",
      "Mejores parámetros: {'n_estimators': 300, 'random_state': 1234}\n",
      "Mejor puntaje: -622.6447352192033\n"
     ]
    }
   ],
   "source": [
    "# Define a parameter grid for the RandomForestRegressor\n",
    "param_grid = {\n",
    "    'n_estimators': [100, 200, 300],  # Number of trees in the forest\n",
    "    'random_state': [1234, 12345, 54321]  # Seed for random number generation\n",
    "}\n",
    "\n",
    "# Create a GridSearchCV object to perform grid search\n",
    "grid_search = GridSearchCV(estimator=RandomForestRegressor(),\n",
    "                           param_grid=param_grid,\n",
    "                           cv=5,  \n",
    "                           scoring='neg_mean_squared_error')  # Minimize mean squared error\n",
    "\n",
    "# Fit the grid search to the training data\n",
    "grid_search.fit(train_features, train_target)\n",
    "\n",
    "# Make predictions on the training data using the best model from grid search\n",
    "predict_train2 = grid_search.predict(train_features)\n",
    "\n",
    "# Make predictions on the test data using the best model from grid search\n",
    "predict_test2 = grid_search.predict(test_features)\n",
    "\n",
    "# Print results for RandomForestRegressor\n",
    "print('RandomForestRegressor:')\n",
    "print('n_estimators:', grid_search.best_params_['n_estimators'])  # Print best number of estimators\n",
    "print('RECM para el conjunto de entrenamiento:', mean_squared_error(train_target, predict_train2))  # Print RMSE for training set\n",
    "print('RECM para el conjunto de prueba:', mean_squared_error(test_target, predict_test2))  # Print RMSE for test set\n",
    "\n",
    "# Access the results of the grid search\n",
    "cv_results = grid_search.cv_results_\n",
    "\n",
    "# Print the best parameters found by grid search\n",
    "print(\"Mejores parámetros:\", grid_search.best_params_)\n",
    "\n",
    "# Print the best score (negative mean squared error in this case)\n",
    "print(\"Mejor puntaje:\", grid_search.best_score_)"
   ]
  },
  {
   "cell_type": "code",
   "execution_count": 18,
   "metadata": {
    "scrolled": true
   },
   "outputs": [
    {
     "name": "stdout",
     "output_type": "stream",
     "text": [
      "XGBRegressor:\n",
      "RMSE for training set: 22.084192276000977\n",
      "RMSE for test set: 2091.916748046875\n"
     ]
    }
   ],
   "source": [
    "# Import XGBoost regressor\n",
    "model = xgb.XGBRegressor(objective='reg:squarederror', random_state=54321)\n",
    "\n",
    "# Train the XGBoost model on training features and target\n",
    "model.fit(train_features, train_target)\n",
    "\n",
    "# Make predictions on training features\n",
    "predict_train3 = model.predict(train_features)\n",
    "\n",
    "# Make predictions on test features\n",
    "predict_test3 = model.predict(test_features)\n",
    "\n",
    "# Evaluate XGBRegressor performance\n",
    "print('XGBRegressor:')\n",
    "print('RMSE for training set:', mean_squared_error(train_target, predict_train3))\n",
    "print('RMSE for test set:', mean_squared_error(test_target, predict_test3))"
   ]
  },
  {
   "cell_type": "code",
   "execution_count": 20,
   "metadata": {
    "scrolled": false
   },
   "outputs": [
    {
     "name": "stdout",
     "output_type": "stream",
     "text": [
      "CatBoost:\n",
      "RECM for training set: 127.36956177595341\n",
      "RECM for test set: 1723.5177967001234\n",
      "Best parameters:\n",
      "{'depth': 6, 'iterations': 500, 'learning_rate': 0.1}\n",
      "Best score (negative mean squared error):\n",
      "-577.2441784884768\n"
     ]
    }
   ],
   "source": [
    "# Define a parameter grid for CatBoostRegressor\n",
    "param_grid = {\n",
    "    'depth': [6, 8, 10],  # Maximum tree depth\n",
    "    'learning_rate': [0.01, 0.1, 0.2],  # Learning rate for gradient boosting\n",
    "    'iterations': [500, 1000]  # Number of boosting iterations\n",
    "}\n",
    "\n",
    "# Create a GridSearchCV object to perform grid search with CatBoostRegressor\n",
    "grid_search = GridSearchCV(estimator=CatBoostRegressor(verbose=0),\n",
    "                           param_grid=param_grid,\n",
    "                           cv=5,  # Use 5-fold cross-validation\n",
    "                           scoring='neg_mean_squared_error')  # Minimize mean squared error\n",
    "\n",
    "# Fit the grid search to the training data\n",
    "grid_search.fit(train_features, train_target)\n",
    "\n",
    "# Make predictions on the training data using the best model from grid search\n",
    "predict_train4 = grid_search.predict(train_features)\n",
    "\n",
    "# Make predictions on the test data using the best model from grid search\n",
    "predict_test4 = grid_search.predict(test_features)\n",
    "\n",
    "# Print results for CatBoostRegressor\n",
    "print('CatBoost:')\n",
    "print('RECM for training set:', mean_squared_error(train_target, predict_train4))\n",
    "print('RECM for test set:', mean_squared_error(test_target, predict_test4))\n",
    "\n",
    "# Print the best parameters found by grid search\n",
    "print('Best parameters:')\n",
    "print(grid_search.best_params_)\n",
    "\n",
    "# Print the best score (negative mean squared error in this case)\n",
    "print('Best score (negative mean squared error):')\n",
    "print(grid_search.best_score_)"
   ]
  },
  {
   "cell_type": "markdown",
   "metadata": {},
   "source": [
    "## Conclusion"
   ]
  },
  {
   "cell_type": "markdown",
   "metadata": {},
   "source": [
    "After the initial analysis of the data, different models were trained with the objective of finding the best model, in terms of EAM, for predicting car prices, obtaining the following:\n",
    "\n",
    "From the results obtained in the implementation of the linear regression, random forest, XGBoost and CatBoost models to predict the demand for taxis, we can draw the following conclusions:\n",
    "General performance: none of the evaluated models managed to achieve the objective of an Absolute Middle Error (EAM) less than 48 in the testing set. This indicates that the models are not able to perform sufficiently precise predictions to meet the project requirements.\n",
    "Sobrejuste: All models presented a clear case of overhap, that is, they adjusted excessively to the training data but did not generalize well to new data. This is evidenced in the big difference between the EAM of the training set and the testing set.\n",
    "Complexity of the problem: the prediction of the demand for taxis is a complex problem influenced by a multitude of factors, such as climatic conditions, special events, seasonal trends and socio -economic variables. The models used, although powerful, may not be enough to capture all this complexity."
   ]
  }
 ],
 "metadata": {
  "ExecuteTimeLog": [
   {
    "duration": 2874,
    "start_time": "2024-09-04T15:33:35.828Z"
   },
   {
    "duration": 30,
    "start_time": "2024-09-04T15:34:27.155Z"
   },
   {
    "duration": 11,
    "start_time": "2024-09-04T15:49:36.456Z"
   },
   {
    "duration": 14,
    "start_time": "2024-09-04T15:50:04.538Z"
   },
   {
    "duration": 6,
    "start_time": "2024-09-04T15:50:16.496Z"
   },
   {
    "duration": 22,
    "start_time": "2024-09-04T15:51:25.383Z"
   },
   {
    "duration": 8,
    "start_time": "2024-09-04T15:51:29.881Z"
   },
   {
    "duration": 10,
    "start_time": "2024-09-04T15:51:33.130Z"
   },
   {
    "duration": 7,
    "start_time": "2024-09-04T15:51:34.571Z"
   },
   {
    "duration": 7,
    "start_time": "2024-09-04T15:52:35.513Z"
   },
   {
    "duration": 12,
    "start_time": "2024-09-04T15:52:36.675Z"
   },
   {
    "duration": 5,
    "start_time": "2024-09-04T15:52:39.724Z"
   },
   {
    "duration": 7,
    "start_time": "2024-09-04T15:53:51.688Z"
   },
   {
    "duration": 7,
    "start_time": "2024-09-04T15:53:54.239Z"
   },
   {
    "duration": 13,
    "start_time": "2024-09-04T15:53:55.007Z"
   },
   {
    "duration": 6,
    "start_time": "2024-09-04T15:53:57.860Z"
   },
   {
    "duration": 2752,
    "start_time": "2024-09-04T22:44:12.581Z"
   },
   {
    "duration": 35,
    "start_time": "2024-09-04T22:44:15.335Z"
   },
   {
    "duration": 52,
    "start_time": "2024-09-04T22:44:15.371Z"
   },
   {
    "duration": 7,
    "start_time": "2024-09-04T22:44:15.426Z"
   },
   {
    "duration": 11,
    "start_time": "2024-09-04T22:44:15.435Z"
   },
   {
    "duration": 5,
    "start_time": "2024-09-04T22:44:15.448Z"
   },
   {
    "duration": 3,
    "start_time": "2024-09-04T22:44:20.044Z"
   },
   {
    "duration": 342,
    "start_time": "2024-09-04T22:47:51.906Z"
   },
   {
    "duration": 31,
    "start_time": "2024-09-04T22:49:26.385Z"
   },
   {
    "duration": 332,
    "start_time": "2024-09-04T22:49:32.702Z"
   },
   {
    "duration": 383,
    "start_time": "2024-09-04T22:49:40.070Z"
   },
   {
    "duration": 366,
    "start_time": "2024-09-04T22:50:06.929Z"
   },
   {
    "duration": 468,
    "start_time": "2024-09-04T22:50:13.048Z"
   },
   {
    "duration": 394,
    "start_time": "2024-09-04T22:50:19.055Z"
   },
   {
    "duration": 431,
    "start_time": "2024-09-04T22:52:12.737Z"
   },
   {
    "duration": 3,
    "start_time": "2024-09-04T22:52:38.548Z"
   },
   {
    "duration": 7,
    "start_time": "2024-09-04T22:53:18.712Z"
   },
   {
    "duration": 4,
    "start_time": "2024-09-04T22:57:26.889Z"
   },
   {
    "duration": 4,
    "start_time": "2024-09-04T23:00:46.336Z"
   },
   {
    "duration": 2968,
    "start_time": "2024-09-05T18:30:38.967Z"
   },
   {
    "duration": 38,
    "start_time": "2024-09-05T18:30:41.937Z"
   },
   {
    "duration": 10,
    "start_time": "2024-09-05T18:30:41.978Z"
   },
   {
    "duration": 9,
    "start_time": "2024-09-05T18:30:41.990Z"
   },
   {
    "duration": 18,
    "start_time": "2024-09-05T18:30:42.001Z"
   },
   {
    "duration": 7,
    "start_time": "2024-09-05T18:30:42.020Z"
   },
   {
    "duration": 462,
    "start_time": "2024-09-05T18:30:42.030Z"
   },
   {
    "duration": 5,
    "start_time": "2024-09-05T18:30:42.494Z"
   },
   {
    "duration": 12,
    "start_time": "2024-09-05T18:30:42.500Z"
   },
   {
    "duration": 3,
    "start_time": "2024-09-05T18:30:42.515Z"
   },
   {
    "duration": 5,
    "start_time": "2024-09-05T18:30:42.520Z"
   },
   {
    "duration": 162,
    "start_time": "2024-09-05T18:31:39.118Z"
   },
   {
    "duration": 5,
    "start_time": "2024-09-05T18:37:20.346Z"
   },
   {
    "duration": 22,
    "start_time": "2024-09-05T18:37:20.366Z"
   },
   {
    "duration": 6,
    "start_time": "2024-09-05T18:37:20.391Z"
   },
   {
    "duration": 9,
    "start_time": "2024-09-05T18:37:20.399Z"
   },
   {
    "duration": 9,
    "start_time": "2024-09-05T18:37:20.411Z"
   },
   {
    "duration": 6,
    "start_time": "2024-09-05T18:37:20.423Z"
   },
   {
    "duration": 453,
    "start_time": "2024-09-05T18:37:20.431Z"
   },
   {
    "duration": 6,
    "start_time": "2024-09-05T18:37:20.885Z"
   },
   {
    "duration": 19,
    "start_time": "2024-09-05T18:37:20.893Z"
   },
   {
    "duration": 5,
    "start_time": "2024-09-05T18:37:20.913Z"
   },
   {
    "duration": 4,
    "start_time": "2024-09-05T18:37:20.920Z"
   },
   {
    "duration": 28,
    "start_time": "2024-09-05T18:37:47.240Z"
   },
   {
    "duration": 8,
    "start_time": "2024-09-05T18:39:41.210Z"
   },
   {
    "duration": 4,
    "start_time": "2024-09-05T18:39:56.191Z"
   },
   {
    "duration": 5,
    "start_time": "2024-09-05T18:39:57.175Z"
   },
   {
    "duration": 8,
    "start_time": "2024-09-05T18:39:59.339Z"
   },
   {
    "duration": 4,
    "start_time": "2024-09-05T18:40:02.533Z"
   },
   {
    "duration": 4,
    "start_time": "2024-09-05T18:40:03.089Z"
   },
   {
    "duration": 323,
    "start_time": "2024-09-05T18:40:04.063Z"
   },
   {
    "duration": 9,
    "start_time": "2024-09-05T18:40:54.743Z"
   },
   {
    "duration": 9,
    "start_time": "2024-09-05T18:41:20.675Z"
   },
   {
    "duration": 6,
    "start_time": "2024-09-05T18:41:25.846Z"
   },
   {
    "duration": 8,
    "start_time": "2024-09-05T18:41:37.718Z"
   },
   {
    "duration": 3,
    "start_time": "2024-09-05T18:42:08.309Z"
   },
   {
    "duration": 8,
    "start_time": "2024-09-05T18:42:09.727Z"
   },
   {
    "duration": 3,
    "start_time": "2024-09-05T18:42:17.654Z"
   },
   {
    "duration": 4,
    "start_time": "2024-09-05T18:42:18.090Z"
   },
   {
    "duration": 49,
    "start_time": "2024-09-05T18:42:18.650Z"
   },
   {
    "duration": 60,
    "start_time": "2024-09-05T18:42:23.221Z"
   },
   {
    "duration": 4,
    "start_time": "2024-09-05T18:43:33.267Z"
   },
   {
    "duration": 43,
    "start_time": "2024-09-05T18:43:36.738Z"
   },
   {
    "duration": 4,
    "start_time": "2024-09-05T18:44:17.391Z"
   },
   {
    "duration": 9,
    "start_time": "2024-09-05T18:44:18.882Z"
   },
   {
    "duration": 9,
    "start_time": "2024-09-05T18:47:06.684Z"
   },
   {
    "duration": 7,
    "start_time": "2024-09-05T18:47:24.476Z"
   },
   {
    "duration": 8,
    "start_time": "2024-09-05T18:52:27.718Z"
   },
   {
    "duration": 6659,
    "start_time": "2024-09-05T18:52:33.381Z"
   },
   {
    "duration": 6703,
    "start_time": "2024-09-05T18:54:32.316Z"
   },
   {
    "duration": 76438,
    "start_time": "2024-09-05T18:59:58.397Z"
   },
   {
    "duration": 8,
    "start_time": "2024-09-05T19:06:29.270Z"
   },
   {
    "duration": 6817,
    "start_time": "2024-09-05T19:07:40.795Z"
   },
   {
    "duration": 76600,
    "start_time": "2024-09-05T19:08:12.320Z"
   },
   {
    "duration": 345,
    "start_time": "2024-09-05T19:16:18.590Z"
   },
   {
    "duration": 485,
    "start_time": "2024-09-05T19:17:37.563Z"
   },
   {
    "duration": 76689,
    "start_time": "2024-09-05T19:19:14.390Z"
   },
   {
    "duration": 77593,
    "start_time": "2024-09-05T19:28:49.592Z"
   },
   {
    "duration": 75495,
    "start_time": "2024-09-05T19:30:33.289Z"
   },
   {
    "duration": 175,
    "start_time": "2024-09-05T20:33:25.703Z"
   },
   {
    "duration": 2963,
    "start_time": "2024-09-05T20:33:37.630Z"
   },
   {
    "duration": 40,
    "start_time": "2024-09-05T20:33:40.596Z"
   },
   {
    "duration": 7,
    "start_time": "2024-09-05T20:33:40.638Z"
   },
   {
    "duration": 8,
    "start_time": "2024-09-05T20:33:40.647Z"
   },
   {
    "duration": 13,
    "start_time": "2024-09-05T20:33:40.657Z"
   },
   {
    "duration": 6,
    "start_time": "2024-09-05T20:33:40.672Z"
   },
   {
    "duration": 493,
    "start_time": "2024-09-05T20:33:40.680Z"
   },
   {
    "duration": 4,
    "start_time": "2024-09-05T20:33:41.175Z"
   },
   {
    "duration": 8,
    "start_time": "2024-09-05T20:33:41.181Z"
   },
   {
    "duration": 3,
    "start_time": "2024-09-05T20:33:41.191Z"
   },
   {
    "duration": 17,
    "start_time": "2024-09-05T20:33:41.196Z"
   },
   {
    "duration": 4,
    "start_time": "2024-09-05T20:33:41.214Z"
   },
   {
    "duration": 4,
    "start_time": "2024-09-05T20:33:41.219Z"
   },
   {
    "duration": 8,
    "start_time": "2024-09-05T20:33:41.225Z"
   },
   {
    "duration": 6779,
    "start_time": "2024-09-05T20:33:41.235Z"
   },
   {
    "duration": 481,
    "start_time": "2024-09-05T20:33:50.554Z"
   },
   {
    "duration": 75099,
    "start_time": "2024-09-05T20:34:10.691Z"
   },
   {
    "duration": 1222,
    "start_time": "2024-09-06T00:08:08.894Z"
   },
   {
    "duration": 35,
    "start_time": "2024-09-06T00:08:10.118Z"
   },
   {
    "duration": 8,
    "start_time": "2024-09-06T00:08:10.155Z"
   },
   {
    "duration": 9,
    "start_time": "2024-09-06T00:08:10.452Z"
   },
   {
    "duration": 12,
    "start_time": "2024-09-06T00:08:10.788Z"
   },
   {
    "duration": 7,
    "start_time": "2024-09-06T00:08:11.995Z"
   },
   {
    "duration": 478,
    "start_time": "2024-09-06T00:08:13.416Z"
   },
   {
    "duration": 270,
    "start_time": "2024-09-06T00:12:42.971Z"
   },
   {
    "duration": 5,
    "start_time": "2024-09-06T00:12:47.826Z"
   },
   {
    "duration": 20,
    "start_time": "2024-09-06T00:12:49.010Z"
   },
   {
    "duration": 6,
    "start_time": "2024-09-06T00:12:49.741Z"
   },
   {
    "duration": 9,
    "start_time": "2024-09-06T00:12:49.957Z"
   },
   {
    "duration": 8,
    "start_time": "2024-09-06T00:12:50.159Z"
   },
   {
    "duration": 8,
    "start_time": "2024-09-06T00:12:50.362Z"
   },
   {
    "duration": 564,
    "start_time": "2024-09-06T00:12:50.742Z"
   },
   {
    "duration": 3,
    "start_time": "2024-09-06T00:12:52.523Z"
   },
   {
    "duration": 9,
    "start_time": "2024-09-06T00:12:52.816Z"
   },
   {
    "duration": 3,
    "start_time": "2024-09-06T00:12:53.619Z"
   },
   {
    "duration": 8,
    "start_time": "2024-09-06T00:12:54.158Z"
   },
   {
    "duration": 3,
    "start_time": "2024-09-06T00:12:54.702Z"
   },
   {
    "duration": 4,
    "start_time": "2024-09-06T00:12:55.266Z"
   },
   {
    "duration": 14,
    "start_time": "2024-09-06T00:12:56.004Z"
   },
   {
    "duration": 9,
    "start_time": "2024-09-06T00:13:00.843Z"
   },
   {
    "duration": 7048,
    "start_time": "2024-09-06T00:13:01.162Z"
   },
   {
    "duration": 38323,
    "start_time": "2024-09-06T00:13:08.213Z"
   },
   {
    "duration": 59391,
    "start_time": "2024-09-06T00:13:46.539Z"
   },
   {
    "duration": 0,
    "start_time": "2024-09-06T00:14:45.932Z"
   },
   {
    "duration": 12,
    "start_time": "2024-09-06T00:14:54.128Z"
   },
   {
    "duration": 11,
    "start_time": "2024-09-06T00:16:43.199Z"
   },
   {
    "duration": 4,
    "start_time": "2024-09-06T00:16:52.591Z"
   },
   {
    "duration": 25,
    "start_time": "2024-09-06T00:16:53.495Z"
   },
   {
    "duration": 7,
    "start_time": "2024-09-06T00:16:54.130Z"
   },
   {
    "duration": 10,
    "start_time": "2024-09-06T00:16:54.498Z"
   },
   {
    "duration": 9,
    "start_time": "2024-09-06T00:16:55.025Z"
   },
   {
    "duration": 7,
    "start_time": "2024-09-06T00:16:55.604Z"
   },
   {
    "duration": 450,
    "start_time": "2024-09-06T00:16:57.955Z"
   },
   {
    "duration": 4,
    "start_time": "2024-09-06T00:17:00.537Z"
   },
   {
    "duration": 15,
    "start_time": "2024-09-06T00:17:01.986Z"
   },
   {
    "duration": 3,
    "start_time": "2024-09-06T00:17:03.090Z"
   },
   {
    "duration": 17,
    "start_time": "2024-09-06T00:17:03.901Z"
   },
   {
    "duration": 4,
    "start_time": "2024-09-06T00:17:04.731Z"
   },
   {
    "duration": 4,
    "start_time": "2024-09-06T00:17:05.491Z"
   },
   {
    "duration": 21,
    "start_time": "2024-09-06T00:17:06.135Z"
   },
   {
    "duration": 27,
    "start_time": "2024-09-06T00:17:09.437Z"
   },
   {
    "duration": 11,
    "start_time": "2024-09-06T00:17:13.494Z"
   },
   {
    "duration": 3614,
    "start_time": "2024-09-06T00:17:36.221Z"
   },
   {
    "duration": 50982,
    "start_time": "2024-09-06T00:20:50.067Z"
   },
   {
    "duration": 5,
    "start_time": "2024-09-06T00:23:17.535Z"
   },
   {
    "duration": 6,
    "start_time": "2024-09-06T00:23:56.773Z"
   },
   {
    "duration": 7,
    "start_time": "2024-09-06T00:24:04.114Z"
   },
   {
    "duration": 15,
    "start_time": "2024-09-06T00:24:36.543Z"
   },
   {
    "duration": 4,
    "start_time": "2024-09-06T00:24:42.366Z"
   },
   {
    "duration": 10,
    "start_time": "2024-09-06T00:27:12.259Z"
   },
   {
    "duration": 3,
    "start_time": "2024-09-06T00:27:13.518Z"
   },
   {
    "duration": 20,
    "start_time": "2024-09-06T00:27:13.843Z"
   },
   {
    "duration": 5,
    "start_time": "2024-09-06T00:27:14.831Z"
   },
   {
    "duration": 4,
    "start_time": "2024-09-06T00:27:15.964Z"
   },
   {
    "duration": 12,
    "start_time": "2024-09-06T00:27:17.022Z"
   },
   {
    "duration": 4,
    "start_time": "2024-09-06T00:27:18.266Z"
   },
   {
    "duration": 40126,
    "start_time": "2024-09-06T00:27:28.797Z"
   },
   {
    "duration": 3,
    "start_time": "2024-09-06T00:28:08.925Z"
   },
   {
    "duration": 443997,
    "start_time": "2024-09-06T00:29:06.855Z"
   },
   {
    "duration": 3,
    "start_time": "2024-09-06T00:36:30.856Z"
   },
   {
    "duration": 27,
    "start_time": "2024-09-06T00:37:36.380Z"
   },
   {
    "duration": 4,
    "start_time": "2024-09-06T00:38:50.304Z"
   },
   {
    "duration": 9,
    "start_time": "2024-09-06T00:38:51.009Z"
   },
   {
    "duration": 10,
    "start_time": "2024-09-06T00:38:57.137Z"
   },
   {
    "duration": 20,
    "start_time": "2024-09-06T00:38:57.424Z"
   },
   {
    "duration": 23,
    "start_time": "2024-09-06T00:39:09.613Z"
   },
   {
    "duration": 5,
    "start_time": "2024-09-06T00:39:10.233Z"
   },
   {
    "duration": 8,
    "start_time": "2024-09-06T00:39:10.561Z"
   },
   {
    "duration": 11,
    "start_time": "2024-09-06T00:39:10.965Z"
   },
   {
    "duration": 7,
    "start_time": "2024-09-06T00:39:11.590Z"
   },
   {
    "duration": 440,
    "start_time": "2024-09-06T00:39:15.634Z"
   },
   {
    "duration": 5,
    "start_time": "2024-09-06T00:39:22.624Z"
   },
   {
    "duration": 14,
    "start_time": "2024-09-06T00:39:23.425Z"
   },
   {
    "duration": 6,
    "start_time": "2024-09-06T00:39:25.725Z"
   },
   {
    "duration": 17,
    "start_time": "2024-09-06T00:39:25.973Z"
   },
   {
    "duration": 4,
    "start_time": "2024-09-06T00:39:26.516Z"
   },
   {
    "duration": 5,
    "start_time": "2024-09-06T00:39:26.815Z"
   },
   {
    "duration": 23,
    "start_time": "2024-09-06T00:39:29.332Z"
   },
   {
    "duration": 9,
    "start_time": "2024-09-06T00:39:37.954Z"
   },
   {
    "duration": 5,
    "start_time": "2024-09-06T00:39:39.263Z"
   },
   {
    "duration": 66059,
    "start_time": "2024-09-06T00:39:48.251Z"
   },
   {
    "duration": 4,
    "start_time": "2024-09-06T00:40:54.312Z"
   },
   {
    "duration": 8,
    "start_time": "2024-09-06T00:42:03.710Z"
   },
   {
    "duration": 3,
    "start_time": "2024-09-06T00:42:11.072Z"
   },
   {
    "duration": 20,
    "start_time": "2024-09-06T00:42:11.340Z"
   },
   {
    "duration": 3,
    "start_time": "2024-09-06T00:42:11.938Z"
   },
   {
    "duration": 5,
    "start_time": "2024-09-06T00:42:12.387Z"
   },
   {
    "duration": 30,
    "start_time": "2024-09-06T00:42:13.239Z"
   },
   {
    "duration": 8,
    "start_time": "2024-09-06T00:42:15.109Z"
   },
   {
    "duration": 4,
    "start_time": "2024-09-06T00:42:16.574Z"
   },
   {
    "duration": 3,
    "start_time": "2024-09-06T00:43:14.805Z"
   },
   {
    "duration": 18,
    "start_time": "2024-09-06T00:43:15.445Z"
   },
   {
    "duration": 4,
    "start_time": "2024-09-06T00:43:17.305Z"
   },
   {
    "duration": 23,
    "start_time": "2024-09-06T00:43:17.610Z"
   },
   {
    "duration": 4,
    "start_time": "2024-09-06T00:43:18.449Z"
   },
   {
    "duration": 4,
    "start_time": "2024-09-06T00:43:19.407Z"
   },
   {
    "duration": 24,
    "start_time": "2024-09-06T00:43:20.910Z"
   },
   {
    "duration": 11,
    "start_time": "2024-09-06T00:43:23.249Z"
   },
   {
    "duration": 4,
    "start_time": "2024-09-06T00:43:24.572Z"
   },
   {
    "duration": 25354,
    "start_time": "2024-09-06T00:53:56.429Z"
   },
   {
    "duration": 263,
    "start_time": "2024-09-06T00:55:38.166Z"
   },
   {
    "duration": 74,
    "start_time": "2024-09-06T00:56:10.169Z"
   },
   {
    "duration": 60,
    "start_time": "2024-09-06T00:56:27.533Z"
   },
   {
    "duration": 12,
    "start_time": "2024-09-06T00:56:43.663Z"
   },
   {
    "duration": 5,
    "start_time": "2024-09-06T00:56:54.209Z"
   },
   {
    "duration": 10,
    "start_time": "2024-09-06T00:57:01.428Z"
   },
   {
    "duration": 3,
    "start_time": "2024-09-06T00:57:05.622Z"
   },
   {
    "duration": 19,
    "start_time": "2024-09-06T00:58:59.121Z"
   },
   {
    "duration": 7,
    "start_time": "2024-09-06T00:58:59.613Z"
   },
   {
    "duration": 9,
    "start_time": "2024-09-06T00:58:59.808Z"
   },
   {
    "duration": 9,
    "start_time": "2024-09-06T00:59:00.233Z"
   },
   {
    "duration": 8,
    "start_time": "2024-09-06T00:59:01.102Z"
   },
   {
    "duration": 3,
    "start_time": "2024-09-06T00:59:08.529Z"
   },
   {
    "duration": 15,
    "start_time": "2024-09-06T00:59:08.841Z"
   },
   {
    "duration": 4,
    "start_time": "2024-09-06T00:59:11.741Z"
   },
   {
    "duration": 15,
    "start_time": "2024-09-06T00:59:12.920Z"
   },
   {
    "duration": 3,
    "start_time": "2024-09-06T00:59:13.766Z"
   },
   {
    "duration": 5,
    "start_time": "2024-09-06T00:59:14.710Z"
   },
   {
    "duration": 22306,
    "start_time": "2024-09-06T00:59:18.023Z"
   },
   {
    "duration": 24,
    "start_time": "2024-09-06T01:05:20.666Z"
   },
   {
    "duration": 22,
    "start_time": "2024-09-06T01:05:24.951Z"
   },
   {
    "duration": 8,
    "start_time": "2024-09-06T01:05:28.531Z"
   },
   {
    "duration": 19,
    "start_time": "2024-09-06T01:05:38.609Z"
   },
   {
    "duration": 3,
    "start_time": "2024-09-06T01:05:39.691Z"
   },
   {
    "duration": 17,
    "start_time": "2024-09-06T01:05:42.411Z"
   },
   {
    "duration": 8,
    "start_time": "2024-09-06T01:05:49.368Z"
   },
   {
    "duration": 10,
    "start_time": "2024-09-06T01:05:58.549Z"
   },
   {
    "duration": 6,
    "start_time": "2024-09-06T01:06:02.342Z"
   },
   {
    "duration": 79,
    "start_time": "2024-09-06T01:06:05.608Z"
   },
   {
    "duration": 33,
    "start_time": "2024-09-06T01:07:22.122Z"
   },
   {
    "duration": 20121,
    "start_time": "2024-09-06T01:09:15.933Z"
   },
   {
    "duration": 20,
    "start_time": "2024-09-06T01:13:21.811Z"
   },
   {
    "duration": 3,
    "start_time": "2024-09-06T01:13:22.160Z"
   },
   {
    "duration": 6,
    "start_time": "2024-09-06T01:13:22.733Z"
   },
   {
    "duration": 11,
    "start_time": "2024-09-06T01:13:23.516Z"
   },
   {
    "duration": 11,
    "start_time": "2024-09-06T01:13:24.282Z"
   },
   {
    "duration": 7,
    "start_time": "2024-09-06T01:13:27.138Z"
   },
   {
    "duration": 442,
    "start_time": "2024-09-06T01:13:28.624Z"
   },
   {
    "duration": 4,
    "start_time": "2024-09-06T01:13:33.103Z"
   },
   {
    "duration": 7,
    "start_time": "2024-09-06T01:13:33.389Z"
   },
   {
    "duration": 4,
    "start_time": "2024-09-06T01:13:36.020Z"
   },
   {
    "duration": 12,
    "start_time": "2024-09-06T01:13:36.739Z"
   },
   {
    "duration": 6,
    "start_time": "2024-09-06T01:13:42.703Z"
   },
   {
    "duration": 5,
    "start_time": "2024-09-06T01:13:43.110Z"
   },
   {
    "duration": 15666,
    "start_time": "2024-09-06T01:13:48.920Z"
   },
   {
    "duration": 9,
    "start_time": "2024-09-06T01:36:34.532Z"
   },
   {
    "duration": 2886,
    "start_time": "2024-09-06T14:44:30.225Z"
   },
   {
    "duration": 38,
    "start_time": "2024-09-06T14:44:33.113Z"
   },
   {
    "duration": 3,
    "start_time": "2024-09-06T14:44:33.153Z"
   },
   {
    "duration": 400,
    "start_time": "2024-09-06T14:44:33.158Z"
   },
   {
    "duration": 0,
    "start_time": "2024-09-06T14:44:33.560Z"
   },
   {
    "duration": 0,
    "start_time": "2024-09-06T14:44:33.561Z"
   },
   {
    "duration": 0,
    "start_time": "2024-09-06T14:44:33.562Z"
   },
   {
    "duration": 25,
    "start_time": "2024-09-06T14:45:09.947Z"
   },
   {
    "duration": 349,
    "start_time": "2024-09-06T14:45:15.641Z"
   },
   {
    "duration": 3,
    "start_time": "2024-09-06T14:45:17.892Z"
   },
   {
    "duration": 29,
    "start_time": "2024-09-06T14:45:19.576Z"
   },
   {
    "duration": 24,
    "start_time": "2024-09-06T14:45:36.459Z"
   },
   {
    "duration": 22,
    "start_time": "2024-09-06T14:45:47.848Z"
   },
   {
    "duration": 2,
    "start_time": "2024-09-06T14:45:49.563Z"
   },
   {
    "duration": 23,
    "start_time": "2024-09-06T14:45:50.334Z"
   },
   {
    "duration": 7,
    "start_time": "2024-09-06T14:47:10.485Z"
   },
   {
    "duration": 4,
    "start_time": "2024-09-06T14:47:19.420Z"
   },
   {
    "duration": 23,
    "start_time": "2024-09-06T14:47:19.430Z"
   },
   {
    "duration": 3,
    "start_time": "2024-09-06T14:47:19.454Z"
   },
   {
    "duration": 5,
    "start_time": "2024-09-06T14:47:19.459Z"
   },
   {
    "duration": 8,
    "start_time": "2024-09-06T14:47:19.465Z"
   },
   {
    "duration": 9,
    "start_time": "2024-09-06T14:47:19.475Z"
   },
   {
    "duration": 5,
    "start_time": "2024-09-06T14:47:19.485Z"
   },
   {
    "duration": 640,
    "start_time": "2024-09-06T14:47:19.492Z"
   },
   {
    "duration": 4,
    "start_time": "2024-09-06T14:47:26.582Z"
   },
   {
    "duration": 7,
    "start_time": "2024-09-06T14:47:27.748Z"
   },
   {
    "duration": 8,
    "start_time": "2024-09-06T14:47:56.885Z"
   },
   {
    "duration": 6,
    "start_time": "2024-09-06T14:48:17.953Z"
   },
   {
    "duration": 12,
    "start_time": "2024-09-06T14:48:28.190Z"
   },
   {
    "duration": 4,
    "start_time": "2024-09-06T14:48:32.147Z"
   },
   {
    "duration": 18,
    "start_time": "2024-09-06T14:48:32.574Z"
   },
   {
    "duration": 4,
    "start_time": "2024-09-06T14:48:37.020Z"
   },
   {
    "duration": 5,
    "start_time": "2024-09-06T14:48:37.613Z"
   },
   {
    "duration": 36,
    "start_time": "2024-09-06T14:48:52.318Z"
   },
   {
    "duration": 14,
    "start_time": "2024-09-06T14:50:03.803Z"
   },
   {
    "duration": 329775,
    "start_time": "2024-09-06T14:57:35.022Z"
   },
   {
    "duration": 1813,
    "start_time": "2024-09-06T15:08:49.118Z"
   },
   {
    "duration": 1259763,
    "start_time": "2024-09-06T15:08:50.934Z"
   }
  ],
  "kernelspec": {
   "display_name": "Python 3 (ipykernel)",
   "language": "python",
   "name": "python3"
  },
  "language_info": {
   "codemirror_mode": {
    "name": "ipython",
    "version": 3
   },
   "file_extension": ".py",
   "mimetype": "text/x-python",
   "name": "python",
   "nbconvert_exporter": "python",
   "pygments_lexer": "ipython3",
   "version": "3.12.2"
  },
  "toc": {
   "base_numbering": 1,
   "nav_menu": {},
   "number_sections": true,
   "sideBar": true,
   "skip_h1_title": true,
   "title_cell": "Table of Contents",
   "title_sidebar": "Contents",
   "toc_cell": false,
   "toc_position": {},
   "toc_section_display": true,
   "toc_window_display": false
  }
 },
 "nbformat": 4,
 "nbformat_minor": 2
}
